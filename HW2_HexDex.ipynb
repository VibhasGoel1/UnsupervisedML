{
 "cells": [
  {
   "cell_type": "markdown",
   "metadata": {},
   "source": [
    "# BA 820 Homework 2\n",
    "\n",
    "HexDex:\n",
    "Aakash Reddy, Arjun Aggarwal, Lokendra Singh Badgujar, Sonal Kaur, Tamanna Jain, Vibhas Goel\n",
    "\n",
    "Reminder: you should not be sharing code across groups"
   ]
  },
  {
   "cell_type": "markdown",
   "metadata": {},
   "source": [
    "## Question 1: Clustering emails using Gaussian Mixture Models [50 pts]"
   ]
  },
  {
   "cell_type": "markdown",
   "metadata": {},
   "source": [
    "For this problem, we will be analyzing emails taken from the [Enron Email Dataset](https://www.cs.cmu.edu/~enron/). We have already curated the data for you in the `data/enron` directory, with one file per email (so there is no need to redownload the dataset as it is already included in this homework zip archive). The dataset includes a combination of \"spam\" and \"ham\" emails. Spam emails are unsolicited messages intended to sell a product or scam users into providing personal information, while ham emails represent everything that is not spam.\n",
    "\n",
    "The language used in spam emails tends to be considerably different from typical business emails. Most spam filters leverage this difference in word frequencies to detect spam as it arrives and filter it out of email inboxes. We will use Gaussian Mixture Models (GMMs) to cluster the emails and attempt to identify groups of emails which are likely to be spam."
   ]
  },
  {
   "cell_type": "markdown",
   "metadata": {},
   "source": [
    "### Part A: Construct a list of processed documents [10 points]"
   ]
  },
  {
   "cell_type": "markdown",
   "metadata": {},
   "source": [
    "Provided below is a function that returns a document present in a file given a filename. The function performs some preprocessing to (1) remove punctuation, (2),(3) remove whitespace and (4) lowercase all words. Using the `make_word_list` function, construct a list of processed documents."
   ]
  },
  {
   "cell_type": "code",
   "execution_count": 1,
   "metadata": {},
   "outputs": [],
   "source": [
    "import re\n",
    "import string\n",
    "import codecs\n",
    "\n",
    "def make_word_list(path):\n",
    "    \n",
    "    with codecs.open(path, \"r\", encoding='utf-8', errors='ignore') as f:\n",
    "        corpus_text = f.read()\n",
    "\n",
    "    for c in string.punctuation:\n",
    "        corpus_text = corpus_text.replace(c, \"\")  # -- (1)\n",
    "    \n",
    "    text = re.sub(r'\\S*\\d\\S*', '', corpus_text) # -- (2)\n",
    "    text = re.sub(r'[^\\w\\s]', '', text)         # -- (3)\n",
    "    \n",
    "    text = text.lower().split()           # -- (4)         \n",
    "    \n",
    "    li = []\n",
    "    for token in text:\n",
    "        li.append(token)\n",
    "\n",
    "    return \" \".join(li)"
   ]
  },
  {
   "cell_type": "code",
   "execution_count": 2,
   "metadata": {},
   "outputs": [],
   "source": [
    "import glob\n",
    "\n",
    "docs = []\n",
    "for f in glob.glob('./data/enron/*.txt'):\n",
    "    docs.append(make_word_list(f))"
   ]
  },
  {
   "cell_type": "code",
   "execution_count": 3,
   "metadata": {},
   "outputs": [
    {
     "data": {
      "text/plain": [
       "5171"
      ]
     },
     "execution_count": 3,
     "metadata": {},
     "output_type": "execute_result"
    }
   ],
   "source": [
    "len(docs)"
   ]
  },
  {
   "cell_type": "markdown",
   "metadata": {},
   "source": [
    "### Part B: Construct a document matrix [10 points]"
   ]
  },
  {
   "cell_type": "markdown",
   "metadata": {},
   "source": [
    "Next, construct a document matrix `X` as a matrix of [TF-IDF](https://en.wikipedia.org/wiki/Tf%E2%80%93idf) features for each document. TF-IDF features encode information about the word frequency within a document, weighted by the frequency of the same word for corpus as a whole.\n",
    "\n",
    "   - Use the `TfidfVectorizer` from [scikit-learn](http://scikit-learn.org/stable/modules/generated/sklearn.feature_extraction.text.TfidfVectorizer.html) to create the document matrix `X`.\n",
    "   - Set `min_df=50`; this drops words that don't occur in at least 50 documents.\n",
    "   - Set `stop_words=\"english\"` and `max_df=0.8` to filter out stop-words.\n",
    "   - Print the number of unique words in the vocabulary Hint: Look for the `vocabulary_` attribute in the `TfidfVectorizer` object after fitting the vectorizer to the data set. The vocabulary will also be needed in part (d)."
   ]
  },
  {
   "cell_type": "code",
   "execution_count": 5,
   "metadata": {},
   "outputs": [
    {
     "name": "stdout",
     "output_type": "stream",
     "text": [
      "Unique Words:1680\n"
     ]
    }
   ],
   "source": [
    "from sklearn.feature_extraction.text import TfidfVectorizer\n",
    "#ignore terms that appear in more than 80% of the documents--max_df\n",
    "#ignore terms that appear in less than 50 of the documents--min_df\n",
    "vector=TfidfVectorizer( stop_words='english',min_df=50, max_df=0.8)\n",
    "#Y=vector.fit_transform(docs)\n",
    "X=vector.fit_transform(docs).toarray()\n",
    "\n",
    "print(\"Unique Words:\"+str(len(vector.vocabulary_)))\n",
    "\n",
    "\n",
    "\n"
   ]
  },
  {
   "cell_type": "markdown",
   "metadata": {},
   "source": [
    "### Part C: Perform Clustering [10 points]"
   ]
  },
  {
   "cell_type": "markdown",
   "metadata": {},
   "source": [
    "Perform clustering on the document matrix `X` using GMMs. \n",
    "- Use the `GaussianMixture` module from [scikit-learn](http://scikit-learn.org/stable/modules/generated/sklearn.mixture.GaussianMixture.html) to cluster the documents.\n",
    "- Set the number of clusters (mixture components) to 3.\n",
    "- Print the number of documents assigned to each cluster."
   ]
  },
  {
   "cell_type": "code",
   "execution_count": 6,
   "metadata": {},
   "outputs": [
    {
     "name": "stdout",
     "output_type": "stream",
     "text": [
      "4231\n",
      "365\n",
      "575\n"
     ]
    }
   ],
   "source": [
    "from sklearn.mixture import GaussianMixture\n",
    "\n",
    "clusters=3\n",
    "\n",
    "model = GaussianMixture(n_components=clusters,random_state=42)\n",
    "model.fit(X)\n",
    "pred = model.predict(X)\n",
    "\n",
    "for i in range(clusters):\n",
    "    print((pred == i).sum())"
   ]
  },
  {
   "cell_type": "markdown",
   "metadata": {},
   "source": [
    "### Part D: Characterize the clusters [10 points]"
   ]
  },
  {
   "cell_type": "markdown",
   "metadata": {},
   "source": [
    "Now, we will attempt to characterize the clusters based on the frequency of spam-relevant words. \n",
    "- Select 3 \"spammy\" words from the vocabulary that you expect to occur frequently in spam emails and less frequently in normal business emails (e.g., 'click', 'www', 'offer'). Construct a list, `spam_indices`, storing the indices of the spammy words you selected in the vocabulary generated by `TfidfVectorizer`.\n",
    "- Select 3 \"hammy\" words from the vocabulary you think will occur frequently in business emails and infrequently in spam emails (e.g., 'meeting', 'attached', 'review'). Construct a list, `ham_indices`, storing the indices of the hammy words you selected in the vocabulary generated by `TfidfVectorizer`.\n",
    "- Use the function provided below, `plot_spam_words_by_cluster`, to plot the average TF-IDF features for your selected spammy words and hammy words for each cluster. The function takes the following parameters:\n",
    "    - `X` is a matrix of TF-IDF features (rows index documents, columns index terms).\n",
    "    - `predicted` is predicted cluster assignments returned by `GaussianMixture.predict()`\n",
    "    - `n_clusters` is the number of clusters. This should match the number of clusters from your GMM.\n",
    "    - `spam_indices` is a list of indices of spammy words in the vocabulary.\n",
    "    - `ham_indices` is a list of indices of hammy (typical business) words in the vocabulary."
   ]
  },
  {
   "cell_type": "code",
   "execution_count": 7,
   "metadata": {},
   "outputs": [],
   "source": [
    "def plot_spam_words_by_cluster(X, predicted, n_clusters, spam_indices, ham_indices):\n",
    "    import numpy as np\n",
    "    import matplotlib.pyplot as plt\n",
    "    \n",
    "    # Calculate mean TF-IDF features for each cluster\n",
    "    mean_tfidf_spam = []\n",
    "    mean_tfidf_ham = []\n",
    "    for spam in spam_indices:\n",
    "        mean_tfidf_spam.append([])\n",
    "    for ham in ham_indices:\n",
    "        mean_tfidf_ham.append([])\n",
    "    \n",
    "    for i in range(n_clusters):\n",
    "        for j, spam_idx in enumerate(spam_indices):\n",
    "            mean_tfidf_spam[j].append(X[predicted==i, spam_idx].mean())\n",
    "        for j, ham_idx in enumerate(ham_indices):\n",
    "            mean_tfidf_ham[j].append(X[predicted==i, ham_idx].mean())\n",
    "    \n",
    "    # Generate plot\n",
    "    fig, ax = plt.subplots()\n",
    "\n",
    "    ind = np.arange(n_clusters)    # the x locations for the groups\n",
    "    width = 0.10         # the width of the bars\n",
    "\n",
    "    # Plot spam bars\n",
    "    for i, val in enumerate(mean_tfidf_spam):\n",
    "        spam_bar = ax.bar(ind - (len(mean_tfidf_spam)-i-1)*width, val, width, color='r', bottom=0)\n",
    "\n",
    "    # Plot ham bars\n",
    "    for i, val in enumerate(mean_tfidf_ham):\n",
    "        ham_bar = ax.bar(ind + (len(mean_tfidf_ham)-i)*width, val, width,\n",
    "                color='y', bottom=0)\n",
    "\n",
    "    ax.set_title('Mean TF-IDF Features by Cluster for Spam-Relevant Words')\n",
    "    ax.set_xticks(ind + width / 2)\n",
    "    xticklabels = []\n",
    "    for i in range(n_clusters):\n",
    "        xticklabels.append('Cluster ' + str(i) + '\\n(n=' + str((predicted==i).sum()) + ')')\n",
    "    ax.set_xticklabels(xticklabels)\n",
    "\n",
    "    ax.legend((spam_bar[0], ham_bar[0]), ('Spammy words', 'Hammy words'))\n",
    "    ax.autoscale_view()\n",
    "    ax.set_ylabel('Mean TF-IDF')\n",
    "    plt.show()"
   ]
  },
  {
   "cell_type": "code",
   "execution_count": 8,
   "metadata": {},
   "outputs": [
    {
     "data": {
      "image/png": "[encoded data removed]",
      "text/plain": [
       "<Figure size 432x288 with 1 Axes>"
      ]
     },
     "metadata": {
      "needs_background": "light"
     },
     "output_type": "display_data"
    }
   ],
   "source": [
    "spam= ['click','www','offer']\n",
    "\n",
    "hamm= ['meeting','attached','review']\n",
    "\n",
    "spam_indices= [vector.vocabulary_[i] for i in spam]\n",
    "ham_indices= [vector.vocabulary_[j] for j in hamm]\n",
    "\n",
    "plot_spam_words_by_cluster(X,pred, clusters, spam_indices, ham_indices)"
   ]
  },
  {
   "cell_type": "markdown",
   "metadata": {},
   "source": [
    "### Part E: Interpret results [10 points]"
   ]
  },
  {
   "cell_type": "markdown",
   "metadata": {},
   "source": [
    "From the plot generated in part (d), do any of the clusters correspond to spam emails, based on the frequency of spammy and hammy words? Do any of the clusters appear to correspond to typical business emails (ham)? \n",
    "\n",
    "Re-run your analysis with a different choice for the number of clusters in your GMM (e.g., `n_clusters=5` or `n_clusters=2`). How does changing the number of clusters affect your results? Does one choice of `n_clusters` appear better than another for locating clusters of spam emails?"
   ]
  },
  {
   "cell_type": "code",
   "execution_count": 9,
   "metadata": {},
   "outputs": [
    {
     "data": {
      "image/png": "[encoded data removed]",
      "text/plain": [
       "<Figure size 432x288 with 1 Axes>"
      ]
     },
     "metadata": {
      "needs_background": "light"
     },
     "output_type": "display_data"
    }
   ],
   "source": [
    "\n",
    "clusters_2=2\n",
    "\n",
    "model = GaussianMixture(n_components=clusters_2, random_state=42)\n",
    "model.fit(X)\n",
    "pred = model.predict(X)\n",
    "\n",
    "#for i in range(clusters_2):\n",
    "#    print((pred == i).sum())\n",
    "plot_spam_words_by_cluster(X,pred, clusters_2, spam_indices, ham_indices)"
   ]
  },
  {
   "cell_type": "code",
   "execution_count": 10,
   "metadata": {},
   "outputs": [
    {
     "data": {
      "image/png": "[encoded data removed]",
      "text/plain": [
       "<Figure size 432x288 with 1 Axes>"
      ]
     },
     "metadata": {
      "needs_background": "light"
     },
     "output_type": "display_data"
    }
   ],
   "source": [
    "\n",
    "clusters_5=5\n",
    "\n",
    "model = GaussianMixture(n_components=clusters_5, random_state=42)\n",
    "model.fit(X)\n",
    "pred = model.predict(X)\n",
    "\n",
    "#for i in range(clusters_2):\n",
    "#    print((pred == i).sum())\n",
    "plot_spam_words_by_cluster(X,pred, clusters_5, spam_indices, ham_indices)"
   ]
  },
  {
   "cell_type": "markdown",
   "metadata": {},
   "source": [
    "The plot with n_clusters = 5 gave the best results. Clusters 0, 2 & 3 correspond to spam email and clusters 1 & 4 correspond to ham emails. \n",
    "\n",
    "When we performed the analysis with n_clusters = 3, we observed a significant overlap in cluster 0. Cluster 1 corresponded to ham emails and cluster 0 and cluster 2 corresponded to spam emails while cluster 1 corresponded to business emails. Similarly, with n_cluster = 2, we observed overlap of ham and spam email in both clusters."
   ]
  },
  {
   "cell_type": "markdown",
   "metadata": {},
   "source": [
    "## Question 2: Latent \"Purposes\" in Mobile Apps [50 points]\n",
    "\n",
    "\n",
    "Think of Android applications as \"documents\", where \"words\" are the \"permissions\" that each app requests. Each app has a set of latent \"purposes\" (topics); a \"purpose\" may be a specific task (such as taking photographs and uploading them to the internet), and an application may have a mixture of purposes of varying strength.\n",
    "\n",
    "Can we uncover these purposes from a dataset of Android applications and the permissions they request?"
   ]
  },
  {
   "cell_type": "code",
   "execution_count": 4,
   "metadata": {},
   "outputs": [],
   "source": [
    "import numpy as np\n",
    "import matplotlib.pyplot as plt\n",
    "import pandas as pd\n",
    "%matplotlib inline"
   ]
  },
  {
   "cell_type": "markdown",
   "metadata": {},
   "source": [
    "### Part A: Load the data [0 points]"
   ]
  },
  {
   "cell_type": "markdown",
   "metadata": {},
   "source": [
    "The [dataset](http://www.mariofrank.net/andrApps/) contains ~180,000 applications from the Android app store, including each app's name, description and permissions requested. For more about Android app permissions, see [this report](http://www.pewinternet.org/2015/11/10/an-analysis-of-android-app-permissions/).\n",
    "\n",
    "   * Download the data and unzip it into the same folder as this notebook.\n",
    "   * Rename the CSV file to \"android.csv\".\n",
    "   * Run the cells below to load the data into the notebook.\n",
    "\n",
    "This may take up ~2GB of RAM."
   ]
  },
  {
   "cell_type": "code",
   "execution_count": 5,
   "metadata": {},
   "outputs": [],
   "source": [
    "df = pd.read_csv(\"/Users/vibhasgoel/Downloads/android.csv\", sep=\",\",  thousands=\",\")"
   ]
  },
  {
   "cell_type": "code",
   "execution_count": 6,
   "metadata": {},
   "outputs": [],
   "source": [
    "df[\"Number of ratings\"] = df[\"Number of ratings\"].astype(int) # fix data type\n",
    "df = df.drop_duplicates(subset=[\"App\"]).reset_index(drop=True)"
   ]
  },
  {
   "cell_type": "code",
   "execution_count": 7,
   "metadata": {},
   "outputs": [
    {
     "data": {
      "text/html": [
       "<div>\n",
       "<style scoped>\n",
       "    .dataframe tbody tr th:only-of-type {\n",
       "        vertical-align: middle;\n",
       "    }\n",
       "\n",
       "    .dataframe tbody tr th {\n",
       "        vertical-align: top;\n",
       "    }\n",
       "\n",
       "    .dataframe thead th {\n",
       "        text-align: right;\n",
       "    }\n",
       "</style>\n",
       "<table border=\"1\" class=\"dataframe\">\n",
       "  <thead>\n",
       "    <tr style=\"text-align: right;\">\n",
       "      <th></th>\n",
       "      <th>App</th>\n",
       "      <th>Package</th>\n",
       "      <th>Category</th>\n",
       "      <th>Description</th>\n",
       "      <th>Rating</th>\n",
       "      <th>Number of ratings</th>\n",
       "      <th>Price</th>\n",
       "      <th>Related apps</th>\n",
       "      <th>Dangerous permissions count</th>\n",
       "      <th>Safe permissions count</th>\n",
       "      <th>...</th>\n",
       "      <th>Your personal information : read Browser's history and bookmarks (D)</th>\n",
       "      <th>Your personal information : read calendar events (D)</th>\n",
       "      <th>Your personal information : read contact data (D)</th>\n",
       "      <th>Your personal information : read sensitive log data (D)</th>\n",
       "      <th>Your personal information : read user defined dictionary (D)</th>\n",
       "      <th>Your personal information : retrieve system internal state (S)</th>\n",
       "      <th>Your personal information : set alarm in alarm clock (S)</th>\n",
       "      <th>Your personal information : write Browser's history and bookmarks (D)</th>\n",
       "      <th>Your personal information : write contact data (D)</th>\n",
       "      <th>Your personal information : write to user defined dictionary (S)</th>\n",
       "    </tr>\n",
       "  </thead>\n",
       "  <tbody>\n",
       "    <tr>\n",
       "      <th>0</th>\n",
       "      <td>Google Maps</td>\n",
       "      <td>com.google.android.apps.maps</td>\n",
       "      <td>Travel &amp; Local</td>\n",
       "      <td>Download the latest release of Google Maps, an...</td>\n",
       "      <td>4.4</td>\n",
       "      <td>1438259</td>\n",
       "      <td>$0.00</td>\n",
       "      <td>{com.jsdfproductions.ctatrackerpro, com.alk.co...</td>\n",
       "      <td>17.0</td>\n",
       "      <td>8</td>\n",
       "      <td>...</td>\n",
       "      <td>0</td>\n",
       "      <td>0</td>\n",
       "      <td>1</td>\n",
       "      <td>0</td>\n",
       "      <td>0</td>\n",
       "      <td>0</td>\n",
       "      <td>0</td>\n",
       "      <td>0</td>\n",
       "      <td>1</td>\n",
       "      <td>0</td>\n",
       "    </tr>\n",
       "    <tr>\n",
       "      <th>1</th>\n",
       "      <td>Snowfall Live Wallpaper</td>\n",
       "      <td>fishnoodle.snowfall_free</td>\n",
       "      <td>Personalization</td>\n",
       "      <td>Snowfall Live Wallpaper: Wintertime on your ho...</td>\n",
       "      <td>4.3</td>\n",
       "      <td>18147</td>\n",
       "      <td>$0.00</td>\n",
       "      <td>{colfore.wallpaper.snowfree, com.tabsoft.wallp...</td>\n",
       "      <td>0.0</td>\n",
       "      <td>0</td>\n",
       "      <td>...</td>\n",
       "      <td>0</td>\n",
       "      <td>0</td>\n",
       "      <td>0</td>\n",
       "      <td>0</td>\n",
       "      <td>0</td>\n",
       "      <td>0</td>\n",
       "      <td>0</td>\n",
       "      <td>0</td>\n",
       "      <td>0</td>\n",
       "      <td>0</td>\n",
       "    </tr>\n",
       "    <tr>\n",
       "      <th>2</th>\n",
       "      <td>Aquarium Live Wallpaper</td>\n",
       "      <td>fishnoodle.aquarium_free</td>\n",
       "      <td>Personalization</td>\n",
       "      <td>A beautiful tropical fish tank live wallpaper!...</td>\n",
       "      <td>4.1</td>\n",
       "      <td>62145</td>\n",
       "      <td>$0.00</td>\n",
       "      <td>{com.convisual.lwp.fishometerlite, com.accessl...</td>\n",
       "      <td>0.0</td>\n",
       "      <td>0</td>\n",
       "      <td>...</td>\n",
       "      <td>0</td>\n",
       "      <td>0</td>\n",
       "      <td>0</td>\n",
       "      <td>0</td>\n",
       "      <td>0</td>\n",
       "      <td>0</td>\n",
       "      <td>0</td>\n",
       "      <td>0</td>\n",
       "      <td>0</td>\n",
       "      <td>0</td>\n",
       "    </tr>\n",
       "  </tbody>\n",
       "</table>\n",
       "<p>3 rows × 183 columns</p>\n",
       "</div>"
      ],
      "text/plain": [
       "                       App                       Package         Category  \\\n",
       "0              Google Maps  com.google.android.apps.maps   Travel & Local   \n",
       "1  Snowfall Live Wallpaper      fishnoodle.snowfall_free  Personalization   \n",
       "2  Aquarium Live Wallpaper      fishnoodle.aquarium_free  Personalization   \n",
       "\n",
       "                                         Description  Rating  \\\n",
       "0  Download the latest release of Google Maps, an...     4.4   \n",
       "1  Snowfall Live Wallpaper: Wintertime on your ho...     4.3   \n",
       "2  A beautiful tropical fish tank live wallpaper!...     4.1   \n",
       "\n",
       "   Number of ratings  Price  \\\n",
       "0            1438259  $0.00   \n",
       "1              18147  $0.00   \n",
       "2              62145  $0.00   \n",
       "\n",
       "                                        Related apps  \\\n",
       "0  {com.jsdfproductions.ctatrackerpro, com.alk.co...   \n",
       "1  {colfore.wallpaper.snowfree, com.tabsoft.wallp...   \n",
       "2  {com.convisual.lwp.fishometerlite, com.accessl...   \n",
       "\n",
       "   Dangerous permissions count  Safe permissions count  ...  \\\n",
       "0                         17.0                       8  ...   \n",
       "1                          0.0                       0  ...   \n",
       "2                          0.0                       0  ...   \n",
       "\n",
       "   Your personal information : read Browser's history and bookmarks (D)  \\\n",
       "0                                                  0                      \n",
       "1                                                  0                      \n",
       "2                                                  0                      \n",
       "\n",
       "   Your personal information : read calendar events (D)  \\\n",
       "0                                                  0      \n",
       "1                                                  0      \n",
       "2                                                  0      \n",
       "\n",
       "   Your personal information : read contact data (D)  \\\n",
       "0                                                  1   \n",
       "1                                                  0   \n",
       "2                                                  0   \n",
       "\n",
       "   Your personal information : read sensitive log data (D)  \\\n",
       "0                                                  0         \n",
       "1                                                  0         \n",
       "2                                                  0         \n",
       "\n",
       "   Your personal information : read user defined dictionary (D)  \\\n",
       "0                                                  0              \n",
       "1                                                  0              \n",
       "2                                                  0              \n",
       "\n",
       "   Your personal information : retrieve system internal state (S)  \\\n",
       "0                                                  0                \n",
       "1                                                  0                \n",
       "2                                                  0                \n",
       "\n",
       "   Your personal information : set alarm in alarm clock (S)  \\\n",
       "0                                                  0          \n",
       "1                                                  0          \n",
       "2                                                  0          \n",
       "\n",
       "   Your personal information : write Browser's history and bookmarks (D)  \\\n",
       "0                                                  0                       \n",
       "1                                                  0                       \n",
       "2                                                  0                       \n",
       "\n",
       "   Your personal information : write contact data (D)  \\\n",
       "0                                                  1    \n",
       "1                                                  0    \n",
       "2                                                  0    \n",
       "\n",
       "   Your personal information : write to user defined dictionary (S)  \n",
       "0                                                  0                 \n",
       "1                                                  0                 \n",
       "2                                                  0                 \n",
       "\n",
       "[3 rows x 183 columns]"
      ]
     },
     "execution_count": 7,
     "metadata": {},
     "output_type": "execute_result"
    }
   ],
   "source": [
    "df.head(n=3)"
   ]
  },
  {
   "cell_type": "markdown",
   "metadata": {},
   "source": [
    "### Part B: Convert each app into a \"document\" [0 points]\n",
    "\n",
    "The code below does the following:\n",
    "\n",
    "   * Filter out all the columns except the permission columns.\n",
    "   * Convert this dataframe into a numpy matrix.\n",
    "\n",
    "There are thus 180295 apps (documents) and 173 permissions (words).\n",
    "\n",
    "   - `X` is the \"document\" or \"word-frequency\" matrix.\n",
    "   - `permission_columns` contains the words ordered by their column index in X.\n",
    "   - `app_names` contains the application names ordered by their row index in X.\n",
    "   - `app_ratings` contains the *number* of application ratings (not the ratings themselves)."
   ]
  },
  {
   "cell_type": "code",
   "execution_count": 8,
   "metadata": {},
   "outputs": [],
   "source": [
    "permission_columns = list(df.columns[10:])\n",
    "app_names = list(df[\"App\"])\n",
    "app_ratings = np.array(df[\"Number of ratings\"])\n",
    "df_perms = df[permission_columns]\n",
    "X = df_perms.values\n",
    "del df # uncomment to free up RAM\n",
    "del df_perms # uncomment to free up RAM"
   ]
  },
  {
   "cell_type": "markdown",
   "metadata": {},
   "source": [
    "### Part C: Downweight \"stopwords\" [2.5 points]\n",
    "\n",
    "There are some permissions requested by almost all applications (like \"INTERNET\"), they are similar to stop-words (\"the\", \"and\", etc.) in natural language. We can downweight them by TF-IDF normalization.\n",
    "\n",
    "   * Use the `TfidfTransformer` class in `scikit-learn` to transform X."
   ]
  },
  {
   "cell_type": "code",
   "execution_count": 10,
   "metadata": {},
   "outputs": [],
   "source": [
    "from sklearn.feature_extraction.text import TfidfTransformer\n",
    "x_tfidf = TfidfTransformer().fit_transform(X)"
   ]
  },
  {
   "cell_type": "markdown",
   "metadata": {},
   "source": [
    "### Part D: Discover 10 \"topics\" [2.5 points]\n",
    "\n",
    "   * Use the `LatentDirichletAllocation` class in `scikit-learn` to fit 10 topics to the data.\n",
    "   * Use 10 max iterations, set `n_jobs=-1` to use all cores on your machine (if it helps).\n",
    "   * Feel free to understand and play around with other parameters.\n",
    "   * This may take around 3 minutes to run."
   ]
  },
  {
   "cell_type": "code",
   "execution_count": 12,
   "metadata": {},
   "outputs": [
    {
     "name": "stdout",
     "output_type": "stream",
     "text": [
      "CPU times: user 13.3 s, sys: 1.13 s, total: 14.4 s\n",
      "Wall time: 4min 54s\n"
     ]
    },
    {
     "data": {
      "text/html": [
       "<style>#sk-container-id-1 {color: black;background-color: white;}#sk-container-id-1 pre{padding: 0;}#sk-container-id-1 div.sk-toggleable {background-color: white;}#sk-container-id-1 label.sk-toggleable__label {cursor: pointer;display: block;width: 100%;margin-bottom: 0;padding: 0.3em;box-sizing: border-box;text-align: center;}#sk-container-id-1 label.sk-toggleable__label-arrow:before {content: \"▸\";float: left;margin-right: 0.25em;color: #696969;}#sk-container-id-1 label.sk-toggleable__label-arrow:hover:before {color: black;}#sk-container-id-1 div.sk-estimator:hover label.sk-toggleable__label-arrow:before {color: black;}#sk-container-id-1 div.sk-toggleable__content {max-height: 0;max-width: 0;overflow: hidden;text-align: left;background-color: #f0f8ff;}#sk-container-id-1 div.sk-toggleable__content pre {margin: 0.2em;color: black;border-radius: 0.25em;background-color: #f0f8ff;}#sk-container-id-1 input.sk-toggleable__control:checked~div.sk-toggleable__content {max-height: 200px;max-width: 100%;overflow: auto;}#sk-container-id-1 input.sk-toggleable__control:checked~label.sk-toggleable__label-arrow:before {content: \"▾\";}#sk-container-id-1 div.sk-estimator input.sk-toggleable__control:checked~label.sk-toggleable__label {background-color: #d4ebff;}#sk-container-id-1 div.sk-label input.sk-toggleable__control:checked~label.sk-toggleable__label {background-color: #d4ebff;}#sk-container-id-1 input.sk-hidden--visually {border: 0;clip: rect(1px 1px 1px 1px);clip: rect(1px, 1px, 1px, 1px);height: 1px;margin: -1px;overflow: hidden;padding: 0;position: absolute;width: 1px;}#sk-container-id-1 div.sk-estimator {font-family: monospace;background-color: #f0f8ff;border: 1px dotted black;border-radius: 0.25em;box-sizing: border-box;margin-bottom: 0.5em;}#sk-container-id-1 div.sk-estimator:hover {background-color: #d4ebff;}#sk-container-id-1 div.sk-parallel-item::after {content: \"\";width: 100%;border-bottom: 1px solid gray;flex-grow: 1;}#sk-container-id-1 div.sk-label:hover label.sk-toggleable__label {background-color: #d4ebff;}#sk-container-id-1 div.sk-serial::before {content: \"\";position: absolute;border-left: 1px solid gray;box-sizing: border-box;top: 0;bottom: 0;left: 50%;z-index: 0;}#sk-container-id-1 div.sk-serial {display: flex;flex-direction: column;align-items: center;background-color: white;padding-right: 0.2em;padding-left: 0.2em;position: relative;}#sk-container-id-1 div.sk-item {position: relative;z-index: 1;}#sk-container-id-1 div.sk-parallel {display: flex;align-items: stretch;justify-content: center;background-color: white;position: relative;}#sk-container-id-1 div.sk-item::before, #sk-container-id-1 div.sk-parallel-item::before {content: \"\";position: absolute;border-left: 1px solid gray;box-sizing: border-box;top: 0;bottom: 0;left: 50%;z-index: -1;}#sk-container-id-1 div.sk-parallel-item {display: flex;flex-direction: column;z-index: 1;position: relative;background-color: white;}#sk-container-id-1 div.sk-parallel-item:first-child::after {align-self: flex-end;width: 50%;}#sk-container-id-1 div.sk-parallel-item:last-child::after {align-self: flex-start;width: 50%;}#sk-container-id-1 div.sk-parallel-item:only-child::after {width: 0;}#sk-container-id-1 div.sk-dashed-wrapped {border: 1px dashed gray;margin: 0 0.4em 0.5em 0.4em;box-sizing: border-box;padding-bottom: 0.4em;background-color: white;}#sk-container-id-1 div.sk-label label {font-family: monospace;font-weight: bold;display: inline-block;line-height: 1.2em;}#sk-container-id-1 div.sk-label-container {text-align: center;}#sk-container-id-1 div.sk-container {/* jupyter's `normalize.less` sets `[hidden] { display: none; }` but bootstrap.min.css set `[hidden] { display: none !important; }` so we also need the `!important` here to be able to override the default hidden behavior on the sphinx rendered scikit-learn.org. See: https://github.com/scikit-learn/scikit-learn/issues/21755 */display: inline-block !important;position: relative;}#sk-container-id-1 div.sk-text-repr-fallback {display: none;}</style><div id=\"sk-container-id-1\" class=\"sk-top-container\"><div class=\"sk-text-repr-fallback\"><pre>LatentDirichletAllocation(n_jobs=-1, random_state=42)</pre><b>In a Jupyter environment, please rerun this cell to show the HTML representation or trust the notebook. <br />On GitHub, the HTML representation is unable to render, please try loading this page with nbviewer.org.</b></div><div class=\"sk-container\" hidden><div class=\"sk-item\"><div class=\"sk-estimator sk-toggleable\"><input class=\"sk-toggleable__control sk-hidden--visually\" id=\"sk-estimator-id-1\" type=\"checkbox\" checked><label for=\"sk-estimator-id-1\" class=\"sk-toggleable__label sk-toggleable__label-arrow\">LatentDirichletAllocation</label><div class=\"sk-toggleable__content\"><pre>LatentDirichletAllocation(n_jobs=-1, random_state=42)</pre></div></div></div></div></div>"
      ],
      "text/plain": [
       "LatentDirichletAllocation(n_jobs=-1, random_state=42)"
      ]
     },
     "execution_count": 12,
     "metadata": {},
     "output_type": "execute_result"
    }
   ],
   "source": [
    "%%time\n",
    "from sklearn.decomposition import LatentDirichletAllocation\n",
    "lda = LatentDirichletAllocation(n_components=10,n_jobs=-1, random_state=42,max_iter=10)\n",
    "lda.fit(x_tfidf)"
   ]
  },
  {
   "cell_type": "markdown",
   "metadata": {},
   "source": [
    "Now each app can be viewed as a distribution over these 10 topics, and each topic is a distribution over all the permissions in the data."
   ]
  },
  {
   "cell_type": "markdown",
   "metadata": {},
   "source": [
    "### Part E: List the top 10 \"words\" in each topic [15 points]\n",
    "\n",
    "Do any of the topics correspond to meaningful app \"purposes\"? List the ones you find meaningful below:\n",
    "\n",
    "   * Topic #i: \"your interpretation\""
   ]
  },
  {
   "cell_type": "code",
   "execution_count": 14,
   "metadata": {},
   "outputs": [
    {
     "name": "stdout",
     "output_type": "stream",
     "text": [
      "Topic #0:\n",
      "   Services that cost you money : send SMS messages (D) probability: 0.0820\n",
      "   Hardware controls : record audio (D) probability: 0.0706\n",
      "   Your personal information : read contact data (D) probability: 0.0525\n",
      "   Your messages : receive SMS (D) probability: 0.0514\n",
      "   Phone calls : read phone state and identity (D) probability: 0.0409\n",
      "   Your messages : read SMS or MMS (D) probability: 0.0407\n",
      "   Phone calls : intercept outgoing calls (D) probability: 0.0397\n",
      "   Network communication : full Internet access (D) probability: 0.0367\n",
      "   System tools : automatically start at boot (S) probability: 0.0353\n",
      "   Network communication : create Bluetooth connections (D) probability: 0.0348\n",
      "\n",
      "Topic #1:\n",
      "   Network communication : receive data from Internet (S) probability: 0.2648\n",
      "   Network communication : view network state (S) probability: 0.0912\n",
      "   System tools : prevent device from sleeping (D) probability: 0.0802\n",
      "   Hardware controls : control vibrator (S) probability: 0.0771\n",
      "   Network communication : full Internet access (D) probability: 0.0704\n",
      "   Phone calls : read phone state and identity (D) probability: 0.0692\n",
      "   Storage : modify/delete USB storage contents modify/delete SD card contents (D) probability: 0.0658\n",
      "   System tools : automatically start at boot (S) probability: 0.0607\n",
      "   Your location : fine (GPS) location (D) probability: 0.0592\n",
      "   Your location : coarse (network-based) location (D) probability: 0.0451\n",
      "\n",
      "Topic #2:\n",
      "   Your accounts : discover known accounts (S) probability: 0.1089\n",
      "   Your personal information : read calendar events (D) probability: 0.0868\n",
      "   Your personal information : add or modify calendar events and send email to guests (D) probability: 0.0817\n",
      "   Hardware controls : control flashlight (S) probability: 0.0583\n",
      "   Hardware controls : control vibrator (S) probability: 0.0571\n",
      "   Storage : modify/delete USB storage contents modify/delete SD card contents (D) probability: 0.0569\n",
      "   Network communication : view network state (S) probability: 0.0566\n",
      "   System tools : prevent device from sleeping (D) probability: 0.0509\n",
      "   Network communication : full Internet access (D) probability: 0.0499\n",
      "   Your location : coarse (network-based) location (D) probability: 0.0497\n",
      "\n",
      "Topic #3:\n",
      "   Your location : fine (GPS) location (D) probability: 0.1779\n",
      "   Your location : coarse (network-based) location (D) probability: 0.1723\n",
      "   Network communication : full Internet access (D) probability: 0.1404\n",
      "   Storage : modify/delete USB storage contents modify/delete SD card contents (D) probability: 0.1232\n",
      "   Hardware controls : take pictures and videos (D) probability: 0.0889\n",
      "   Network communication : view network state (S) probability: 0.0857\n",
      "   Services that cost you money : directly call phone numbers (D) probability: 0.0843\n",
      "   Phone calls : read phone state and identity (D) probability: 0.0697\n",
      "   System tools : retrieve running applications (D) probability: 0.0565\n",
      "   Hardware controls : control vibrator (S) probability: 0.0004\n",
      "\n",
      "Topic #4:\n",
      "   Your personal information : read contact data (D) probability: 0.1041\n",
      "   Your location : fine (GPS) location (D) probability: 0.0670\n",
      "   Your location : coarse (network-based) location (D) probability: 0.0620\n",
      "   Network communication : full Internet access (D) probability: 0.0602\n",
      "   Phone calls : read phone state and identity (D) probability: 0.0571\n",
      "   Network communication : view network state (S) probability: 0.0547\n",
      "   Storage : modify/delete USB storage contents modify/delete SD card contents (D) probability: 0.0546\n",
      "   Your personal information : write contact data (D) probability: 0.0515\n",
      "   Your location : mock location sources for testing (D) probability: 0.0490\n",
      "   Your location : access extra location provider commands (S) probability: 0.0461\n",
      "\n",
      "Topic #5:\n",
      "   Phone calls : read phone state and identity (D) probability: 0.2873\n",
      "   Network communication : view network state (S) probability: 0.1808\n",
      "   Network communication : full Internet access (D) probability: 0.1662\n",
      "   Network communication : view Wi-Fi state (S) probability: 0.1563\n",
      "   Storage : modify/delete USB storage contents modify/delete SD card contents (D) probability: 0.1441\n",
      "   Your location : fine (GPS) location (D) probability: 0.0277\n",
      "   Your location : coarse (network-based) location (D) probability: 0.0263\n",
      "   Hardware controls : control vibrator (S) probability: 0.0106\n",
      "   Your accounts : Google Maps (D) probability: 0.0001\n",
      "   Your accounts : Google Voice (D) probability: 0.0000\n",
      "\n",
      "Topic #6:\n",
      "   Hardware controls : control vibrator (S) probability: 0.2824\n",
      "   System tools : automatically start at boot (S) probability: 0.1142\n",
      "   Network communication : full Internet access (D) probability: 0.1063\n",
      "   Network communication : view network state (S) probability: 0.0811\n",
      "   Phone calls : read phone state and identity (D) probability: 0.0579\n",
      "   Storage : modify/delete USB storage contents modify/delete SD card contents (D) probability: 0.0463\n",
      "   System tools : prevent device from sleeping (D) probability: 0.0425\n",
      "   Your location : coarse (network-based) location (D) probability: 0.0389\n",
      "   System tools : disable keylock (D) probability: 0.0330\n",
      "   Network communication : view Wi-Fi state (S) probability: 0.0325\n",
      "\n",
      "Topic #7:\n",
      "   System tools : set wallpaper (S) probability: 0.3274\n",
      "   Storage : modify/delete USB storage contents modify/delete SD card contents (D) probability: 0.0922\n",
      "   System tools : modify global system settings (D) probability: 0.0897\n",
      "   Network communication : full Internet access (D) probability: 0.0890\n",
      "   System tools : mount and unmount filesystems (D) probability: 0.0820\n",
      "   Network communication : view network state (S) probability: 0.0812\n",
      "   Phone calls : read phone state and identity (D) probability: 0.0371\n",
      "   System tools : retrieve running applications (D) probability: 0.0358\n",
      "   System tools : set wallpaper size hints (S) probability: 0.0318\n",
      "   Default : change screen orientation (S) probability: 0.0162\n",
      "\n",
      "Topic #8:\n",
      "   System tools : prevent device from sleeping (D) probability: 0.5392\n",
      "   Network communication : full Internet access (D) probability: 0.1179\n",
      "   Storage : modify/delete USB storage contents modify/delete SD card contents (D) probability: 0.1100\n",
      "   Network communication : view network state (S) probability: 0.0892\n",
      "   Hardware controls : control vibrator (S) probability: 0.0654\n",
      "   System tools : change your UI settings (D) probability: 0.0531\n",
      "   Default : directly call any phone numbers (S) probability: 0.0126\n",
      "   System tools : make application always run (D) probability: 0.0072\n",
      "   Default : force device reboot (S) probability: 0.0030\n",
      "   Default : access the cache filesystem (S) probability: 0.0003\n",
      "\n",
      "Topic #9:\n",
      "   Network communication : full Internet access (D) probability: 0.6187\n",
      "   Network communication : view network state (S) probability: 0.2752\n",
      "   Storage : modify/delete USB storage contents modify/delete SD card contents (D) probability: 0.1057\n",
      "   Network communication : download files without notification (S) probability: 0.0000\n",
      "   Default : start IM service (S) probability: 0.0000\n",
      "   Hardware controls : record audio (D) probability: 0.0000\n",
      "   Hardware controls : control vibrator (S) probability: 0.0000\n",
      "   Services that cost you money : send SMS messages (D) probability: 0.0000\n",
      "   Your accounts : act as the AccountManagerService (S) probability: 0.0000\n",
      "   Your accounts : act as an account authenticator (D) probability: 0.0000\n",
      "\n"
     ]
    }
   ],
   "source": [
    "#top_words = 10\n",
    "#f_names = permission_columns\n",
    "#probable_words = []\n",
    "\n",
    "#for topic_idx, topic in enumerate(lda.components_):\n",
    "#    topic_prob = topic / topic.sum()\n",
    "#    msg = \"Topic #%d: \\n\" % topic_idx\n",
    "#    msg += \"\\n\".join([f_names[i] + ' probability: %.4f' % topic_prob[i]\n",
    "#                            for i in topic_prob.argsort()[:-top_words-1:-1]])\n",
    "#    probable_words.append(\"\".join([f_names[i]\n",
    "#                                            for i in topic.argsort()[:-top_words-1:-1]]))\n",
    "#    print(msg)\n",
    "#    print(\"\\n\")\n",
    "    \n",
    "top_words = 10\n",
    "f_names = permission_columns\n",
    "\n",
    "probable_words = []\n",
    "for topic_idx, topic in enumerate(lda.components_):\n",
    "    sorted_indices = topic.argsort()[::-1]\n",
    "    topic_prob = topic[sorted_indices] / topic.sum()\n",
    "    topic_words = [f_names[i] for i in sorted_indices[:top_words]]\n",
    "    probable_words.append(topic_words)\n",
    "\n",
    "    print(f\"Topic #{topic_idx}:\")\n",
    "    for i in range(top_words):\n",
    "        word = topic_words[i]\n",
    "        prob = topic_prob[i]\n",
    "        print(f\"   {word} probability: {prob:.4f}\")\n",
    "    print()"
   ]
  },
  {
   "cell_type": "markdown",
   "metadata": {},
   "source": [
    "1. Topic 3 - gives an strong indication of a GPS based app, perhaps a navigation app \n",
    "2. Topic 5 - appears to be phone/caller app\\n\n",
    "3. Topic 6 - based on the probability of ‘control vibrator’ it seems like an alarm app\n",
    "4. Topic 7 - strong and clear indication of a wallpaper app \n",
    "\n",
    "Other topics had similar and mixed probabilities and it’s difficult\tto assign them to a single topic."
   ]
  },
  {
   "cell_type": "markdown",
   "metadata": {},
   "source": [
    "### Part F: For each topic, list the top 3 apps with at least 100000 ratings having the highest probability assigned to that topic [15 points]\n",
    "\n",
    "   - This further helps us understand what the topics actually mean.\n",
    "   - However, the data is noisy and this exercise may result in listing a bunch of obscure apps.\n",
    "   - Hence, filtering out all apps with less than 100000 ratings may help."
   ]
  },
  {
   "cell_type": "code",
   "execution_count": 19,
   "metadata": {},
   "outputs": [
    {
     "name": "stdout",
     "output_type": "stream",
     "text": [
      "Topic #0:\n",
      "\tGO SMS Pro -- proportion in topic 0: 0.8398\n",
      "\tHandcent SMS -- proportion in topic 0: 0.8124\n",
      "\tTango Voice & Video Calls -- proportion in topic 0: 0.8088\n",
      "\n",
      "\n",
      "Topic #1:\n",
      "\teBuddy Messenger -- proportion in topic 1: 0.7423\n",
      "\tRestaurant Story??? -- proportion in topic 1: 0.7273\n",
      "\tRestaurant Story™ -- proportion in topic 1: 0.7273\n",
      "\n",
      "\n",
      "Topic #2:\n",
      "\tTiny Flashlight + LED -- proportion in topic 2: 0.7497\n",
      "\tThe Weather Channel -- proportion in topic 2: 0.5570\n",
      "\tYouTube -- proportion in topic 2: 0.5426\n",
      "\n",
      "\n",
      "Topic #3:\n",
      "\tStreet View on Google Maps -- proportion in topic 3: 0.6616\n",
      "\tGasBuddy -- proportion in topic 3: 0.5611\n",
      "\tToss It -- proportion in topic 3: 0.5052\n",
      "\n",
      "\n",
      "Topic #4:\n",
      "\tKakaoTalk Mes???sen???ger -- proportion in topic 4: 0.8025\n",
      "\tKakaoTalk Mes​sen​ger -- proportion in topic 4: 0.8025\n",
      "\tEvernote -- proportion in topic 4: 0.7950\n",
      "\n",
      "\n",
      "Topic #5:\n",
      "\tAngry Birds -- proportion in topic 5: 0.7314\n",
      "\tAngry Birds Rio -- proportion in topic 5: 0.7314\n",
      "\tAir Control Lite -- proportion in topic 5: 0.7169\n",
      "\n",
      "\n",
      "Topic #6:\n",
      "\tSeesmic (Facebook, Twitter) -- proportion in topic 6: 0.7787\n",
      "\tColorNote Notepad Notes -- proportion in topic 6: 0.7142\n",
      "\tOpera Mini web browser -- proportion in topic 6: 0.6861\n",
      "\n",
      "\n",
      "Topic #7:\n",
      "\tWallpapers HD -- proportion in topic 7: 0.6824\n",
      "\tGO Launcher EX -- proportion in topic 7: 0.6526\n",
      "\tStrip Poker -- proportion in topic 7: 0.6026\n",
      "\n",
      "\n",
      "Topic #8:\n",
      "\tTank Hero -- proportion in topic 8: 0.7153\n",
      "\tRobo Defense FREE -- proportion in topic 8: 0.6251\n",
      "\tAlchemy -- proportion in topic 8: 0.4871\n",
      "\n",
      "\n",
      "Topic #9:\n",
      "\tYoo Ninja! Free -- proportion in topic 9: 0.6247\n",
      "\tAngry Birds Seasons -- proportion in topic 9: 0.6247\n",
      "\tAdobe Reader -- proportion in topic 9: 0.5500\n",
      "\n",
      "\n"
     ]
    }
   ],
   "source": [
    "t_props = lda.transform(x_tfidf)\n",
    "for i in range(10):\n",
    "    idx = np.argsort(t_props[:,i])[::-1]\n",
    "    ratings = app_ratings > 100000\n",
    "    print(\"Topic #\" + str(i) + \":\")\n",
    "    counter = 3\n",
    "    for app_idx in idx:\n",
    "        if counter <= 0:\n",
    "            break\n",
    "        if ratings[app_idx] == False:\n",
    "            continue\n",
    "        app = app_names[app_idx]\n",
    "        print(\"\\t\" + app + ' -- proportion in topic %d: %.4f' % (i, t_props[app_idx, i]))\n",
    "        counter = counter- 1\n",
    "    print(\"\\n\")"
   ]
  },
  {
   "cell_type": "code",
   "execution_count": 19,
   "metadata": {},
   "outputs": [
    {
     "name": "stdout",
     "output_type": "stream",
     "text": [
      "Topic #0:\n",
      "\tGO SMS Pro -- proportion in topic 0: 0.8398\n",
      "\tHandcent SMS -- proportion in topic 0: 0.8124\n",
      "\tTango Voice & Video Calls -- proportion in topic 0: 0.8088\n",
      "\n",
      "Topic #1:\n",
      "\teBuddy Messenger -- proportion in topic 1: 0.7423\n",
      "\tRestaurant Story??? -- proportion in topic 1: 0.7273\n",
      "\tRestaurant Story™ -- proportion in topic 1: 0.7273\n",
      "\n",
      "Topic #2:\n",
      "\tTiny Flashlight + LED -- proportion in topic 2: 0.7497\n",
      "\tThe Weather Channel -- proportion in topic 2: 0.5570\n",
      "\tYouTube -- proportion in topic 2: 0.5426\n",
      "\n",
      "Topic #3:\n",
      "\tStreet View on Google Maps -- proportion in topic 3: 0.6616\n",
      "\tGasBuddy -- proportion in topic 3: 0.5611\n",
      "\tToss It -- proportion in topic 3: 0.5052\n",
      "\n",
      "Topic #4:\n",
      "\tKakaoTalk Mes???sen???ger -- proportion in topic 4: 0.8025\n",
      "\tKakaoTalk Mes​sen​ger -- proportion in topic 4: 0.8025\n",
      "\tEvernote -- proportion in topic 4: 0.7950\n",
      "\n",
      "Topic #5:\n",
      "\tAngry Birds -- proportion in topic 5: 0.7314\n",
      "\tAngry Birds Rio -- proportion in topic 5: 0.7314\n",
      "\tAir Control Lite -- proportion in topic 5: 0.7169\n",
      "\n",
      "Topic #6:\n",
      "\tSeesmic (Facebook, Twitter) -- proportion in topic 6: 0.7787\n",
      "\tColorNote Notepad Notes -- proportion in topic 6: 0.7142\n",
      "\tOpera Mini web browser -- proportion in topic 6: 0.6861\n",
      "\n",
      "Topic #7:\n",
      "\tWallpapers HD -- proportion in topic 7: 0.6824\n",
      "\tGO Launcher EX -- proportion in topic 7: 0.6526\n",
      "\tStrip Poker -- proportion in topic 7: 0.6026\n",
      "\n",
      "Topic #8:\n",
      "\tTank Hero -- proportion in topic 8: 0.7153\n",
      "\tRobo Defense FREE -- proportion in topic 8: 0.6251\n",
      "\tAlchemy -- proportion in topic 8: 0.4871\n",
      "\n",
      "Topic #9:\n",
      "\tYoo Ninja! Free -- proportion in topic 9: 0.6247\n",
      "\tAngry Birds Seasons -- proportion in topic 9: 0.6247\n",
      "\tAdobe Reader -- proportion in topic 9: 0.5500\n",
      "\n"
     ]
    }
   ],
   "source": [
    "t_props = lda.transform(x_tfidf)\n",
    "ratings = app_ratings > 100000\n",
    "for i in range(10):\n",
    "    idx = np.argsort(t_props[:, i])[::-1]\n",
    "    apps_in_topic = [(app_names[app_idx], t_props[app_idx, i]) for app_idx in idx if ratings[app_idx]]\n",
    "    if apps_in_topic:\n",
    "        print(f\"Topic #{i}:\")\n",
    "        for app, prop in apps_in_topic[:3]:\n",
    "            print(f\"\\t{app} -- proportion in topic {i}: {prop:.4f}\")\n",
    "        print(\"\") "
   ]
  },
  {
   "cell_type": "markdown",
   "metadata": {},
   "source": [
    "### Part G: Visualize the document-topic proportion matrix in 2-D using t-SNE [15 points]\n",
    "\n",
    "Does our reduced dimensional space contain any structure? Visualize the documents (in the topic-space) using t-SNE.\n",
    "\n",
    "   * Use `TSNE` from `scikit-learn`.\n",
    "   * Set the angle to 0.99 and init to 'PCA'. Pick any learning rate that gives you a visually pleasing result.\n",
    "   * You may `fit` TSNE to a sample of the data (>1000 documents) instead of the full data.\n",
    "   * Remember to call `fit_transform` to obtain your 2-D data.\n",
    "   * Plot the t-SNE dimensions as a scatterplot.\n",
    "   * Color each point based on its most probable topic. Make sure you include a legend (10 colors).\n",
    "   \n",
    "Clusters in the t-SNE plot indicate groups of apps that have similar topics."
   ]
  },
  {
   "cell_type": "code",
   "execution_count": 20,
   "metadata": {},
   "outputs": [
    {
     "name": "stderr",
     "output_type": "stream",
     "text": [
      "/Users/vibhasgoel/opt/anaconda3/lib/python3.9/site-packages/sklearn/manifold/_t_sne.py:996: FutureWarning: The PCA initialization in TSNE will change to have the standard deviation of PC1 equal to 1e-4 in 1.2. This will ensure better convergence.\n",
      "  warnings.warn(\n"
     ]
    },
    {
     "data": {
      "image/png": "[encoded data removed]",
      "text/plain": [
       "<Figure size 1152x720 with 1 Axes>"
      ]
     },
     "metadata": {
      "needs_background": "light"
     },
     "output_type": "display_data"
    },
    {
     "name": "stdout",
     "output_type": "stream",
     "text": [
      "CPU times: user 25.7 s, sys: 1.16 s, total: 26.9 s\n",
      "Wall time: 8.47 s\n"
     ]
    }
   ],
   "source": [
    "%%time\n",
    "from sklearn.manifold import TSNE\n",
    "\n",
    "\n",
    "tsne_model = TSNE(n_components=2, perplexity=100,learning_rate=800,\n",
    "                       random_state=42, angle=.99, init='pca')\n",
    "topic_tsne_lda = tsne_model.fit_transform(t_props[:1000,:])\n",
    "\n",
    "plt.figure(figsize=(16,10))\n",
    "most_probable_topic = np.argmax(t_props, axis=1)[:1000]\n",
    "for t in range(10):\n",
    "    plt.plot(topic_tsne_lda[most_probable_topic==t,0], topic_tsne_lda[most_probable_topic==t,1], '*',\n",
    "                 label=\"Topic #\" + str(t))\n",
    "plt.legend(loc='upper left')\n",
    "\n",
    "plt.grid()\n",
    "plt.show()"
   ]
  },
  {
   "cell_type": "code",
   "execution_count": null,
   "metadata": {},
   "outputs": [],
   "source": []
  }
 ],
 "metadata": {
  "kernelspec": {
   "display_name": "Python 3 (ipykernel)",
   "language": "python",
   "name": "python3"
  },
  "language_info": {
   "codemirror_mode": {
    "name": "ipython",
    "version": 3
   },
   "file_extension": ".py",
   "mimetype": "text/x-python",
   "name": "python",
   "nbconvert_exporter": "python",
   "pygments_lexer": "ipython3",
   "version": "3.9.12"
  }
 },
 "nbformat": 4,
 "nbformat_minor": 2
}
