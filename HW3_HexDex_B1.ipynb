{
 "cells": [
  {
   "cell_type": "markdown",
   "metadata": {
    "id": "1ozalcZj6GnO"
   },
   "source": [
    "# BA 820 Homework 3 (100 Points)\n",
    "\n",
    "Group Member Names:Akash Reddy, Arjun Aggarwal, Lokendra Singh Badgujar, Sonal Kaur, Tamanna Jain, Vibhas Goel\n",
    "\n",
    "Reminder: you should not be sharing code across groups\n",
    "\n",
    "Please submit 1) PDF answers and 2) python notebook. Grading will be based on the homework answer write up PDF. Python notebook is for reference and back up only. So please make sure that your all the outputs and answers are clearly visible in the pdf.\n",
    "\n",
    "## 1 Latent Dirichlet Allocation [60pts]\n",
    "\n",
    "In this problem, we will use Latent Dirichlet Allocation to perform topic modeling on Amazon Review datasets. In particular, we will take an in-depth look at different aspects of LDA model.\n",
    "\n",
    "## 1.1 Installation\n",
    "\n",
    "To perform LDA and visualize, please use Python 3.X. You will also need to install Numpy, Scipy, gensim, nltk, pyLDAvis library. Refer to requirements.txt for more details.\n",
    "Use the following code to install the labraries."
   ]
  },
  {
   "cell_type": "code",
   "execution_count": 55,
   "metadata": {
    "id": "K7m0zKTQLP-a"
   },
   "outputs": [
    {
     "name": "stdout",
     "output_type": "stream",
     "text": [
      "Note: you may need to restart the kernel to use updated packages.\n",
      "Note: you may need to restart the kernel to use updated packages.\n",
      "Note: you may need to restart the kernel to use updated packages.\n",
      "Note: you may need to restart the kernel to use updated packages.\n"
     ]
    }
   ],
   "source": [
    "%pip install gensim -q\n",
    "# install gensim for LDA\n",
    "%pip install nltk -q\n",
    "# install nltk to preprocess sentences\n",
    "%pip install pyldavis -q\n",
    "# to visualize LDA topics\n",
    "%pip install matplotlib -q\n",
    "# for plotting"
   ]
  },
  {
   "cell_type": "markdown",
   "metadata": {
    "id": "QFDfBgMF6Rsu"
   },
   "source": [
    "The cell below tests if the packages we need have been installed correctly, and that we are in the correct environment."
   ]
  },
  {
   "cell_type": "code",
   "execution_count": 56,
   "metadata": {
    "id": "9iRwy_ck6SLL"
   },
   "outputs": [
    {
     "name": "stderr",
     "output_type": "stream",
     "text": [
      "[nltk_data] Downloading package stopwords to\n",
      "[nltk_data]     /Users/akash4/nltk_data...\n",
      "[nltk_data]   Package stopwords is already up-to-date!\n"
     ]
    }
   ],
   "source": [
    "import gensim\n",
    "from gensim.parsing.preprocessing import remove_stopwords\n",
    "import nltk\n",
    "nltk.download(\"stopwords\")\n",
    "import pyLDAvis\n",
    "import matplotlib\n",
    "%matplotlib inline\n",
    "import gzip # to unzip the data\n",
    "import re # to replace punctuations\n",
    "from nltk.corpus import stopwords # list of stopwords"
   ]
  },
  {
   "cell_type": "markdown",
   "metadata": {
    "id": "aLu3zAuv6m0r"
   },
   "source": [
    "## 1.2 Datasets\n",
    "\n",
    "You can download the Amazon reviews dataset of Cellphones & Accessory 5-Core Data [here](http://snap.stanford.edu/data/amazon/productGraph/categoryFiles/reviews_Cell_Phones_and_Accessories_5.json.gz). Place the downloaded dataset in the same folder as this notebook. You can use the following code to read a datat from GZIp file"
   ]
  },
  {
   "cell_type": "code",
   "execution_count": 61,
   "metadata": {
    "id": "gbSEVGKw6nV7"
   },
   "outputs": [],
   "source": [
    "# A function to read the zipped data at a specfic path\n",
    "#\n",
    "# How to use:\n",
    "# PATH = \"/path/to/file\"\n",
    "# for line in parse(PATH):\n",
    "#   do something with line\n",
    "#\n",
    "def parse(path):\n",
    "    g = gzip.open(path, 'r')\n",
    "    for l in g:\n",
    "        yield eval(l)"
   ]
  },
  {
   "cell_type": "markdown",
   "metadata": {
    "id": "B48OODRf70mY"
   },
   "source": [
    "## 1.3 Data Cleaning\n",
    "\n",
    "Now we will preprocess the data using the following steps:\n",
    "   1. Remove stopwords\n",
    "   2. Lower-case all words\n",
    "   3. Remove words with less than 2 characters\n",
    "   4. Remove punctuation\n",
    "   5. Split each sentence into a list of words"
   ]
  },
  {
   "cell_type": "code",
   "execution_count": 62,
   "metadata": {
    "id": "6JVvT5kh7qO9"
   },
   "outputs": [],
   "source": [
    "# A function to clean a single line of text\n",
    "def clean_line(line):\n",
    "    \"\"\" Clean stopwords and punction for each line\n",
    "    \n",
    "    Args: \n",
    "        line (string): one line in file\n",
    "        \n",
    "    Returns:\n",
    "        list(str): a list of all words in the sentence\n",
    "    \"\"\"\n",
    "    punctuationRegex = r'\\W+|\\d+'\n",
    "    stopWords = set(stopwords.words('english'))\n",
    "    line = line.split(\" \")\n",
    "    filtered_content = []\n",
    "    for word in line:\n",
    "        word = word.lower()\n",
    "        word = re.sub(punctuationRegex, '', word)\n",
    "        if word not in stopWords and len(word) >= 2:\n",
    "            filtered_content.append(word)\n",
    "        \n",
    "    return filtered_content"
   ]
  },
  {
   "cell_type": "markdown",
   "metadata": {
    "id": "fYnnn1KC8jZ8"
   },
   "source": [
    "Finally, we put parse() and clean_line() function together and then extract the first 10,000 reviews into a new text file as your experiment dataset"
   ]
  },
  {
   "cell_type": "code",
   "execution_count": 63,
   "metadata": {
    "id": "FXjJSwnD8jvK"
   },
   "outputs": [],
   "source": [
    "def read_dataset(fname):\n",
    "    \"\"\" Read the 10000 lines in given dataset into list and clean stop words. \n",
    "        \n",
    "    Args: \n",
    "        fname (string): filename of Amazon Review Dataset\n",
    "        \n",
    "    Returns:\n",
    "        list of list of words: we view each document as a list, including a list of all words \n",
    "    \"\"\"\n",
    "    count = 0\n",
    "    exp_dataset = []\n",
    "    for review in parse(fname):\n",
    "        line = review[\"reviewText\"]\n",
    "        new_line = clean_line(line)\n",
    "        exp_dataset.append(new_line)\n",
    "        count += 1\n",
    "        if count > 10000:\n",
    "            break\n",
    "    return exp_dataset"
   ]
  },
  {
   "cell_type": "code",
   "execution_count": 64,
   "metadata": {
    "id": "4cRY1JaN8mIM"
   },
   "outputs": [
    {
     "name": "stdout",
     "output_type": "stream",
     "text": [
      "CPU times: user 1.89 s, sys: 124 ms, total: 2.01 s\n",
      "Wall time: 2.01 s\n"
     ]
    }
   ],
   "source": [
    "%%time\n",
    "r = read_dataset(\"reviews_Cell_Phones_and_Accessories_5.json.gz\")"
   ]
  },
  {
   "cell_type": "markdown",
   "metadata": {
    "id": "2FQFnMjb8l1B"
   },
   "source": [
    "## 1.4 Topic Analysis\n",
    "\n",
    "**[5pts] Q1.4.1.1** Use topic numbers 3, 6, 9, 12, 15 respectively and print out all topics with 5 words.\n",
    "\n",
    "For this We will use gensim to train an LDA model. gensim requires the following steps:\n",
    "\n",
    "Construct a gensim.corpora.dictionary from the dataset\n",
    "Construct a gensim \"corpus\" using this dictionary, by mapping each word to an index in the dictionary\n",
    "Run LDA on this corpus"
   ]
  },
  {
   "cell_type": "code",
   "execution_count": 65,
   "metadata": {
    "id": "JzfOjF9I9kDD"
   },
   "outputs": [],
   "source": [
    "\n",
    "dictionary = gensim.corpora.Dictionary(r) # create a gensim dictionary, store it in variable \"dictionary\"\n",
    "corpus = [dictionary.doc2bow(doc) for doc in r] # create the gensim corpus, store it in variable \"corpus\""
   ]
  },
  {
   "cell_type": "code",
   "execution_count": 66,
   "metadata": {},
   "outputs": [
    {
     "name": "stdout",
     "output_type": "stream",
     "text": [
      "30956\n"
     ]
    }
   ],
   "source": [
    "print(len(dictionary))"
   ]
  },
  {
   "cell_type": "markdown",
   "metadata": {
    "id": "xblcs_6-99gp"
   },
   "source": [
    "The function below prints the top num words in each topic for a given model."
   ]
  },
  {
   "cell_type": "code",
   "execution_count": 67,
   "metadata": {
    "id": "b_NopMJj951v"
   },
   "outputs": [],
   "source": [
    "def print_topic_words(model,num):\n",
    "    \"\"\" print top words in model topics.\n",
    "    \n",
    "    Args: \n",
    "        model: LDA model\n",
    "        \n",
    "    Returns:\n",
    "        none\n",
    "    \"\"\"    \n",
    "    for i in range(num):\n",
    "        topic = model.show_topic(i, topn=5)\n",
    "        words = [word[0] for word in topic]\n",
    "        print(f\"Topic {i}: {' '.join(words)}\")\n",
    "    return"
   ]
  },
  {
   "cell_type": "markdown",
   "metadata": {
    "id": "56Sv1l9S-JeI"
   },
   "source": [
    "The following function builds multiple LDA models with number of topics specified in the list `num_topics`."
   ]
  },
  {
   "cell_type": "code",
   "execution_count": 68,
   "metadata": {
    "id": "NhGPQYTo-Jxx"
   },
   "outputs": [],
   "source": [
    "def build_num_topic_model(dictionary, corpus, num_topics):\n",
    "    \"\"\" Build lda model with given parameters, use print_topic_words to print words\n",
    "    \n",
    "    Args: \n",
    "        dictionary: dictionary built from dataset\n",
    "        corpus: corpus built from dataset\n",
    "        num_topics: list of numbers\n",
    "        \n",
    "    Returns:\n",
    "        none\n",
    "    \"\"\"    \n",
    "    for num_topic in num_topics:\n",
    "        \n",
    "        model = gensim.models.ldamodel.LdaModel(corpus=corpus, id2word=dictionary, num_topics=num_topic, random_state=42)\n",
    "        \n",
    "        # Print top words\n",
    "        print(f\"Number of topics: {num_topic}\")\n",
    "        print_topic_words(model, num=num_topic)\n",
    "        print(\"\\n\")\n",
    "        #########################\n",
    "        # YOUR CODE HERE\n",
    "        #   - Build model\n",
    "        #   - Print the top 5 words\n",
    "        #########################"
   ]
  },
  {
   "cell_type": "code",
   "execution_count": 170,
   "metadata": {
    "id": "k8NtFThx-Od0"
   },
   "outputs": [
    {
     "name": "stdout",
     "output_type": "stream",
     "text": [
      "Number of topics: 3\n",
      "Topic 0: case battery mophie iphone shes\n",
      "Topic 1: headset phone use ear one\n",
      "Topic 2: iphone juice pack battery use\n",
      "\n",
      "\n",
      "Number of topics: 6\n",
      "Topic 0: case mophie iphone pocket bottom\n",
      "Topic 1: headset ear use one phone\n",
      "Topic 2: iphone pack juice use need\n",
      "Topic 3: battery juice life use indicators\n",
      "Topic 4: phone get good headset use\n",
      "Topic 5: phone nokia battery like data\n",
      "\n",
      "\n",
      "Number of topics: 9\n",
      "Topic 0: mophie shes case heft shed\n",
      "Topic 1: headset ear use one bluetooth\n",
      "Topic 2: iphone afford gs regularly use\n",
      "Topic 3: battery juice iphone travelling use\n",
      "Topic 4: depth use battery little life\n",
      "Topic 5: phone charger charge aliph battery\n",
      "Topic 6: case iphone pack juice battery\n",
      "Topic 7: belt one iphone clip headset\n",
      "Topic 8: phone use like card bluetooth\n",
      "\n",
      "\n",
      "Number of topics: 12\n",
      "Topic 0: case mophie shes iphone pocket\n",
      "Topic 1: headset one use phone ear\n",
      "Topic 2: iphone pack afford gs air\n",
      "Topic 3: battery juice iphone pack doubles\n",
      "Topic 4: phone headset good quality get\n",
      "Topic 5: samsung charger phone microusb charge\n",
      "Topic 6: phone case screen one like\n",
      "Topic 7: travelling juice iphone great increase\n",
      "Topic 8: phone music like card use\n",
      "Topic 9: chore regularly iphone use cable\n",
      "Topic 10: storm iphone case great clip\n",
      "Topic 11: shed ear bluetooth headset use\n",
      "\n",
      "\n",
      "Number of topics: 15\n",
      "Topic 0: heft case wife battery use\n",
      "Topic 1: headset use ear one phone\n",
      "Topic 2: increased iphone thanks pack use\n",
      "Topic 3: battery juice pack iphone use\n",
      "Topic 4: shed portability depth battery use\n",
      "Topic 5: charge charger phone usb battery\n",
      "Topic 6: case matte bottom purse jeans\n",
      "Topic 7: one bought great worked headset\n",
      "Topic 8: phone card bold like use\n",
      "Topic 9: travelling chore iphone depth use\n",
      "Topic 10: de ear connectors watched great\n",
      "Topic 11: ear bluetooth headset would jawbone\n",
      "Topic 12: mophie packs indicators doubles led\n",
      "Topic 13: iphone case shes pocket gs\n",
      "Topic 14: pro apple original great one\n",
      "\n",
      "\n"
     ]
    }
   ],
   "source": [
    "build_num_topic_model(dictionary, corpus, [3, 6, 9, 12, 15])"
   ]
  },
  {
   "cell_type": "markdown",
   "metadata": {
    "id": "m8vkk6bo-UEi"
   },
   "source": [
    "**[3pts] Q1.4.1.2**  Explain what could be interpreted for each topics, and describe the similarity and difference between different topic numbers."
   ]
  },
  {
   "cell_type": "markdown",
   "metadata": {
    "id": "BRLNs647-VF7"
   },
   "source": [
    "Topic 0: This topic seems to be about phone cases, essentailly about the Mophie brand as it has been talked several times.\n",
    "\n",
    "Topic 1: This topic appears to be about headset and its use.\n",
    "\n",
    "Topic 2: This topic is about the iPhone and its battery pack, perhaphs something with which more juice is added to iphones battery.\n",
    "\n",
    "Topic 3: This topic is about phone battery life and the use of battery indicators. \n",
    "\n",
    "Topic 4: This topic is about getting good quality headsets for phones. \n",
    "\n",
    "Topic 5: This topic is about phones and their chargers, particularly with the brand Samsung and the micro-USB port. \n",
    "\n",
    "Topic 6: This topic is about phone cases and the iPhone battery pack. \n",
    "\n",
    "Topic 7: This topic is about a belt clip for a phone and a headset. \n",
    "\n",
    "Topic 8: This topic is about using phone cards\n",
    "\n",
    "Topic 9: This topic is about regularly using a phone for a chore, particularly related to a cable. \n",
    "\n",
    "Topic 10: This topic is about an iPhone case and clip for a storm. \n",
    "\n",
    "Topic 11: This topic is about using a headset with a Bluetooth connection, particularly with the brand Jawbone. \n",
    "\n",
    "Topic 12: This topic is about the brand Mophie and its battery packs, particularly with indicators and LEDs.\n",
    "\n",
    "Topic 13: This topic is about an iPhone case with pockets and the brand GS. \n",
    "\n",
    "Topic 14: This topic is about the Apple Pro and its originality. \n",
    "\n",
    "The similarities between different topic numbers are that they often focus on specific phone accessories or brands. For example, topics 0, 2, and 6 all focus on phone cases and the iPhone battery pack, while topics 2, 3, and 12 all mention the brand Mophie. However, the specific keywords and details of each topic differ between the sets."
   ]
  },
  {
   "cell_type": "markdown",
   "metadata": {
    "id": "ERTTf2sGDIPp"
   },
   "source": [
    "**[2pts] Q1.4.1.3**  Which topic number would you choose? Explain."
   ]
  },
  {
   "cell_type": "markdown",
   "metadata": {
    "id": "UOgDUPcvDLs8"
   },
   "source": [
    "Without evaluating any other metrics we would go with 12 topics as it has a good balance of topic diversity and iterpretability. Topic no 15 becomes a bit repititive. Topic Number 12 has less overlap as it talks about phone case, headset, USB cable, Samsung charger etc. Topics have rather distinct interpretations for it.\n",
    "\n"
   ]
  },
  {
   "cell_type": "markdown",
   "metadata": {
    "id": "sJfqY1reDX5s"
   },
   "source": [
    "## 1.5 Model Evaluation\n",
    "\n",
    "**[12 pts] Q1.5.1** Now we investigate two methods to evaluate our model and choose the topic number\n",
    "\n",
    "1.Perplexity is a measurement of how well a probability distribution or probability model predicts a sample. A low perplexity indicates the probability distribution is good at predicting the sample. We can use model.log_perplexity(document) to evaluate the perplexity of our LDA model.\n",
    "\n",
    "2.Topic coherence is a one type of interpretability measurement for a topic. It measures if a set of top keywords describe a coherent and singular concept. A good topic will have high topic coherence score. We can use CoherenceModel(model=ldamodel).get_coherence() to calculate it.\n",
    "\n",
    "Plot Perplexity and topic coherence scores of our LDA model for topic number 3,6,9,12,15,20,50."
   ]
  },
  {
   "cell_type": "markdown",
   "metadata": {
    "id": "ni7eZRSIDsIU"
   },
   "source": [
    "The code below trains topic models with different numbers of topics and measures their coherence and perplexity."
   ]
  },
  {
   "cell_type": "code",
   "execution_count": 69,
   "metadata": {
    "id": "1ue1Pf4--UjO"
   },
   "outputs": [],
   "source": [
    "# perplexity \n",
    "# run different number of topics to get perplexity and coherence value for this model\n",
    "from gensim.models.coherencemodel import CoherenceModel\n",
    "def get_measurement_for_model(dictionary, corpus, topic_nums):\n",
    "    \"\"\" Build lda model with given parameters \n",
    "    \n",
    "    Args: \n",
    "        dictionary: dictionary built from dataset\n",
    "        corpus: corpus built from dataset\n",
    "        topic_nums: a list contains all possible topic number\n",
    "        \n",
    "    Returns:\n",
    "        2 lists: one of perplexities, and one of coherence value\n",
    "    \"\"\"  \n",
    "    perplexity = []\n",
    "    coherence_value=[]\n",
    "    for num_topic in topic_nums:\n",
    "        \n",
    "        #lda_model\n",
    "        model = gensim.models.ldamodel.LdaModel(corpus=corpus, id2word=dictionary, num_topics=num_topic, random_state=200)\n",
    "        # Compute coherence value\n",
    "       \n",
    "        coherence_value.append(CoherenceModel(model=model,texts=r,dictionary=dictionary,coherence='c_v').get_coherence() )\n",
    "\n",
    "        # Compute perplexity\n",
    "        perplexity_score = model.log_perplexity(corpus)\n",
    "        perplexity.append(perplexity_score)\n",
    "        #########################\n",
    "        # YOUR CODE HERE\n",
    "        #   - Build model\n",
    "        #   - Compute and store coherence\n",
    "        #   - Compute and store perplexity\n",
    "        #########################\n",
    "    return perplexity,coherence_value"
   ]
  },
  {
   "cell_type": "code",
   "execution_count": 70,
   "metadata": {
    "id": "nX_zj0RoD4j0"
   },
   "outputs": [],
   "source": [
    "perplexity, coherence_value = get_measurement_for_model(dictionary, corpus, [3, 6, 9, 12, 15, 20, 50])"
   ]
  },
  {
   "cell_type": "code",
   "execution_count": 71,
   "metadata": {
    "id": "yk-ojlJSD85k"
   },
   "outputs": [
    {
     "name": "stdout",
     "output_type": "stream",
     "text": [
      "[-8.18372239368295, -8.544146518071527, -8.55432906063814, -8.806461056642327, -9.058648089368198, -9.45107747681087, -11.322835234945927]\n",
      "[0.361725070861821, 0.4243348572953399, 0.4136918956751941, 0.387034506069804, 0.39441576682306023, 0.36390714258105417, 0.347912441213968]\n"
     ]
    }
   ],
   "source": [
    "print(perplexity)\n",
    "print(coherence_value)"
   ]
  },
  {
   "cell_type": "markdown",
   "metadata": {
    "id": "PcYTqBizD9az"
   },
   "source": [
    "We can now plot the coherence and perplexity of each model."
   ]
  },
  {
   "cell_type": "code",
   "execution_count": 72,
   "metadata": {
    "id": "1B9scv8sD_n8"
   },
   "outputs": [],
   "source": [
    "import matplotlib.pyplot as plt"
   ]
  },
  {
   "cell_type": "code",
   "execution_count": 73,
   "metadata": {
    "id": "G76jh0BXECKs"
   },
   "outputs": [
    {
     "data": {
      "image/png": "[encoded data removed]",
      "text/plain": [
       "<Figure size 432x288 with 1 Axes>"
      ]
     },
     "metadata": {
      "needs_background": "light"
     },
     "output_type": "display_data"
    }
   ],
   "source": [
    "plt.plot([3, 6, 9, 12, 15, 20, 50], perplexity)\n",
    "plt.grid()\n",
    "plt.xlabel(\"Number of topics\")\n",
    "plt.ylabel(\"Perplexity\")\n",
    "plt.show()"
   ]
  },
  {
   "cell_type": "markdown",
   "metadata": {
    "id": "WUDG-rr5ELQN"
   },
   "source": [
    "**[2pts] Q1.5.2**  From the above graph what topic number would you choose and why? Is it a good idea to choose the topic number based on perplexity? why or why not?"
   ]
  },
  {
   "cell_type": "markdown",
   "metadata": {
    "id": "q5SLdipiENoi"
   },
   "source": [
    "Just based on the above graph one would be tempted to chose the number of topics as 50 because it has a low perplexity score. Perplexity is a good indication of the performance of the model, however it should not be the sole criteria to choose the topic number as it doesnt take into account the interpretability of the topics. Perplexity is biased to the size of the dataset as well. Alarger dataset will have lower perplexity score. Other metrics like coherence should also be taken into account."
   ]
  },
  {
   "cell_type": "code",
   "execution_count": 74,
   "metadata": {
    "id": "EBhTyUQdELuW"
   },
   "outputs": [
    {
     "data": {
      "image/png": "[encoded data removed]",
      "text/plain": [
       "<Figure size 432x288 with 1 Axes>"
      ]
     },
     "metadata": {
      "needs_background": "light"
     },
     "output_type": "display_data"
    }
   ],
   "source": [
    "plt.plot([3, 6, 9, 12, 15, 20, 50], coherence_value)\n",
    "plt.grid()\n",
    "plt.xlabel(\"Number of topics\")\n",
    "plt.ylabel(\"Coherence\")\n",
    "plt.show()"
   ]
  },
  {
   "cell_type": "markdown",
   "metadata": {
    "id": "VnCOd2_CEY2W"
   },
   "source": [
    "**[2pts] Q1.5.3**  From the above graph what topic number would you choose and why?"
   ]
  },
  {
   "cell_type": "markdown",
   "metadata": {
    "id": "Mm5bcHV4EcOa"
   },
   "source": [
    "Just based on the above graph we would choose 9 as the best topic number as it has high coherence value. Coherence is less biased towards the size of the dataset and is more indicative measure to the topic quality. However coherence alone should not be the criteria to choose an optimum topic number. It should always be a combination of metrics like coherence, perplexity, and overall quality of topics."
   ]
  },
  {
   "cell_type": "markdown",
   "metadata": {
    "id": "ppxl4L4cElVA"
   },
   "source": [
    "**[4pts]Q1.5.4** Compare two methods you implemented in the previous quesions, which one do you think is better and why? In answering, please discuss the actual topics generated."
   ]
  },
  {
   "cell_type": "markdown",
   "metadata": {
    "id": "XMiQEut8Em__"
   },
   "source": [
    "Perplexity is the measure of how well the LDA model performs on unseen data while coherence is one type of interpretability measurement for a topic. We believe that coherence would be a better metric as compared to perplexity. Coherence is a measure of the interpretability and meaningfulness of the topics generated by the LDA model. We could choose the topic numbers as 15 as it has low perplexity and higher coherence value. We could also see that when topic number was 15 perplexity score was -9.05 and coherence was 0.394. This topic number covers various aspects of products reviewed such as battery, headset, bluetooth, phone cases and chargers. Topics seem to have relatively clear and distinct interpretations when the topic number is 15."
   ]
  },
  {
   "cell_type": "markdown",
   "metadata": {
    "id": "hBkDhQzGFPyp"
   },
   "source": [
    "## 1.6 Alpha and Beta in LDA"
   ]
  },
  {
   "cell_type": "markdown",
   "metadata": {
    "id": "Jelhz4KFFgde"
   },
   "source": [
    "**[7pts]Q1.6.1** In this problem, we will check the two most important parameters in LDA model: alpha and beta. Alpha represents document-topic density - with a higher alpha, documents are made up of more topics, and with lower alpha, documents contain fewer topics. Beta represents topic-word density - with a high beta, topics are made up of most of the words in the corpus, and with a low beta they consist of few words."
   ]
  },
  {
   "cell_type": "code",
   "execution_count": 75,
   "metadata": {
    "id": "x7Wr3DphEb2O"
   },
   "outputs": [],
   "source": [
    "best_topic_num = 15 # CHANGE THIS"
   ]
  },
  {
   "cell_type": "code",
   "execution_count": 76,
   "metadata": {
    "id": "8AP4Hn1uFkkc"
   },
   "outputs": [
    {
     "name": "stdout",
     "output_type": "stream",
     "text": [
      "Top words:\n",
      "Topic 1:\n",
      "['heft', 'case', 'wife', 'battery', 'use']\n",
      "\n",
      "Topic 2:\n",
      "['headset', 'use', 'ear', 'one', 'phone']\n",
      "\n",
      "Topic 3:\n",
      "['increased', 'iphone', 'thanks', 'pack', 'use']\n",
      "\n",
      "Topic 4:\n",
      "['battery', 'juice', 'pack', 'iphone', 'use']\n",
      "\n",
      "Topic 5:\n",
      "['shed', 'portability', 'depth', 'battery', 'use']\n",
      "\n",
      "Topic 6:\n",
      "['charge', 'charger', 'phone', 'usb', 'battery']\n",
      "\n",
      "Topic 7:\n",
      "['case', 'matte', 'bottom', 'purse', 'jeans']\n",
      "\n",
      "Topic 8:\n",
      "['one', 'bought', 'great', 'worked', 'headset']\n",
      "\n",
      "Topic 9:\n",
      "['phone', 'card', 'bold', 'like', 'use']\n",
      "\n",
      "Topic 10:\n",
      "['travelling', 'chore', 'iphone', 'depth', 'use']\n",
      "\n",
      "Topic 11:\n",
      "['de', 'ear', 'connectors', 'watched', 'great']\n",
      "\n",
      "Topic 12:\n",
      "['ear', 'bluetooth', 'headset', 'would', 'jawbone']\n",
      "\n",
      "Topic 13:\n",
      "['mophie', 'packs', 'indicators', 'doubles', 'led']\n",
      "\n",
      "Topic 14:\n",
      "['iphone', 'case', 'shes', 'pocket', 'gs']\n",
      "\n",
      "Topic 15:\n",
      "['pro', 'apple', 'original', 'great', 'one']\n",
      "\n"
     ]
    }
   ],
   "source": [
    "#model 1\n",
    "model1 = gensim.models.ldamodel.LdaModel(corpus=corpus, id2word=dictionary, num_topics=best_topic_num, alpha=1/best_topic_num, eta=1/best_topic_num, random_state=42)\n",
    "\n",
    "print(\"Top words:\")\n",
    "for topic_idx, topic in model1.show_topics(num_topics=best_topic_num, num_words=5, formatted=False):\n",
    "    print('Topic %d:' % (topic_idx + 1))\n",
    "    print([word for word, _ in topic])\n",
    "    print()\n",
    "\n",
    "\n",
    "#########################\n",
    "# YOUR CODE HERE\n",
    "#   - Build model for alpha = 1/num_topic = eta\n",
    "#   - Print top words\n",
    "#########################"
   ]
  },
  {
   "cell_type": "code",
   "execution_count": 77,
   "metadata": {
    "id": "3WDzHIzGFm7v"
   },
   "outputs": [
    {
     "name": "stdout",
     "output_type": "stream",
     "text": [
      "Top words:\n",
      "Topic 1:\n",
      "['shes', 'heft', 'trade', 'wife', 'case']\n",
      "\n",
      "Topic 2:\n",
      "['shed', 'use', 'wearing', 'chore', 'headset']\n",
      "\n",
      "Topic 3:\n",
      "['iphone', 'pack', 'use', 'need', 'increased']\n",
      "\n",
      "Topic 4:\n",
      "['battery', 'juice', 'pack', 'mophie', 'iphone']\n",
      "\n",
      "Topic 5:\n",
      "['depth', 'alternative', 'use', 'regularly', 'doubles']\n",
      "\n",
      "Topic 6:\n",
      "['phone', 'battery', 'pack', 'extra', 'charge']\n",
      "\n",
      "Topic 7:\n",
      "['case', 'iphone', 'mophie', 'bottom', 'pack']\n",
      "\n",
      "Topic 8:\n",
      "['great', 'one', 'iphone', 'iphones', 'phone']\n",
      "\n",
      "Topic 9:\n",
      "['phone', 'like', 'use', 'one', 'card']\n",
      "\n",
      "Topic 10:\n",
      "['chore', 'travelling', 'iphone', 'cable', 'use']\n",
      "\n",
      "Topic 11:\n",
      "['great', 'defectuoso', 'phone', 'case', 'one']\n",
      "\n",
      "Topic 12:\n",
      "['ear', 'bluetooth', 'jawbone', 'would', 'great']\n",
      "\n",
      "Topic 13:\n",
      "['mophie', 'phone', 'battery', 'great', 'shed']\n",
      "\n",
      "Topic 14:\n",
      "['iphone', 'gs', 'case', 'accessible', 'pocket']\n",
      "\n",
      "Topic 15:\n",
      "['great', 'one', 'use', 'phone', 'original']\n",
      "\n"
     ]
    }
   ],
   "source": [
    "#model 2\n",
    "#model2 = None\n",
    "\n",
    "model2 = gensim.models.ldamodel.LdaModel(corpus=corpus, id2word=dictionary, num_topics=best_topic_num, alpha=1/2, eta=1/5, random_state=42)\n",
    "\n",
    "print(\"Top words:\")\n",
    "for topic_idx, topic in model2.show_topics(num_topics=best_topic_num, num_words=5, formatted=False):\n",
    "    print('Topic %d:' % (topic_idx + 1))\n",
    "    print([word for word, _ in topic])\n",
    "    print()\n",
    "\n",
    "#########################\n",
    "# YOUR CODE HERE\n",
    "#   - Build model for alpha = 1/2, eta = 1/5\n",
    "#   - Print top words\n",
    "#########################"
   ]
  },
  {
   "cell_type": "code",
   "execution_count": 78,
   "metadata": {
    "id": "hhM9efkXFqI0"
   },
   "outputs": [
    {
     "name": "stdout",
     "output_type": "stream",
     "text": [
      "Top words:\n",
      "Topic 1:\n",
      "['shes', 'heft', 'trade', 'wife', 'case']\n",
      "\n",
      "Topic 2:\n",
      "['shed', 'use', 'wearing', 'chore', 'headset']\n",
      "\n",
      "Topic 3:\n",
      "['iphone', 'pack', 'use', 'need', 'increased']\n",
      "\n",
      "Topic 4:\n",
      "['battery', 'juice', 'pack', 'mophie', 'iphone']\n",
      "\n",
      "Topic 5:\n",
      "['depth', 'alternative', 'use', 'regularly', 'doubles']\n",
      "\n",
      "Topic 6:\n",
      "['phone', 'battery', 'pack', 'extra', 'charge']\n",
      "\n",
      "Topic 7:\n",
      "['case', 'iphone', 'mophie', 'bottom', 'pack']\n",
      "\n",
      "Topic 8:\n",
      "['great', 'one', 'iphone', 'iphones', 'phone']\n",
      "\n",
      "Topic 9:\n",
      "['phone', 'like', 'use', 'one', 'card']\n",
      "\n",
      "Topic 10:\n",
      "['chore', 'travelling', 'iphone', 'cable', 'use']\n",
      "\n",
      "Topic 11:\n",
      "['great', 'defectuoso', 'phone', 'case', 'one']\n",
      "\n",
      "Topic 12:\n",
      "['ear', 'bluetooth', 'jawbone', 'would', 'great']\n",
      "\n",
      "Topic 13:\n",
      "['mophie', 'phone', 'battery', 'great', 'shed']\n",
      "\n",
      "Topic 14:\n",
      "['iphone', 'gs', 'case', 'accessible', 'pocket']\n",
      "\n",
      "Topic 15:\n",
      "['great', 'one', 'use', 'phone', 'original']\n",
      "\n"
     ]
    }
   ],
   "source": [
    "#model 3\n",
    "#model3 = None\n",
    "\n",
    "model3 = gensim.models.ldamodel.LdaModel(corpus=corpus, id2word=dictionary, num_topics=best_topic_num, alpha='auto', eta='auto', random_state=42)\n",
    "\n",
    "print(\"Top words:\")\n",
    "for topic_idx, topic in model2.show_topics(num_topics=best_topic_num, num_words=5, formatted=False):\n",
    "    print('Topic %d:' % (topic_idx + 1))\n",
    "    print([word for word, _ in topic])\n",
    "    print()\n",
    "#########################\n",
    "# YOUR CODE HERE\n",
    "#   - Build model for alpha = 'auto' = eta\n",
    "#   - Print top words\n",
    "#########################"
   ]
  },
  {
   "cell_type": "markdown",
   "metadata": {
    "id": "WRIg6fAIFwW0"
   },
   "source": [
    "**[3pts]1.6.2**  Explain how the different alpha and beta values theoretically influence the LDA model. Then describe what you find in the empirical result (e.g difference in topic words and topics)"
   ]
  },
  {
   "cell_type": "markdown",
   "metadata": {
    "id": "QU26drlOFxo1"
   },
   "source": [
    "Alpha has a strong influence on the number of topics in the LDA model. A higher alpha corresponds to more topics to be represented in each document, which can lead to a higher number of overall topics in the model. Beta has a strong influence on the degree of word overlap between topics. A higher beta value correspinds to more diverse words to be represented in each topic, which can lead to less overlap between topics.\n",
    "\n",
    "For model2 and model3 results are pretty similar. For model one we have a very low alpha and eta which could explain why its different from others. In model3 when we use 'auto' we basically tell the model to choose the best hyperparameters.\n",
    "\n",
    "The topic number 15 covers various aspects of products reviewed such as battery, headset, bluetooth, phone cases and chargers. Topics seem to have relatively clear and distinct interpretations when the topic number is 15.\n",
    "There is not much difference when it comes to the 3 models between the top words, only difference would be minute variation in prbabilities."
   ]
  },
  {
   "cell_type": "markdown",
   "metadata": {
    "id": "lSsPpXqXG11h"
   },
   "source": [
    "## 1.7 LDA on a short text dataset"
   ]
  },
  {
   "cell_type": "markdown",
   "metadata": {
    "id": "pbrCxteDHM1b"
   },
   "source": [
    "**[10pts]1.7.1** In this part, we will read a dataset from twitter and build a LDA model. On Windows, download and unzip the dataset from [this link](http://cs.stanford.edu/people/alecmgo/trainingandtestdata.zip). Place the downloaded dataset in the same folder as this notebook. Use the first 10,000 lines in the \"training.1600000.processed.noemoticon.csv\" file. "
   ]
  },
  {
   "cell_type": "code",
   "execution_count": 79,
   "metadata": {
    "id": "Eg8B4xaRFxA3"
   },
   "outputs": [
    {
     "name": "stdout",
     "output_type": "stream",
     "text": [
      "--2023-02-26 23:06:21--  http://cs.stanford.edu/people/alecmgo/trainingandtestdata.zip\n",
      "Resolving cs.stanford.edu (cs.stanford.edu)... 171.64.64.64\n",
      "Connecting to cs.stanford.edu (cs.stanford.edu)|171.64.64.64|:80... connected.\n",
      "HTTP request sent, awaiting response... 301 Moved Permanently\n",
      "Location: https://cs.stanford.edu/people/alecmgo/trainingandtestdata.zip [following]\n",
      "--2023-02-26 23:06:22--  https://cs.stanford.edu/people/alecmgo/trainingandtestdata.zip\n",
      "Connecting to cs.stanford.edu (cs.stanford.edu)|171.64.64.64|:443... connected.\n",
      "HTTP request sent, awaiting response... 200 OK\n",
      "Length: 81363704 (78M) [application/zip]\n",
      "Saving to: 'trainingandtestdata.zip'\n",
      "\n",
      "trainingandtestdata 100%[===================>]  77.59M  24.3MB/s    in 3.5s    \n",
      "\n",
      "2023-02-26 23:06:26 (22.1 MB/s) - 'trainingandtestdata.zip' saved [81363704/81363704]\n",
      "\n",
      "Archive:  trainingandtestdata.zip\n",
      "  inflating: testdata.manual.2009.06.14.csv  \n",
      "  inflating: training.1600000.processed.noemoticon.csv  \n"
     ]
    }
   ],
   "source": [
    "!wget http://cs.stanford.edu/people/alecmgo/trainingandtestdata.zip # Linux and OSX only\n",
    "!unzip trainingandtestdata.zip # Linux and OSX only"
   ]
  },
  {
   "cell_type": "code",
   "execution_count": 93,
   "metadata": {
    "id": "81FoZvt_HTq6"
   },
   "outputs": [],
   "source": [
    "!head -n 10000 training.1600000.processed.noemoticon.csv > twitter.csv # Linux and OSX only"
   ]
  },
  {
   "cell_type": "code",
   "execution_count": 94,
   "metadata": {
    "id": "uJSwYJflHWvp"
   },
   "outputs": [],
   "source": [
    "def read_twitter(fname):\n",
    "    \"\"\" Read the given dataset into list and clean stop words. \n",
    "    \n",
    "    Args: \n",
    "        fname (string): filename of Twitter Dataset\n",
    "        \n",
    "    Returns:\n",
    "        list of list of words: we view each document as a list, including a list of all words \n",
    "    \"\"\"\n",
    "    twitter = []\n",
    "    punctuationRegex = r'\\W+|\\d+'\n",
    "    with open(fname,encoding=\"latin-1\") as f:\n",
    "        for line in f:\n",
    "            tweet = f.readline().split(\",\")[5]\n",
    "            tweet = re.sub(punctuationRegex, \" \", tweet)\n",
    "            words = [word for word in tweet.split() if word not in stopwords.words('english')]\n",
    "            \n",
    "            twitter.append(words)\n",
    "            ########################\n",
    "            # YOUR CLEANING CODE HERE\n",
    "            #    - Clean tweet\n",
    "            #    - Split into list words\n",
    "            #    - Store list in twitter\n",
    "            ########################\n",
    "    return twitter"
   ]
  },
  {
   "cell_type": "code",
   "execution_count": 95,
   "metadata": {
    "id": "1657cE1hHY8_"
   },
   "outputs": [
    {
     "name": "stdout",
     "output_type": "stream",
     "text": [
      "CPU times: user 2.93 s, sys: 375 ms, total: 3.31 s\n",
      "Wall time: 3.31 s\n"
     ]
    }
   ],
   "source": [
    "%%time\n",
    "twitter = read_twitter('twitter.csv')"
   ]
  },
  {
   "cell_type": "code",
   "execution_count": 97,
   "metadata": {
    "id": "YzcgFZx_HZgK"
   },
   "outputs": [],
   "source": [
    "twitter_dictionary = gensim.corpora.Dictionary(twitter) # TODO: build dictionary\n",
    "twitter_corpus =[twitter_dictionary.doc2bow(text) for text in twitter]# TODO: build corpus for model"
   ]
  },
  {
   "cell_type": "code",
   "execution_count": 98,
   "metadata": {},
   "outputs": [
    {
     "name": "stdout",
     "output_type": "stream",
     "text": [
      "10492\n"
     ]
    }
   ],
   "source": [
    "print(len(twitter_dictionary))"
   ]
  },
  {
   "cell_type": "code",
   "execution_count": 99,
   "metadata": {
    "id": "3WoNVLuJHcyu"
   },
   "outputs": [
    {
     "name": "stdout",
     "output_type": "stream",
     "text": [
      "[('I', 0.03303758), ('work', 0.010796433), ('today', 0.00761333), ('feeling', 0.0068769534), ('much', 0.0055566044), ('want', 0.005072841), ('need', 0.005066201), ('back', 0.004817887), ('still', 0.004655121), ('well', 0.004607212)]\n",
      "CPU times: user 1.03 s, sys: 9.15 ms, total: 1.04 s\n",
      "Wall time: 1.04 s\n"
     ]
    }
   ],
   "source": [
    "%%time\n",
    "########################\n",
    "# YOUR CODE HERE\n",
    "#    - Build model\n",
    "#    - Print top words\n",
    "########################\n",
    "\n",
    "\n",
    "twitter_lda_model= gensim.models.ldamodel.LdaModel(corpus=twitter_corpus,id2word=twitter_dictionary,num_topics=5,random_state=42)\n",
    "\n",
    "\n",
    "top_words = twitter_lda_model.show_topic(0, topn=10)\n",
    "print(top_words)\n",
    "#pprint(twitter_lda_model.print_topics())\n",
    "\n",
    "#for i in range(num):\n",
    "#        topic = model.show_topic(i, topn=5)\n",
    "#        words = [word[0] for word in topic]\n",
    "#        print(f\"Topic {i}: {' '.join(words)}\")\n",
    "#for topic_num in [3, 6, 9, 12, 15]:\n",
    "#    print(f\"\\nTopic {topic_num}:\")\n",
    "#    top_words = twitter_lda_model.show_topic(topic_num, topn=5)\n",
    "#    print(f\"Topic {topic_num}: {' '.join(top_words)}\")\n",
    "    #for word, prob in top_words:\n",
    "    #    print(f\"\\t{word} ({prob:.3f})\")"
   ]
  },
  {
   "cell_type": "markdown",
   "metadata": {
    "id": "lzced6IXOU1Z"
   },
   "source": [
    "## 1.8 LDA visualization\n",
    "\n",
    "**[10pts]1.8.1** We will now visualize the LDA output using pyLDAvis. PyLDAVis shows the following:\n",
    "\n",
    "   1. The distances between topics, as a map in 2-D space.\n",
    "   2. The variance in the topic-word distribution, as the size of a circle in this map.\n",
    "   3. The most \"salient\" terms in each topic."
   ]
  },
  {
   "cell_type": "code",
   "execution_count": 86,
   "metadata": {
    "id": "iaSJ2dyHOVlM"
   },
   "outputs": [],
   "source": [
    "sentences = read_dataset(\"reviews_Cell_Phones_and_Accessories_5.json.gz\")[:1000] # CHANGE TO YOUR DATASET"
   ]
  },
  {
   "cell_type": "code",
   "execution_count": 87,
   "metadata": {
    "id": "5Dn0msKKPJXF"
   },
   "outputs": [
    {
     "name": "stdout",
     "output_type": "stream",
     "text": [
      "CPU times: user 10.9 ms, sys: 7.98 ms, total: 18.9 ms\n",
      "Wall time: 18.2 ms\n"
     ]
    }
   ],
   "source": [
    "%%time\n",
    "import pyLDAvis.gensim"
   ]
  },
  {
   "cell_type": "code",
   "execution_count": 88,
   "metadata": {
    "id": "uZsFH15wPLo2"
   },
   "outputs": [
    {
     "name": "stderr",
     "output_type": "stream",
     "text": [
      "/Users/akash4/opt/anaconda3/lib/python3.9/site-packages/pyLDAvis/_prepare.py:243: FutureWarning: In a future version of pandas all arguments of DataFrame.drop except for the argument 'labels' will be keyword-only.\n",
      "  default_term_info = default_term_info.sort_values(\n"
     ]
    },
    {
     "name": "stdout",
     "output_type": "stream",
     "text": [
      "CPU times: user 1.47 s, sys: 2.89 s, total: 4.36 s\n",
      "Wall time: 2.6 s\n"
     ]
    }
   ],
   "source": [
    "%%time\n",
    "import pyLDAvis\n",
    "import pyLDAvis.gensim_models\n",
    "pyLDAvis.enable_notebook()\n",
    "data = None\n",
    "dictionary = gensim.corpora.Dictionary(sentences)\n",
    "corpus = [dictionary.doc2bow(sentence) for sentence in sentences]\n",
    "lda_model = gensim.models.ldamodel.LdaModel(corpus=corpus, id2word=dictionary, num_topics=12)\n",
    "\n",
    "\n",
    "\n",
    "data = pyLDAvis.gensim_models.prepare(lda_model, corpus, dictionary, sort_topics=False)\n",
    "#vis\n",
    "########################\n",
    "# YOUR CODE HERE\n",
    "#   - Initalize pyLDAvis with your model\n",
    "#   - Make sure to use a subset of the sentences in the dataset\n",
    "#     if your pyLDAvis call in the cell below is taking too long\n",
    "########################"
   ]
  },
  {
   "cell_type": "code",
   "execution_count": 89,
   "metadata": {
    "id": "D_BnRDcsPNyX"
   },
   "outputs": [
    {
     "data": {
      "text/html": [
       "\n",
       "<link rel=\"stylesheet\" type=\"text/css\" href=\"https://cdn.jsdelivr.net/gh/bmabey/pyLDAvis@3.4.0/pyLDAvis/js/ldavis.v1.0.0.css\">\n",
       "\n",
       "\n",
       "<div id=\"ldavis_el693921404533147111041334430853\" style=\"background-color:white;\"></div>\n",
       "<script type=\"text/javascript\">\n",
       "\n",
       "var ldavis_el693921404533147111041334430853_data = {\"mdsDat\": {\"x\": [0.0023251216216264928, 0.0013111025062721425, 0.0105999312775048, -0.0323688475181511, -0.003561324115273069, -0.005562881479459316, 0.0074929095790641975, -0.04197633453593827, 0.061581608795103916, -0.010878117154011963, 0.0025237448207539905, 0.008513086202508117], \"y\": [-0.00844007957591172, 0.01779525162392085, -0.005808756318244044, -0.031123982240269552, 0.0025746466646706166, 0.0011369111877603806, -0.0352042250611138, 0.04951261068841913, 0.02307565840117082, -0.004461988237028464, -0.0025999760915126546, -0.006456071041861747], \"topics\": [1, 2, 3, 4, 5, 6, 7, 8, 9, 10, 11, 12], \"cluster\": [1, 1, 1, 1, 1, 1, 1, 1, 1, 1, 1, 1], \"Freq\": [4.525643825108052, 13.326869298435398, 6.991633738360595, 8.433526776549176, 11.35561472892412, 14.256301203970176, 5.119755897557453, 4.109998828856634, 2.7296752435130647, 13.345110051747607, 6.29700000855472, 9.508870398423005]}, \"tinfo\": {\"Term\": [\"phone\", \"great\", \"battery\", \"one\", \"case\", \"good\", \"headset\", \"well\", \"works\", \"ear\", \"time\", \"even\", \"get\", \"galaxy\", \"would\", \"product\", \"need\", \"work\", \"buy\", \"charger\", \"usb\", \"ive\", \"hub\", \"power\", \"price\", \"really\", \"could\", \"unit\", \"cable\", \"car\", \"tab\", \"slid\", \"six\", \"gerat\", \"iphoe\", \"tryed\", \"productthe\", \"lowthe\", \"setfills\", \"betshappy\", \"outlets\", \"atomically\", \"touchpads\", \"changer\", \"rescue\", \"handed\", \"recepion\", \"grate\", \"tis\", \"inone\", \"monster\", \"manhattan\", \"techies\", \"blueish\", \"nex\", \"utilizes\", \"exchanging\", \"descrition\", \"stained\", \"recogition\", \"tablet\", \"ipads\", \"walkietalkie\", \"text\", \"phone\", \"stand\", \"grip\", \"background\", \"need\", \"way\", \"great\", \"charge\", \"design\", \"like\", \"also\", \"better\", \"would\", \"device\", \"keyboard\", \"leave\", \"bought\", \"voice\", \"price\", \"love\", \"use\", \"little\", \"seems\", \"cord\", \"want\", \"one\", \"small\", \"get\", \"good\", \"dont\", \"fit\", \"case\", \"well\", \"im\", \"work\", \"headset\", \"quality\", \"even\", \"really\", \"long\", \"phones\", \"ear\", \"antennaes\", \"profile\", \"identify\", \"ffffffuuuuuuu\", \"christian\", \"necessities\", \"envelope\", \"soap\", \"voided\", \"cyberpowerit\", \"blacksince\", \"ne\", \"tricked\", \"casemine\", \"accstop\", \"newcannot\", \"fooled\", \"oxnard\", \"hock\", \"folded\", \"ideai\", \"comfortablethese\", \"usps\", \"anyonedont\", \"represented\", \"receptical\", \"blueanyway\", \"embedded\", \"spouse\", \"netherlands\", \"cash\", \"upset\", \"loss\", \"daughter\", \"guaranteed\", \"improvements\", \"phone\", \"cingular\", \"directions\", \"literally\", \"interrupting\", \"crammed\", \"inches\", \"bluetooth\", \"plain\", \"sister\", \"guys\", \"hasnt\", \"item\", \"follow\", \"sturdy\", \"one\", \"bought\", \"connection\", \"use\", \"like\", \"comes\", \"charge\", \"screen\", \"better\", \"device\", \"motorola\", \"software\", \"still\", \"also\", \"battery\", \"phones\", \"cell\", \"pretty\", \"im\", \"get\", \"charger\", \"time\", \"sound\", \"great\", \"car\", \"even\", \"ive\", \"keyboard\", \"good\", \"headset\", \"works\", \"quality\", \"would\", \"dont\", \"divice\", \"payed\", \"jostling\", \"starpluss\", \"batters\", \"unpack\", \"verison\", \"sphl\", \"fatherinlaw\", \"sts\", \"earspeakers\", \"logger\", \"incase\", \"scheduled\", \"quaility\", \"alternate\", \"earspeaker\", \"donenobodys\", \"postit\", \"activates\", \"disturbed\", \"bothered\", \"jewelrywatch\", \"jewelers\", \"firmer\", \"appropriately\", \"welldesigned\", \"stickers\", \"portsmicscamerastylus\", \"jasco\", \"cutouts\", \"landline\", \"plug\", \"even\", \"hear\", \"work\", \"phone\", \"headset\", \"player\", \"set\", \"made\", \"time\", \"far\", \"use\", \"cord\", \"didnt\", \"thought\", \"via\", \"stick\", \"worked\", \"calls\", \"volume\", \"call\", \"case\", \"number\", \"company\", \"would\", \"one\", \"talk\", \"tmobile\", \"quality\", \"using\", \"price\", \"like\", \"well\", \"get\", \"great\", \"keyboard\", \"bluetooth\", \"ear\", \"back\", \"good\", \"battery\", \"bought\", \"better\", \"sound\", \"supper\", \"hdmi\", \"lives\", \"swings\", \"swing\", \"tweezer\", \"gravity\", \"dock\", \"wraparound\", \"similarly\", \"oncespend\", \"coil\", \"badbut\", \"luggage\", \"expert\", \"whistels\", \"sturdily\", \"nephews\", \"machined\", \"wellgood\", \"pricesave\", \"girlfreind\", \"shoes\", \"casewith\", \"shortly\", \"rotating\", \"productsfree\", \"latch\", \"transactions\", \"betternot\", \"mouth\", \"boom\", \"mini\", \"strip\", \"awhile\", \"odd\", \"hurt\", \"personally\", \"handsfree\", \"lightly\", \"driver\", \"ear\", \"arm\", \"earwave\", \"webcam\", \"awesome\", \"attachment\", \"corner\", \"would\", \"mic\", \"good\", \"price\", \"quality\", \"well\", \"like\", \"hard\", \"works\", \"charger\", \"buy\", \"case\", \"hub\", \"sound\", \"dont\", \"little\", \"im\", \"recommend\", \"still\", \"better\", \"fine\", \"really\", \"need\", \"phone\", \"much\", \"one\", \"use\", \"two\", \"usb\", \"back\", \"headset\", \"great\", \"get\", \"keyboard\", \"even\", \"bluetooth\", \"bb\", \"skill\", \"sgsii\", \"assured\", \"mom\", \"reconditioned\", \"essentiala\", \"lowerthats\", \"luving\", \"horriblei\", \"properlywhen\", \"ment\", \"behaves\", \"snazzy\", \"vender\", \"shortage\", \"extends\", \"percent\", \"tothere\", \"thickest\", \"hundreds\", \"doubled\", \"mercedes\", \"soundi\", \"oringal\", \"gripping\", \"tact\", \"ex\", \"situationi\", \"themthe\", \"boy\", \"droid\", \"leary\", \"fading\", \"fancy\", \"battery\", \"beat\", \"unit\", \"life\", \"high\", \"phone\", \"see\", \"trash\", \"low\", \"headset\", \"answer\", \"work\", \"purse\", \"quality\", \"always\", \"case\", \"doesnt\", \"connector\", \"amplifier\", \"pretty\", \"take\", \"right\", \"charge\", \"use\", \"sound\", \"used\", \"dont\", \"really\", \"like\", \"problems\", \"charger\", \"price\", \"time\", \"great\", \"product\", \"get\", \"would\", \"one\", \"even\", \"little\", \"good\", \"much\", \"first\", \"well\", \"ive\", \"obsessed\", \"neckband\", \"entertainment\", \"magic\", \"opera\", \"handsets\", \"safe\", \"glow\", \"underpowered\", \"autoreverse\", \"moot\", \"csm\", \"bassano\", \"magnifying\", \"evo\", \"dime\", \"defintiely\", \"motorolagiant\", \"confronted\", \"instructinos\", \"whooshing\", \"st\", \"dismantling\", \"uselessness\", \"bluetoothgreat\", \"italy\", \"sthe\", \"loops\", \"converters\", \"adaptors\", \"slot\", \"workand\", \"dose\", \"acts\", \"fool\", \"periodically\", \"dare\", \"permanently\", \"downside\", \"ear\", \"amazon\", \"cars\", \"well\", \"sticky\", \"bear\", \"get\", \"phone\", \"light\", \"died\", \"conditions\", \"junk\", \"cannot\", \"great\", \"pad\", \"headset\", \"one\", \"fit\", \"like\", \"say\", \"ports\", \"dont\", \"phones\", \"price\", \"service\", \"usb\", \"good\", \"back\", \"works\", \"made\", \"worth\", \"bluetooth\", \"case\", \"thing\", \"port\", \"find\", \"love\", \"use\", \"cheap\", \"best\", \"also\", \"work\", \"im\", \"battery\", \"sound\", \"bought\", \"even\", \"product\", \"quality\", \"would\", \"teamspeak\", \"jelly\", \"wipes\", \"blocked\", \"thivk\", \"jut\", \"prone\", \"specially\", \"recived\", \"fuses\", \"jus\", \"configurations\", \"specified\", \"considerations\", \"champ\", \"shapetightness\", \"tablets\", \"drilled\", \"softer\", \"iphonethanks\", \"iphonesi\", \"slider\", \"batterry\", \"usenot\", \"barrelscrew\", \"redirect\", \"burning\", \"fannnnntastic\", \"bedrooms\", \"defenetly\", \"cleaning\", \"wet\", \"husband\", \"skype\", \"protector\", \"works\", \"pc\", \"cassette\", \"well\", \"wall\", \"siri\", \"even\", \"headset\", \"adapter\", \"easy\", \"case\", \"clear\", \"great\", \"clearer\", \"value\", \"screen\", \"sound\", \"far\", \"helpful\", \"cord\", \"pry\", \"time\", \"boxwave\", \"charges\", \"need\", \"get\", \"lot\", \"bluetooth\", \"one\", \"use\", \"phone\", \"like\", \"bought\", \"two\", \"really\", \"work\", \"ear\", \"thing\", \"im\", \"much\", \"would\", \"dont\", \"good\", \"battery\", \"quality\", \"recomend\", \"cards\", \"fouryearold\", \"functionally\", \"deployed\", \"machining\", \"casing\", \"upgrated\", \"craze\", \"nize\", \"technition\", \"cherry\", \"srecommend\", \"satasfied\", \"onethe\", \"colorphone\", \"prefectly\", \"bills\", \"hr\", \"cake\", \"betterive\", \"transmitting\", \"unstuck\", \"brandworks\", \"phonesgalaxy\", \"misread\", \"sansung\", \"firefighter\", \"gwifi\", \"soldier\", \"win\", \"wrist\", \"galaxy\", \"sabrent\", \"sii\", \"inverter\", \"mail\", \"ac\", \"good\", \"phone\", \"thanks\", \"stopped\", \"samsung\", \"onehanded\", \"charger\", \"product\", \"strength\", \"folks\", \"car\", \"oem\", \"power\", \"really\", \"ampere\", \"time\", \"case\", \"att\", \"aa\", \"love\", \"newer\", \"better\", \"well\", \"would\", \"cant\", \"also\", \"works\", \"put\", \"problem\", \"signal\", \"much\", \"though\", \"fit\", \"use\", \"purchased\", \"get\", \"never\", \"even\", \"small\", \"like\", \"work\", \"one\", \"battery\", \"ear\", \"afraid\", \"orginal\", \"blcs\", \"jobwould\", \"soaked\", \"wheeldrivingif\", \"chevy\", \"doestn\", \"customersthank\", \"inert\", \"itgreat\", \"obtain\", \"gshock\", \"longeri\", \"suburbani\", \"chemically\", \"watchout\", \"staring\", \"economical\", \"chances\", \"sleazy\", \"reviewed\", \"complements\", \"scammer\", \"replacethese\", \"mate\", \"phonies\", \"lowcheck\", \"onehappy\", \"clanging\", \"lifters\", \"across\", \"dash\", \"solution\", \"incredible\", \"fake\", \"cam\", \"lay\", \"one\", \"buy\", \"lifter\", \"battery\", \"great\", \"case\", \"item\", \"office\", \"ive\", \"get\", \"didnt\", \"could\", \"needs\", \"unit\", \"phone\", \"lost\", \"never\", \"many\", \"used\", \"work\", \"peeling\", \"headset\", \"good\", \"voice\", \"like\", \"worked\", \"using\", \"works\", \"need\", \"bought\", \"time\", \"car\", \"product\", \"bluetooth\", \"thing\", \"use\", \"dont\", \"usa\", \"spigen\", \"carried\", \"asia\", \"label\", \"headphone\", \"slvr\", \"issuei\", \"glare\", \"embarrassed\", \"rereview\", \"shining\", \"gripability\", \"deploying\", \"usevery\", \"protective\", \"scuffed\", \"excelent\", \"resolved\", \"neohybrid\", \"counterfiet\", \"milliamps\", \"generous\", \"residence\", \"inconclusive\", \"recommencement\", \"sun\", \"cheddar\", \"argentina\", \"powerd\", \"broken\", \"mc\", \"cable\", \"tone\", \"booster\", \"ii\", \"antennae\", \"one\", \"product\", \"micro\", \"nice\", \"would\", \"problem\", \"anywhere\", \"mode\", \"shipping\", \"definitely\", \"good\", \"lot\", \"cell\", \"lg\", \"use\", \"tuck\", \"works\", \"makes\", \"really\", \"phones\", \"phone\", \"fit\", \"look\", \"find\", \"like\", \"work\", \"took\", \"great\", \"much\", \"quality\", \"headset\", \"keyboard\", \"case\", \"usb\", \"better\", \"dont\", \"sound\", \"two\", \"used\", \"get\", \"bluetooth\", \"well\", \"bought\", \"yellowed\", \"genuine\", \"hospital\", \"field\", \"worksgreat\", \"mannor\", \"painfull\", \"crush\", \"pool\", \"ignition\", \"allwaste\", \"bone\", \"pound\", \"drivinghave\", \"extent\", \"boss\", \"iohone\", \"counseling\", \"hugged\", \"aliph\", \"learnedcheap\", \"pounds\", \"crack\", \"workthis\", \"chatged\", \"prettyand\", \"valuables\", \"snapped\", \"burner\", \"triedthe\", \"receptacle\", \"inverter\", \"usb\", \"coffee\", \"battery\", \"power\", \"one\", \"hub\", \"bag\", \"ordered\", \"little\", \"put\", \"jawbone\", \"promised\", \"searching\", \"motorola\", \"performance\", \"hubs\", \"watts\", \"ive\", \"charger\", \"nokia\", \"phone\", \"arrived\", \"ones\", \"compared\", \"found\", \"kickstand\", \"product\", \"use\", \"cheap\", \"type\", \"need\", \"jabra\", \"nothing\", \"like\", \"cable\", \"would\", \"every\", \"got\", \"ear\", \"dont\", \"problem\", \"sound\", \"quality\", \"get\", \"headset\", \"find\", \"good\", \"two\", \"work\", \"great\", \"well\", \"price\", \"used\", \"jealous\", \"astounded\", \"habra\", \"liion\", \"betteru\", \"gaps\", \"repalcement\", \"wella\", \"lengths\", \"anatomy\", \"medical\", \"spray\", \"tablesome\", \"twiceall\", \"lured\", \"dented\", \"transportgreat\", \"blacksilverdid\", \"touchy\", \"clamps\", \"mydlink\", \"dashwell\", \"researching\", \"pocketable\", \"solvedhas\", \"aggravate\", \"newlogitech\", \"dubh\", \"smells\", \"whoa\", \"onedisappointing\", \"advised\", \"oem\", \"great\", \"headset\", \"condition\", \"know\", \"im\", \"use\", \"keyboard\", \"credit\", \"keep\", \"used\", \"hub\", \"tight\", \"shelf\", \"like\", \"bit\", \"item\", \"card\", \"much\", \"good\", \"cd\", \"time\", \"ive\", \"phone\", \"go\", \"also\", \"day\", \"one\", \"works\", \"sound\", \"dont\", \"get\", \"could\", \"nice\", \"fine\", \"easy\", \"even\", \"battery\", \"two\", \"bluetooth\", \"quality\", \"bought\", \"work\", \"got\", \"would\", \"really\"], \"Freq\": [918.0, 323.0, 230.0, 438.0, 211.0, 293.0, 328.0, 224.0, 221.0, 170.0, 168.0, 168.0, 248.0, 51.0, 220.0, 143.0, 123.0, 178.0, 99.0, 141.0, 119.0, 139.0, 67.0, 99.0, 143.0, 139.0, 95.0, 81.0, 88.0, 97.0, 1.8136353206845761, 1.2252027058650838, 0.6373893054365589, 0.6372933314324565, 0.6372796765944744, 0.6372400125412885, 0.637224211943052, 0.6372218711136837, 0.6372066557227895, 0.6371732338812524, 0.6371450138827561, 0.6371204351743884, 0.6371218006581867, 0.6371156234695757, 0.6370576229196709, 0.6369883733841906, 0.636984927163176, 0.6369837567484918, 0.6369587228788581, 0.6368416814104404, 0.5924527941905237, 0.5825144129689549, 0.5805329009086445, 0.5795703648769855, 0.5781330956448171, 0.5672313981151333, 0.5662955215290584, 0.5715671993126643, 0.554865446792507, 0.5515687137423726, 1.4879125553684511, 1.2253064826337474, 0.9538896582026409, 3.566158869141725, 43.52816114006779, 3.9605212538417467, 1.715784231520856, 2.9551792558001853, 9.755837105212912, 7.856764373597141, 17.37349928362475, 8.63419542157134, 5.150283412931746, 15.013348189481542, 9.884304942053923, 8.47269276031553, 11.01076093142974, 7.557388943282584, 8.03221317604529, 2.83536884633195, 8.917778576598383, 5.028379781823899, 8.32272934747709, 5.506997718716249, 12.781709668029496, 7.681604793622059, 5.269024323470795, 5.726322506660495, 5.350990804633027, 14.062404465038972, 5.687286836113849, 10.06180327066014, 10.904877416334594, 8.65918091406483, 6.701932850618155, 8.708577095395805, 8.921409463040849, 7.422027103859623, 7.7256800097066165, 9.678258898839886, 7.608274412276136, 7.047762820024124, 6.681201945547721, 5.828920537691082, 6.129846117231793, 6.130235215091243, 2.2808011428057173, 3.0070012379433355, 1.7747126268583693, 1.1869090155034558, 1.1868899636117336, 1.1868654546454978, 1.1868602847854324, 1.1867782371914322, 1.1867839814803935, 1.1867365910964611, 1.1867159116561996, 1.1867117949157773, 1.186698104360419, 1.1866867115206454, 1.1866406614708038, 1.1866217053172308, 1.186610791168204, 1.1866016960440149, 1.18659346256317, 1.1865887713938514, 1.1865147658043973, 1.1864693859216013, 1.1864644075378348, 1.1864424835016316, 1.1864142407475708, 1.1864084964586092, 1.1863068225439906, 1.1862513901555118, 1.1862396143631408, 1.1862348274556729, 4.588600826683146, 2.8162106158519173, 2.7767787527993075, 2.72861212395182, 1.726854657804414, 2.2534405200531316, 217.9770106030341, 9.944261833268653, 3.6414924194762963, 2.477013416295311, 1.6784959782293132, 1.5208806353917732, 3.939854617663294, 45.168162091130576, 3.390599110504261, 2.2819789135191266, 2.301647550399648, 4.000659065178709, 16.86315678792622, 1.6531378146087108, 5.391725184496279, 69.19565581246192, 31.940872149024347, 12.468203601187648, 52.14734144367624, 51.16429599882097, 11.53220694654795, 23.933895511087243, 19.63253057782524, 26.179089912859823, 22.55967317881522, 21.513023902957286, 9.428778532724749, 21.289319845450486, 26.949134059401388, 33.924649321494805, 23.85201565032463, 18.14104662840846, 14.84945876311303, 24.035517344152783, 33.05551542446193, 23.161572030685747, 25.71273943056673, 27.10051062573598, 37.043102785679814, 17.958721364959622, 24.77254025412279, 21.804202676321612, 20.542059846645866, 31.59850639967657, 33.455014637726116, 26.578316463874636, 23.853964113140375, 23.667299230857417, 18.37797020957869, 0.8542416400090034, 0.8541936231827354, 0.8541852855329859, 0.854152135841211, 0.854114666644144, 0.8541049226438344, 0.854056805363955, 0.854042842311965, 0.8539986427229317, 0.8539678034642199, 0.8539400782674627, 0.8539057231323504, 0.8538989927403839, 0.8538497704707787, 0.8537487141376708, 0.853583869761299, 0.8535351497597509, 0.8293349204547205, 0.8264416053112407, 0.822531950754024, 0.8211096280696553, 0.8096389306330157, 0.806895542504609, 0.8028637363558822, 0.8029183328936994, 0.7992098869201957, 0.7981999765375909, 0.7802600162974561, 0.794400720499346, 0.7927572491893937, 1.5911169971959789, 2.0801590305494337, 11.576218731868755, 22.01670089651613, 10.674101905183907, 19.786191941189415, 60.122756180055816, 28.879063192254364, 4.743714463965841, 10.023040351465882, 11.039417937575113, 17.101565157330285, 10.319274837084745, 24.333408694004444, 9.805842767327444, 8.477903081751501, 5.4725829651458255, 3.8588997673152936, 3.6602013184450666, 8.632102589826356, 7.158649017235043, 9.848410989710953, 8.390529334150509, 16.04997335682379, 5.213178791625061, 3.2914590142748894, 16.247457120624496, 24.29126318041787, 5.820125137343412, 5.807428202671933, 14.083205760145345, 10.807791196689537, 11.809704266380404, 17.768980558990624, 14.207982003615191, 14.806643739090923, 16.956142080379653, 10.427226306081849, 12.403922737714954, 11.405883159281185, 9.569836248983115, 13.165753283323731, 11.860236451078817, 10.497404002662218, 9.903765751387343, 10.526730831800247, 1.7222612957529293, 1.7155450694402714, 1.5760954038289117, 1.5961763485800342, 1.5811770430563823, 1.5553048859146419, 1.5272242792388304, 2.352527783230951, 1.8456148224607176, 0.8957407574625417, 0.895729791552148, 0.8957034370161193, 0.8956970755763882, 0.8956826563129978, 0.8956762948732667, 0.8956494556561155, 0.8956445482597516, 0.8956281902718717, 0.8956194054265287, 0.8956138315936215, 0.8955663934287696, 0.8955549428372537, 0.8955487025678033, 0.8955417958618095, 0.895724460059802, 0.8955248320225266, 0.8955093222266108, 0.8954950241335009, 0.8954850881704923, 0.8954816954026358, 6.929161270147898, 7.227735019830353, 4.261906769469323, 1.5246698885536687, 1.721348277688668, 1.590673036776103, 2.7540972407789193, 3.0037417041366092, 3.774913960487866, 1.5575441126999836, 6.711783240809074, 34.164171933906374, 3.9218486778422403, 2.151030088525963, 1.5626675556742586, 6.368334320049902, 2.056465651124608, 2.8258916013919717, 32.97244574512511, 6.497707343956944, 37.67885066383168, 21.13965408331876, 25.18188495024811, 27.902173259336227, 34.131279534217974, 10.942679627388149, 25.26285965599994, 18.576892955173818, 14.847855274620919, 22.745480190704587, 11.158698126178729, 19.794819066705827, 19.457496515333393, 15.707617546518657, 16.740081395938674, 11.278143911337423, 13.833420593590757, 15.453707646943563, 11.244884123358265, 15.073243628869124, 13.99939188904783, 38.412208099015764, 15.030842754922098, 24.782978815467555, 21.149033632398833, 13.04777963637456, 13.205009223108599, 13.137359370772918, 16.49098050245972, 16.08946387515409, 14.327013063074942, 12.48532270366204, 13.031315018647708, 13.091010284403081, 4.865162365029144, 3.442888226179546, 1.6277208284408449, 1.9594577951546306, 1.474465448972804, 1.0204785490168486, 1.020467291395796, 1.020459541584202, 1.0204520365035001, 1.020439963112806, 1.020387835432715, 1.0203842460462924, 1.020360507149725, 1.0203454154113576, 1.020340683947437, 1.0203397866008312, 1.0203326078279862, 1.0203264079787109, 1.0202263946206642, 1.0202024109932044, 1.0201987400298178, 1.0201882981784067, 1.0201634172043412, 1.0201481623120454, 1.0201200182594141, 1.0201119421399634, 1.0200970951324881, 1.020070664196104, 1.020057530304876, 1.0200451306063254, 1.9609930736199135, 1.8751993961941187, 2.002011602733282, 1.4861472702389318, 1.954461695562293, 60.85566344180497, 3.9395202999139993, 22.29806725853344, 21.035244106425065, 9.09256972927188, 118.00578530596006, 13.485922585525664, 2.2340835450373873, 10.04530774618302, 51.15479191149873, 7.123540019451869, 30.283909072440938, 3.194732406469908, 31.161546683540855, 11.934153826401758, 32.58676281402552, 18.7832291288981, 5.415449892239349, 1.706063265961276, 14.034455229083097, 12.057871492382896, 13.897031327893512, 19.330269892935178, 39.27713111169368, 26.67585784049046, 22.240858965115073, 26.548441148646955, 21.83233849666574, 36.85846157518328, 13.397438336668309, 21.350637617833396, 21.13829343276943, 23.264379682278964, 33.57137458236893, 20.44029090718832, 27.320297584027088, 25.038301440636104, 34.99285253004844, 21.64376649157049, 18.8676488870937, 27.909212782685383, 19.475286325332032, 16.138870721220396, 21.73180435128002, 17.663339259830074, 2.0813686316941142, 2.0804966700169185, 2.0293100411214966, 2.6029905679965757, 1.9153624496465353, 1.7637304237321194, 2.321337114418276, 1.6448500117048768, 1.6529969235556579, 1.651371084745994, 1.082408511662713, 1.0824019570999528, 1.0823738953781354, 1.0823699011914536, 1.0823642683640815, 1.0823325197007116, 1.0822854087808724, 1.0822585760395729, 1.08222836360185, 1.0822177124373646, 1.082214742401114, 1.0822118747799063, 1.0821954883730058, 1.082189343470418, 1.0821872951695555, 1.0821834033979165, 1.082175722269682, 1.0821590286176521, 1.0821562634114876, 1.0821441784363983, 6.763031857789491, 1.5283057892264371, 1.9025458214892699, 2.556951319168789, 1.5567024082346597, 2.5736310427528593, 2.0584063597043727, 1.5689382406823438, 3.4461981976833744, 48.68380843280837, 17.425046192816293, 3.3254989969052136, 58.73700343483264, 5.869914509964995, 1.3953160663675617, 60.26776257641722, 171.96101214708287, 19.681765764753198, 3.9194982586768026, 1.5224191773775007, 5.19232921074413, 6.9473342824618785, 59.609828675671835, 7.029036907268023, 56.56161615490593, 69.63238437407347, 25.207137634926358, 53.23950484279732, 17.095186183267526, 9.398254078499276, 34.81640521032644, 27.404169719728007, 28.364883453978308, 14.436354017835253, 24.478258785505044, 44.5842014406452, 23.700951549129844, 35.955139230503626, 18.58304407294577, 13.40235371736293, 30.859543485955346, 33.021762649296775, 21.91130192628278, 11.243587989275792, 18.047008653133588, 15.660895457747175, 38.330647143344, 14.669003307087198, 16.53985085340787, 23.602831383250038, 24.492831217161704, 21.959656574405614, 26.378452747943914, 22.87617616924513, 21.38266169190481, 21.236803006801633, 19.472293409421393, 19.700973910922023, 19.617883357451404, 1.5013572279134917, 0.7846729748843914, 0.7846089785066785, 0.7845696244123379, 0.7845641074832247, 0.7845532207431081, 0.7845368170738782, 0.7845333597983006, 0.7845051866802961, 0.784494961971673, 0.7844892243653953, 0.7844785583024432, 0.7844668624127232, 0.7844650234363522, 0.7844400133577059, 0.7844269934049988, 0.7844262578144503, 0.7844098541452205, 0.7843844762712999, 0.7843686610745089, 0.7843491679249756, 0.7842782569961076, 0.7842427279726188, 0.7842009464294685, 0.7841650496107054, 0.7841278287289551, 0.784105025421954, 0.7840908285243695, 0.7840096928868785, 0.7837848228562256, 2.429216875237337, 1.3704956693490806, 1.945129295981711, 3.20449606458215, 4.958797136429038, 20.85403441780118, 5.451257354424922, 3.8235125767806366, 19.20065048447351, 2.7371918663974477, 1.4433776866505894, 14.648722015243196, 22.18696921544859, 7.710570172913542, 9.762683611139751, 15.228660426674832, 6.091929652368975, 19.519895605544114, 1.0215395311142952, 4.279411884866373, 8.777827907116245, 13.444258989586483, 8.099269753566226, 1.901244110980918, 7.904291768911531, 2.2554867178100535, 12.01865743701097, 2.934347199075474, 4.885977791442255, 9.59352308931738, 14.134125229519297, 6.86470342030586, 10.628127664839376, 16.161218585067672, 12.499979637158855, 19.827406586186278, 12.110248464321064, 8.733497689833657, 7.593205229731591, 8.129529594838584, 8.8855830953736, 8.512335035544865, 6.898239287644674, 7.107638966355526, 7.048530440718904, 7.501853122231625, 7.25182354093297, 7.578219190606684, 7.284914523108098, 7.160816278282105, 1.2874385597838935, 1.426597036249633, 0.669818897771019, 0.6697371709373068, 0.6696952445992029, 0.6696800093946526, 0.6696639474735762, 0.6695673397423961, 0.6695663358723288, 0.6695370464868365, 0.6695242323806837, 0.6695226379988122, 0.6695177367508366, 0.6695154337547999, 0.6695083476131486, 0.6694870301370142, 0.669457209290898, 0.6694335297675464, 0.6693717622328188, 0.6693631998116568, 0.669330249252978, 0.6692879686077916, 0.6692743868362931, 0.6692419086870578, 0.6692319290375656, 0.6692243704864708, 0.6692011043213821, 0.669151678483364, 0.6691420531409542, 0.6691206766136393, 1.3392651825935378, 1.2743528182010668, 9.644963463573712, 1.950828968899988, 1.0925812384031293, 2.9304663213647433, 1.690040059752567, 2.7409188821280575, 20.955071954050467, 42.23711549063419, 2.807717341223396, 3.083142439746959, 5.912853275018373, 0.8744446425717106, 10.365580607847223, 9.849258817019908, 2.375055955960252, 1.2089361567277415, 7.566982658519671, 3.7916243302378114, 7.646702224506803, 9.250412765339858, 0.8494964046086219, 10.05028982121205, 11.304029525758784, 2.3375780613804262, 1.333981046764126, 5.892097493712124, 1.7078904048794006, 8.161483488139114, 10.525437349769474, 10.18064270375474, 6.122809038415668, 8.347619422580117, 9.846066274001254, 5.335461225801949, 6.0520246246414455, 4.78099095518987, 7.303809026501849, 5.274921483217805, 6.282117312974104, 9.436466500537707, 4.790137746833433, 7.749163581100334, 4.743568568719647, 6.4071362204911, 5.050349371640991, 7.477903716639435, 6.351786840461848, 7.41571337545997, 6.044437256570623, 5.49965374159594, 0.5446417118354038, 0.5446352406802808, 0.5445910799489566, 0.5445379772578262, 0.5445346828515817, 0.5445319767321666, 0.5444869531801594, 0.5444851098814273, 0.544479815299963, 0.5444286343458085, 0.5444261243220032, 0.5444136918603426, 0.5443733746029703, 0.5443623932488222, 0.5443541964523331, 0.5443461957514537, 0.5443084669561306, 0.5442876023832491, 0.544282111706175, 0.5442605411890984, 0.5442554427032439, 0.5442552466076341, 0.5442167726489938, 0.5442098700835293, 0.5441567673923987, 0.5441541004921057, 0.5440440516358928, 0.5358165073551504, 0.5356983009215703, 0.5204042552465169, 1.054630191891557, 0.9221679212329126, 1.5153846726644478, 1.4740342267432383, 0.7387913080107348, 1.0471540075492773, 1.3744772700364405, 1.1153387257815488, 14.320738764126427, 6.025897607634674, 2.0247913370463606, 9.349919622947283, 11.280889093928943, 8.804355908773779, 4.190228406739028, 2.4098973869254827, 6.126685731017963, 8.025959248892459, 4.060553674392638, 4.8576895444982515, 2.4232740881662758, 4.338308829896583, 14.486763033714974, 1.9414827056900874, 3.6731911131125665, 3.8985699156246443, 5.18706145703999, 5.550964080823983, 0.6939490267851568, 7.241793299294694, 6.82388500331623, 3.1122418942716044, 6.348992891898326, 3.4324578674776207, 4.1913510148859405, 5.232783736924051, 4.101516007882956, 4.292453204997866, 4.328772621954361, 3.5662220561087676, 3.964597660587495, 4.2426329974987045, 3.6293052293950456, 4.069075832717526, 3.476243036489955, 4.719630542449396, 2.1146649108230764, 1.9666551556776781, 1.9262115882542468, 1.9183641199944546, 3.074434169597317, 1.8308744741642566, 1.0998438253527503, 1.099767992824976, 1.0997536124467633, 1.0996154649467345, 1.0995968663242461, 1.0995960035015535, 1.0995750081493632, 1.0995718444661564, 1.0995704064283351, 1.0995356059130605, 1.099525731386688, 1.0995161444678796, 1.0995107757933469, 1.099506461679883, 1.099504064950181, 1.0994816315601694, 1.0994796183072197, 1.0994593899085339, 1.0994565138328916, 1.0994529666729325, 1.0994324506666824, 1.099429862198604, 1.0994312043672374, 8.417573944047088, 2.6342410138531105, 37.174665865358406, 7.323056131438336, 3.6912578678974763, 8.135973159644104, 2.6600273328487773, 92.82460355292156, 37.20535627680132, 3.3264422447609534, 25.579198600009548, 44.989277837010384, 22.316006243825296, 4.314254966695107, 6.501651228796376, 8.180123605093986, 7.276064890207154, 51.08510712311275, 17.623824583831315, 21.446409817717342, 12.857706305126554, 54.16456349599703, 1.489090464772999, 39.61362402742197, 16.117331560560583, 26.766858314039546, 26.179292166297195, 94.25429692004856, 22.175256470555112, 15.755987552462953, 17.63856849800511, 40.881284661524184, 27.69085628614081, 9.984655527233313, 39.62136412219111, 23.323145043646896, 26.609958033868004, 37.07244016662784, 21.024887569829218, 27.877302683126292, 20.28301804648214, 21.632529492509835, 24.809338341556003, 24.677453016892805, 19.685783682859906, 20.97584089320552, 25.424217237506692, 22.791624790211873, 22.47523039311599, 20.536841308852956, 2.527890365440679, 1.7074791064155934, 0.8882069066253688, 0.8881680030931217, 0.8881539797268466, 0.8879569288123489, 0.8879420911860966, 0.8879305105997533, 0.8879186585934175, 0.8879058113804429, 0.8878926927474758, 0.8878694411014585, 0.8878638317549484, 0.8878572272017995, 0.8877635873044142, 0.8877362643585105, 0.8877301121720156, 0.8877272170254298, 0.8877181696923491, 0.8876986274528947, 0.8876682284137436, 0.8876649713738345, 0.8876189204484537, 0.8875803788095299, 0.8875601127834292, 0.8874947910385864, 0.8874549827730314, 0.8872848024377833, 0.8872114285664987, 0.8870242392450589, 1.253567439310116, 3.637402458033235, 18.73648976044985, 1.463032832841238, 25.44819373207972, 14.32373483822669, 37.0799720573136, 10.687227342381798, 3.66435699653392, 6.1158321392016655, 14.964194823223199, 9.467531037239235, 3.3470771584066212, 2.609356171432585, 1.813881171844541, 11.83750527026272, 3.714059787439408, 2.08581885266459, 1.6770265070525845, 12.660594720826357, 12.728417872319206, 6.225812967704017, 37.68589728626108, 3.3971501661817722, 5.167518913361305, 4.813350203117383, 5.891059110464643, 1.707136031545173, 11.416132608001993, 17.879605987576515, 7.110624048330874, 5.72485960177208, 9.915687424352083, 6.368655881315431, 5.515966813951636, 14.78285731682, 7.892399033328129, 11.913345082651722, 6.810526181403805, 8.915835522777497, 9.99088668555897, 10.312874755821467, 7.620583853397992, 10.080776644328983, 9.999889143867595, 10.89851224506878, 11.590000636213764, 7.433973561275357, 11.137054229074666, 8.160223253689704, 9.399023907365486, 10.440777265476727, 9.243761538687524, 8.333962447878404, 7.8967207633941205, 1.9298718304429174, 1.9287911624292484, 1.7414008696903396, 1.6183469380539568, 1.003732784945315, 1.0037299159151902, 1.0036902276651307, 1.0036528619632674, 1.0035756713908626, 1.0035676790926578, 1.0035549733878193, 1.0035447951619005, 1.003531884526339, 1.0035187006498132, 1.0034809250865036, 1.0034809250865036, 1.0034748454750486, 1.0034478629298273, 1.003440212182828, 1.0034302388876324, 1.0034281895804003, 1.0034003190020453, 1.0033964253183045, 1.003385495679734, 1.00334744687546, 1.0033356975139964, 1.0033211474326493, 1.003305094525999, 1.0032945747488746, 1.0032492850590475, 1.0034012753454202, 1.4280578319251578, 10.044724755596775, 57.256026475279164, 51.35443697341499, 3.4736142851982237, 15.228853434987203, 24.3882774663645, 40.09821205860342, 20.31550503982178, 3.712665700568839, 12.218778510375834, 19.99419333919525, 11.813291105333887, 4.014517179720398, 2.0536695239840306, 32.99637555339676, 11.994555882135897, 10.927160821546897, 6.1625160423519425, 18.783211244848708, 29.74773722177695, 1.886997863981018, 20.448623665756394, 17.87926237130005, 60.41444719828172, 12.211003165496702, 18.56226422928838, 10.402687906205994, 33.9337866083932, 22.191719585768553, 19.830353685166365, 18.851276662011042, 22.063709472901845, 12.603937880640304, 13.204511683420657, 11.143522853726854, 12.11162324086571, 16.159248754985168, 18.800965349742807, 13.323524517816038, 16.272561782865974, 15.506660802247275, 14.394928569832738, 14.503277355874774, 13.368562279473956, 14.177865947820406, 12.943886800957442], \"Total\": [918.0, 323.0, 230.0, 438.0, 211.0, 293.0, 328.0, 224.0, 221.0, 170.0, 168.0, 168.0, 248.0, 51.0, 220.0, 143.0, 123.0, 178.0, 99.0, 141.0, 119.0, 139.0, 67.0, 99.0, 143.0, 139.0, 95.0, 81.0, 88.0, 97.0, 2.58611112635419, 1.9976786393242887, 1.4098616533494353, 1.4097652000450844, 1.4097517858373187, 1.4097120357511959, 1.409696516059873, 1.4096933945531664, 1.4096792232696522, 1.4096448788538647, 1.4096190210293307, 1.4095923105410557, 1.4095958269757574, 1.409587627323315, 1.4095314647379125, 1.409460427046516, 1.4094572379923345, 1.40945590735959, 1.409431100087937, 1.409315343925278, 1.4133496110831298, 1.4135639858122309, 1.4135631036481735, 1.432189751834713, 1.4331243578081043, 1.4374565789544538, 1.4375263135112297, 1.457182102344209, 1.442239870772778, 1.4434245470020586, 4.257805254794118, 3.589157268644784, 2.8566517956936224, 21.05649299595435, 918.9128599903431, 26.27771938601887, 7.748310246636759, 18.23542724500945, 123.74512131284328, 89.498384794444, 323.88495832071345, 114.93632528190471, 49.09106639206445, 322.77353330409153, 158.0553510376689, 137.1691123350254, 220.28059934161908, 112.6250833803912, 125.94995082568624, 19.633245221819504, 157.02756179179272, 56.5902338464868, 143.5125529966019, 69.49201949591233, 326.16717520573775, 129.53282001963856, 66.36434989438327, 77.45829944192076, 68.49952129356942, 438.69357212079063, 78.28477488210872, 248.13472267272167, 293.1684767084349, 186.5137240329935, 111.5315191728749, 211.86835910337592, 224.69913466058915, 148.99289613494483, 178.63055141689512, 328.89001119106734, 187.13506645457844, 168.08034795131204, 139.37638663478725, 88.91365289485657, 135.8839686198583, 170.52669084896073, 3.010946953909997, 4.819249988663261, 2.8648696666182696, 1.9170549152669125, 1.917034404528504, 1.917010217897557, 1.917004806896609, 1.9169248300088821, 1.9169352439141432, 1.9168811706706825, 1.916860477715745, 1.9168563615671033, 1.9168448410856271, 1.9168313308371232, 1.9167854044763113, 1.9167664148489458, 1.916757905038376, 1.9167464169139312, 1.9167395464787618, 1.9167341799374937, 1.9166594159737012, 1.9166154141222007, 1.9166092393421068, 1.9165884913667797, 1.91655901093628, 1.9165542709903696, 1.9164516366707292, 1.9163967319864115, 1.916387850830715, 1.9163819853775375, 7.904158968686083, 4.864268121101561, 4.859434029251988, 4.794587515162616, 2.9107917559841017, 3.927252655690253, 918.9128599903431, 24.090118895093475, 7.410374708284646, 4.683094749399631, 2.9212051149743283, 2.6001663830438853, 8.448933455504726, 184.12169776162793, 7.309077803133777, 4.435991452723365, 4.514815423315955, 9.306557058329531, 61.942297960272874, 2.964517810208812, 14.07952935666056, 438.69357212079063, 157.02756179179272, 44.37950998776896, 326.16717520573775, 322.77353330409153, 41.964740812430975, 114.93632528190471, 87.63007241829756, 137.1691123350254, 112.6250833803912, 106.17378242233383, 33.313433713834634, 109.12944151440017, 158.0553510376689, 230.11957138326832, 135.8839686198583, 93.21841458703122, 68.6094834180977, 148.99289613494483, 248.13472267272167, 141.00236368089386, 168.68076744504376, 185.59703473130747, 323.88495832071345, 97.22304104441304, 168.08034795131204, 139.1026014691756, 125.94995082568624, 293.1684767084349, 328.89001119106734, 221.2191947458199, 187.13506645457844, 220.28059934161908, 186.5137240329935, 1.6100090052103893, 1.6099598834152542, 1.6099525203887608, 1.6099186104813359, 1.6098823142825722, 1.6098714331762802, 1.6098242975844812, 1.609810184002854, 1.60976744652275, 1.6097345401278624, 1.6097065767957721, 1.6096741476532732, 1.6096663040210717, 1.6096181159681113, 1.6095177164143182, 1.6093524932956593, 1.6093018761065343, 1.604484163455447, 1.603645922885298, 1.6027292194779206, 1.6026789316750343, 1.599903745628287, 1.6119331148026477, 1.6125333705109473, 1.6199834315017985, 1.6205858144584544, 1.6206815475091334, 1.5907944581397688, 1.621421927499509, 1.621825650678041, 3.263329361974528, 5.244969099996682, 66.32144287805473, 168.08034795131204, 62.777137425684266, 178.63055141689512, 918.9128599903431, 328.89001119106734, 22.73529915107112, 70.67421915007083, 82.63090111419183, 168.68076744504376, 78.86353706549144, 326.16717520573775, 77.45829944192076, 65.72958283101912, 32.61255195058809, 18.439618096311285, 17.303174633894137, 72.48612899725156, 54.5650727937053, 93.01159637470616, 71.35766452307519, 211.86835910337592, 32.63078933480679, 15.24633117248123, 220.28059934161908, 438.69357212079063, 40.327820385903834, 41.263067204134174, 187.13506645457844, 119.86638724115981, 143.5125529966019, 322.77353330409153, 224.69913466058915, 248.13472267272167, 323.88495832071345, 125.94995082568624, 184.12169776162793, 170.52669084896073, 118.19391298842608, 293.1684767084349, 230.11957138326832, 157.02756179179272, 137.1691123350254, 185.59703473130747, 2.474838847152, 2.472334400005335, 2.446086533762928, 2.4785225736422474, 2.486823685359517, 2.512115647132472, 2.4866292315496996, 4.159359948288357, 3.3373626924093123, 1.6483116720454176, 1.6483013149279835, 1.6482748306227777, 1.6482701533842516, 1.6482546137177425, 1.6482485002780298, 1.6482208840446821, 1.6482160383924342, 1.648200812939498, 1.648190407826905, 1.6481866207295277, 1.6481403425779364, 1.6481271400509443, 1.6481213552679803, 1.6481149153673127, 1.6484516279946055, 1.648095886696308, 1.648082135317713, 1.6480678778872428, 1.648056924869533, 1.6480534573250283, 12.75483986368302, 15.031881331124895, 8.616995052190047, 2.942240401886147, 3.3740704581820946, 3.1951642468549464, 6.229370455599591, 7.028717042093908, 9.308672540509207, 3.2539383726703583, 21.11868370083562, 170.52669084896073, 10.85806511682065, 5.027501485592574, 3.3598170300621066, 20.483616892033197, 4.991513814799183, 7.778242562915919, 220.28059934161908, 24.681863807288053, 293.1684767084349, 143.5125529966019, 187.13506645457844, 224.69913466058915, 322.77353330409153, 58.96613710832024, 221.2191947458199, 141.00236368089386, 99.97454289096245, 211.86835910337592, 67.46097752273396, 185.59703473130747, 186.5137240329935, 129.53282001963856, 148.99289613494483, 74.70494962346835, 109.12944151440017, 137.1691123350254, 77.8694368772637, 139.37638663478725, 123.74512131284328, 918.9128599903431, 144.78347259215954, 438.69357212079063, 326.16717520573775, 114.41916708797696, 119.57682858137808, 118.19391298842608, 328.89001119106734, 323.88495832071345, 248.13472267272167, 125.94995082568624, 168.08034795131204, 184.12169776162793, 6.423638581902922, 4.613940613761027, 2.6633741565227544, 3.309836885194414, 2.5369552660304318, 1.7634445934367207, 1.763434548125961, 1.7634254829554636, 1.7634199500763323, 1.763406984574657, 1.763354495763819, 1.7633516995760448, 1.7633271523720189, 1.763312073456926, 1.7633067314542825, 1.7633080665549181, 1.7632981666217942, 1.7632929623467124, 1.7631950001339431, 1.7631697341340073, 1.7631649471113549, 1.763155321332705, 1.7631290975547627, 1.7631145941579422, 1.7630896173836508, 1.763077663728115, 1.7630630224229136, 1.763037036910986, 1.7630240782988953, 1.76301161559079, 3.428592471343657, 3.3695780024159028, 3.6903711521795133, 2.6821217772503134, 3.7013868368721083, 230.11957138326832, 9.310119979824037, 81.34267402989363, 76.52751649503683, 27.884240621563002, 918.9128599903431, 53.5912411266942, 4.9692318531574164, 37.03468062803936, 328.89001119106734, 24.359398173039665, 178.63055141689512, 8.248168251753535, 187.13506645457844, 51.381318217269246, 211.86835910337592, 98.85226422734246, 17.648517101559836, 3.5921863875221263, 68.6094834180977, 56.01885719146704, 70.25043425662642, 114.93632528190471, 326.16717520573775, 185.59703473130747, 141.97252262846996, 186.5137240329935, 139.37638663478725, 322.77353330409153, 68.14538075692276, 141.00236368089386, 143.5125529966019, 168.68076744504376, 323.88495832071345, 143.48046403495246, 248.13472267272167, 220.28059934161908, 438.69357212079063, 168.08034795131204, 129.53282001963856, 293.1684767084349, 144.78347259215954, 99.46328014837815, 224.69913466058915, 139.1026014691756, 2.8195677925986513, 2.8186948392063855, 2.815573012885856, 3.7583566677698945, 2.835434118654317, 2.7590037713197315, 3.7008604062699333, 2.7130981890426424, 2.745010810647582, 2.7514734695916148, 1.8206035288287032, 1.820597675479369, 1.8205689781961134, 1.8205647698886231, 1.8205601442856503, 1.8205293467465882, 1.820481939996968, 1.8204553219929833, 1.820424124959776, 1.8204135028864292, 1.8204114558115247, 1.8204076033232854, 1.820391739211497, 1.820385232037253, 1.820384014567853, 1.820378495899809, 1.8203707296703462, 1.8203550010505003, 1.8203513760295764, 1.8203392962991778, 11.604221563798209, 2.580641793212853, 3.274636929066252, 4.461058302053158, 2.671071720481822, 4.579947879718979, 3.6107973881372026, 2.7336351333283986, 7.208517970109481, 170.52669084896073, 50.399999461690356, 7.035808131078744, 224.69913466058915, 13.980656117957427, 2.481478672113036, 248.13472267272167, 918.9128599903431, 67.01128725056364, 9.044233705553108, 2.785604776351081, 13.19568286960804, 19.247956457153567, 323.88495832071345, 19.63992470494017, 328.89001119106734, 438.69357212079063, 111.5315191728749, 322.77353330409153, 67.90617782395272, 29.813912373998452, 186.5137240329935, 135.8839686198583, 143.5125529966019, 55.58929806664253, 119.57682858137808, 293.1684767084349, 118.19391298842608, 221.2191947458199, 82.63090111419183, 51.21695379100646, 184.12169776162793, 211.86835910337592, 111.93276772315615, 40.424113968255035, 85.94599946345377, 69.49201949591233, 326.16717520573775, 63.79700040906296, 78.73234753138047, 158.0553510376689, 178.63055141689512, 148.99289613494483, 230.11957138326832, 185.59703473130747, 157.02756179179272, 168.08034795131204, 143.48046403495246, 187.13506645457844, 220.28059934161908, 2.2705887176766746, 1.5458017892721565, 1.5457372913641128, 1.5456979317897972, 1.5456924163100632, 1.5456839653601788, 1.5456656140418135, 1.545661886134089, 1.5456335620684074, 1.5456238938347384, 1.5456195289204284, 1.5456069736868472, 1.5455971740997092, 1.545593916799104, 1.5455692880029572, 1.5455560857710442, 1.545555868460542, 1.545538316649896, 1.5455136527335294, 1.5454973232930453, 1.5454779084939467, 1.5454085082624895, 1.5453714810812138, 1.5453297514406341, 1.5452939109779886, 1.545257579121865, 1.5452345184202514, 1.545221627570121, 1.5451391715632048, 1.544913825159752, 5.727502194068567, 3.2209134672816777, 5.269170595361505, 10.619793721431613, 19.712505740698564, 221.2191947458199, 29.147859401119522, 17.755981478867454, 224.69913466058915, 10.8250243629138, 4.043653296315934, 168.08034795131204, 328.89001119106734, 59.894387301912936, 93.96466132663528, 211.86835910337592, 46.118718329117904, 323.88495832071345, 2.389606834303107, 26.027361505151955, 87.63007241829756, 185.59703473130747, 78.86353706549144, 6.8356109505521285, 77.45829944192076, 9.40590747287153, 168.68076744504376, 15.36503278293146, 37.783700524080736, 123.74512131284328, 248.13472267272167, 71.65379445580137, 184.12169776162793, 438.69357212079063, 326.16717520573775, 918.9128599903431, 322.77353330409153, 157.02756179179272, 114.41916708797696, 139.37638663478725, 178.63055141689512, 170.52669084896073, 111.93276772315615, 148.99289613494483, 144.78347259215954, 220.28059934161908, 186.5137240329935, 293.1684767084349, 230.11957138326832, 187.13506645457844, 2.057420090237386, 2.971034012491768, 1.4397963684748276, 1.4397155556419206, 1.4396745291431874, 1.4396586415072592, 1.4396426840919168, 1.4395457351849337, 1.4395452165709368, 1.4395146520748914, 1.439504302088215, 1.439501364094329, 1.439497300143625, 1.4394955302674985, 1.439488934519372, 1.4394651426907616, 1.4394359965494492, 1.4394122031890768, 1.4393500796913419, 1.4393422335552546, 1.4393092961965852, 1.4392668423176926, 1.439254840087782, 1.4392223664502453, 1.4392122603729387, 1.439205560059085, 1.439180604484102, 1.4391304125454862, 1.4391200617520699, 1.4391017969433708, 2.924222053332714, 3.0157523762919607, 51.076417778998675, 6.061198556924648, 2.8889506600900434, 11.840684197119868, 5.638005603973491, 12.573630158136723, 293.1684767084349, 918.9128599903431, 14.328726486256377, 17.86551219336951, 53.72877445884525, 2.2456020847262534, 141.00236368089386, 143.48046403495246, 12.572160063204, 3.984786524166465, 97.22304104441304, 28.989394088654144, 99.67265266403295, 139.37638663478725, 2.17691826815332, 168.68076744504376, 211.86835910337592, 12.971953638164658, 4.895396557402456, 69.49201949591233, 7.67151951978355, 137.1691123350254, 224.69913466058915, 220.28059934161908, 85.83645436444205, 158.0553510376689, 221.2191947458199, 67.08611936642338, 89.56707675794314, 56.29244740288264, 144.78347259215954, 71.41565830436801, 111.5315191728749, 326.16717520573775, 59.504471737173596, 248.13472267272167, 61.23484121543896, 168.08034795131204, 78.28477488210872, 322.77353330409153, 178.63055141689512, 438.69357212079063, 230.11957138326832, 170.52669084896073, 1.3242539157781688, 1.3242481677109315, 1.3242033321534894, 1.3241524179239865, 1.3241477988410557, 1.3241449972901806, 1.3240999671914737, 1.3240983837279163, 1.3240944788542197, 1.3240411272814738, 1.324041080812417, 1.3240263218869102, 1.323987502795454, 1.3239757931343894, 1.3239676461462648, 1.3239588886208966, 1.3239234332043277, 1.3239012659901825, 1.3238962705067054, 1.3238742235476142, 1.3238700742780622, 1.323870103722763, 1.3238297249007496, 1.3238235463007073, 1.3237698511128877, 1.3237682205630505, 1.323656913720436, 1.3315601059100775, 1.3314529791283738, 1.3379109973009533, 2.719589395660597, 2.8599862383081938, 5.985437052771918, 5.9319801777184615, 2.1185591789154246, 3.7103713079145337, 5.79415397938883, 4.365818387569818, 438.69357212079063, 99.97454289096245, 14.073128652778484, 230.11957138326832, 323.88495832071345, 211.86835910337592, 61.942297960272874, 22.416774711716442, 139.1026014691756, 248.13472267272167, 65.72958283101912, 95.95293412762575, 25.173496065845157, 81.34267402989363, 918.9128599903431, 16.53265811436468, 61.23484121543896, 76.82197698829668, 141.97252262846996, 178.63055141689512, 2.1973380633456063, 328.89001119106734, 293.1684767084349, 56.5902338464868, 322.77353330409153, 72.48612899725156, 119.86638724115981, 221.2191947458199, 123.74512131284328, 157.02756179179272, 168.68076744504376, 97.22304104441304, 143.48046403495246, 184.12169776162793, 111.93276772315615, 326.16717520573775, 186.5137240329935, 5.723958294745338, 2.8515268806201375, 2.793218504946874, 2.777446579925453, 2.8481318389985324, 4.708610477616547, 2.84692360907824, 1.8367065469883708, 1.83662956076888, 1.8366155933265587, 1.8364768052496703, 1.8364595026494992, 1.8364582976323776, 1.8364372566133114, 1.8364352569711913, 1.8364334318739206, 1.8363975636366925, 1.836388875291275, 1.8363802427864218, 1.8363721698278868, 1.836369573015824, 1.836366219558456, 1.8363434897170383, 1.8363416094386362, 1.8363221713665323, 1.8363183418942426, 1.8363147762839311, 1.8362951539158643, 1.8362929136604138, 1.8362955404717032, 15.644302502196206, 4.79664804839963, 88.75578431227646, 17.532536722491212, 7.774937541372258, 21.540217866433565, 5.424495288268088, 438.69357212079063, 143.48046403495246, 7.544759357714449, 105.04757678195679, 220.28059934161908, 89.56707675794314, 10.668594979797742, 18.373351306324057, 24.760394797542915, 21.47448664507676, 293.1684767084349, 71.65379445580137, 93.21841458703122, 47.514467164070766, 326.16717520573775, 2.738187813653485, 221.2191947458199, 67.74248656583799, 139.37638663478725, 135.8839686198583, 918.9128599903431, 111.5315191728749, 70.19328522877883, 85.94599946345377, 322.77353330409153, 178.63055141689512, 36.01683734378897, 323.88495832071345, 144.78347259215954, 187.13506645457844, 328.89001119106734, 125.94995082568624, 211.86835910337592, 119.57682858137808, 137.1691123350254, 186.5137240329935, 185.59703473130747, 114.41916708797696, 141.97252262846996, 248.13472267272167, 184.12169776162793, 224.69913466058915, 157.02756179179272, 3.2810517864339745, 3.129737083940733, 1.6413668725994386, 1.6413279493858888, 1.6413157520741923, 1.641117144772905, 1.6411024093048157, 1.6410910289571388, 1.6410789503417134, 1.6410659745570155, 1.641054912177738, 1.6410299485067636, 1.6410243001952605, 1.6410172927848037, 1.640923870444854, 1.6408985551907787, 1.6408911002277895, 1.6408882693832965, 1.64087926441648, 1.6408595727090993, 1.6408307830655147, 1.6408255765990254, 1.6407795801449256, 1.640740894199595, 1.6407207463446842, 1.640658236683871, 1.6406157322517052, 1.64044811246433, 1.6403724013948038, 1.6401867895252549, 2.4798441127334994, 11.840684197119868, 119.57682858137808, 3.415796345163131, 230.11957138326832, 99.67265266403295, 438.69357212079063, 67.46097752273396, 13.930381951763028, 30.37215420161831, 129.53282001963856, 67.08611936642338, 13.088911443344692, 8.93541689785938, 5.088604819265161, 106.17378242233383, 17.165470636524528, 6.692954534889224, 4.719049456602187, 139.1026014691756, 141.00236368089386, 42.66212380520576, 918.9128599903431, 15.794769734472599, 32.662241457748834, 29.833581350485584, 43.55589397636216, 5.07614697975152, 143.48046403495246, 326.16717520573775, 63.79700040906296, 43.752856945489434, 123.74512131284328, 54.16640252619679, 42.37532474474615, 322.77353330409153, 88.75578431227646, 220.28059934161908, 65.81170927274134, 123.77098608495191, 170.52669084896073, 186.5137240329935, 89.56707675794314, 185.59703473130747, 187.13506645457844, 248.13472267272167, 328.89001119106734, 85.94599946345377, 293.1684767084349, 114.41916708797696, 178.63055141689512, 323.88495832071345, 224.69913466058915, 143.5125529966019, 141.97252262846996, 2.6741353702417863, 2.6730538181450134, 2.632074988347328, 2.611101487222824, 1.7479947212831468, 1.7479914100845755, 1.7479521197771364, 1.7479142864212358, 1.7478382846716118, 1.7478292205021746, 1.7478172795948077, 1.7478073918767678, 1.7477933189928683, 1.7477801928080932, 1.7477423133190553, 1.7477439683392901, 1.7477362832713232, 1.7477091488184051, 1.7477017295007653, 1.747692925198495, 1.747689557173945, 1.7476628284489297, 1.7476578322205243, 1.7476470355756666, 1.7476103202430155, 1.7475986367568601, 1.7475825693961096, 1.7475665727011203, 1.7475577566359948, 1.7475124895972316, 1.747798343373987, 2.6571732108237125, 28.989394088654144, 323.88495832071345, 328.89001119106734, 9.737386662836578, 76.04622816549664, 148.99289613494483, 326.16717520573775, 125.94995082568624, 11.643223006256896, 67.26395604014174, 141.97252262846996, 67.46097752273396, 13.61930739419391, 5.053362853497649, 322.77353330409153, 71.01647851983563, 61.942297960272874, 26.36344313484943, 144.78347259215954, 293.1684767084349, 4.539138699217774, 168.68076744504376, 139.1026014691756, 918.9128599903431, 80.77181466047267, 158.0553510376689, 65.1218727446834, 438.69357212079063, 221.2191947458199, 185.59703473130747, 186.5137240329935, 248.13472267272167, 95.95293412762575, 105.04757678195679, 77.8694368772637, 93.96466132663528, 168.08034795131204, 230.11957138326832, 114.41916708797696, 184.12169776162793, 187.13506645457844, 157.02756179179272, 178.63055141689512, 123.77098608495191, 220.28059934161908, 139.37638663478725], \"Category\": [\"Default\", \"Default\", \"Default\", \"Default\", \"Default\", \"Default\", \"Default\", \"Default\", \"Default\", \"Default\", \"Default\", \"Default\", \"Default\", \"Default\", \"Default\", \"Default\", \"Default\", \"Default\", \"Default\", \"Default\", \"Default\", \"Default\", \"Default\", \"Default\", \"Default\", \"Default\", \"Default\", \"Default\", \"Default\", \"Default\", \"Topic1\", \"Topic1\", \"Topic1\", \"Topic1\", \"Topic1\", \"Topic1\", \"Topic1\", \"Topic1\", \"Topic1\", \"Topic1\", \"Topic1\", \"Topic1\", \"Topic1\", \"Topic1\", \"Topic1\", \"Topic1\", \"Topic1\", \"Topic1\", \"Topic1\", \"Topic1\", \"Topic1\", \"Topic1\", \"Topic1\", \"Topic1\", \"Topic1\", \"Topic1\", \"Topic1\", \"Topic1\", \"Topic1\", \"Topic1\", \"Topic1\", \"Topic1\", \"Topic1\", \"Topic1\", \"Topic1\", \"Topic1\", \"Topic1\", \"Topic1\", \"Topic1\", \"Topic1\", \"Topic1\", \"Topic1\", \"Topic1\", \"Topic1\", \"Topic1\", \"Topic1\", \"Topic1\", \"Topic1\", \"Topic1\", \"Topic1\", \"Topic1\", \"Topic1\", \"Topic1\", \"Topic1\", \"Topic1\", \"Topic1\", \"Topic1\", \"Topic1\", \"Topic1\", \"Topic1\", \"Topic1\", \"Topic1\", \"Topic1\", \"Topic1\", \"Topic1\", \"Topic1\", \"Topic1\", \"Topic1\", \"Topic1\", \"Topic1\", \"Topic1\", \"Topic1\", \"Topic1\", \"Topic1\", \"Topic1\", \"Topic1\", \"Topic2\", \"Topic2\", \"Topic2\", \"Topic2\", \"Topic2\", \"Topic2\", \"Topic2\", \"Topic2\", \"Topic2\", \"Topic2\", \"Topic2\", \"Topic2\", \"Topic2\", \"Topic2\", \"Topic2\", \"Topic2\", \"Topic2\", \"Topic2\", \"Topic2\", \"Topic2\", \"Topic2\", \"Topic2\", \"Topic2\", \"Topic2\", \"Topic2\", \"Topic2\", \"Topic2\", \"Topic2\", \"Topic2\", \"Topic2\", \"Topic2\", \"Topic2\", \"Topic2\", \"Topic2\", \"Topic2\", \"Topic2\", \"Topic2\", \"Topic2\", \"Topic2\", \"Topic2\", \"Topic2\", \"Topic2\", \"Topic2\", \"Topic2\", \"Topic2\", \"Topic2\", \"Topic2\", \"Topic2\", \"Topic2\", \"Topic2\", \"Topic2\", \"Topic2\", \"Topic2\", \"Topic2\", \"Topic2\", \"Topic2\", \"Topic2\", \"Topic2\", \"Topic2\", \"Topic2\", \"Topic2\", \"Topic2\", \"Topic2\", \"Topic2\", \"Topic2\", \"Topic2\", \"Topic2\", \"Topic2\", \"Topic2\", \"Topic2\", \"Topic2\", \"Topic2\", \"Topic2\", \"Topic2\", \"Topic2\", \"Topic2\", \"Topic2\", \"Topic2\", \"Topic2\", \"Topic2\", \"Topic2\", \"Topic2\", \"Topic2\", \"Topic2\", \"Topic2\", \"Topic3\", \"Topic3\", \"Topic3\", \"Topic3\", \"Topic3\", \"Topic3\", \"Topic3\", \"Topic3\", \"Topic3\", \"Topic3\", \"Topic3\", \"Topic3\", \"Topic3\", \"Topic3\", \"Topic3\", \"Topic3\", \"Topic3\", \"Topic3\", \"Topic3\", \"Topic3\", \"Topic3\", \"Topic3\", \"Topic3\", \"Topic3\", \"Topic3\", \"Topic3\", \"Topic3\", \"Topic3\", \"Topic3\", \"Topic3\", \"Topic3\", \"Topic3\", \"Topic3\", \"Topic3\", \"Topic3\", \"Topic3\", \"Topic3\", \"Topic3\", \"Topic3\", \"Topic3\", \"Topic3\", \"Topic3\", \"Topic3\", \"Topic3\", \"Topic3\", \"Topic3\", \"Topic3\", \"Topic3\", \"Topic3\", \"Topic3\", \"Topic3\", \"Topic3\", \"Topic3\", \"Topic3\", \"Topic3\", \"Topic3\", \"Topic3\", \"Topic3\", \"Topic3\", \"Topic3\", \"Topic3\", \"Topic3\", \"Topic3\", \"Topic3\", \"Topic3\", \"Topic3\", \"Topic3\", \"Topic3\", \"Topic3\", \"Topic3\", \"Topic3\", \"Topic3\", \"Topic3\", \"Topic3\", \"Topic3\", \"Topic3\", \"Topic4\", \"Topic4\", \"Topic4\", \"Topic4\", \"Topic4\", \"Topic4\", \"Topic4\", \"Topic4\", \"Topic4\", \"Topic4\", \"Topic4\", \"Topic4\", \"Topic4\", \"Topic4\", \"Topic4\", \"Topic4\", \"Topic4\", \"Topic4\", \"Topic4\", \"Topic4\", \"Topic4\", \"Topic4\", \"Topic4\", \"Topic4\", \"Topic4\", \"Topic4\", \"Topic4\", \"Topic4\", \"Topic4\", \"Topic4\", \"Topic4\", \"Topic4\", \"Topic4\", \"Topic4\", \"Topic4\", \"Topic4\", \"Topic4\", \"Topic4\", \"Topic4\", \"Topic4\", \"Topic4\", \"Topic4\", \"Topic4\", \"Topic4\", \"Topic4\", \"Topic4\", \"Topic4\", \"Topic4\", \"Topic4\", \"Topic4\", \"Topic4\", \"Topic4\", \"Topic4\", \"Topic4\", \"Topic4\", \"Topic4\", \"Topic4\", \"Topic4\", \"Topic4\", \"Topic4\", \"Topic4\", \"Topic4\", \"Topic4\", \"Topic4\", \"Topic4\", \"Topic4\", \"Topic4\", \"Topic4\", \"Topic4\", \"Topic4\", \"Topic4\", \"Topic4\", \"Topic4\", \"Topic4\", \"Topic4\", \"Topic4\", \"Topic4\", \"Topic4\", \"Topic4\", \"Topic4\", \"Topic4\", \"Topic4\", \"Topic4\", \"Topic4\", \"Topic5\", \"Topic5\", \"Topic5\", \"Topic5\", \"Topic5\", \"Topic5\", \"Topic5\", \"Topic5\", \"Topic5\", \"Topic5\", \"Topic5\", \"Topic5\", \"Topic5\", \"Topic5\", \"Topic5\", \"Topic5\", \"Topic5\", \"Topic5\", \"Topic5\", \"Topic5\", \"Topic5\", \"Topic5\", \"Topic5\", \"Topic5\", \"Topic5\", \"Topic5\", \"Topic5\", \"Topic5\", \"Topic5\", \"Topic5\", \"Topic5\", \"Topic5\", \"Topic5\", \"Topic5\", \"Topic5\", \"Topic5\", \"Topic5\", \"Topic5\", \"Topic5\", \"Topic5\", \"Topic5\", \"Topic5\", \"Topic5\", \"Topic5\", \"Topic5\", \"Topic5\", \"Topic5\", \"Topic5\", \"Topic5\", \"Topic5\", \"Topic5\", \"Topic5\", \"Topic5\", \"Topic5\", \"Topic5\", \"Topic5\", \"Topic5\", \"Topic5\", \"Topic5\", \"Topic5\", \"Topic5\", \"Topic5\", \"Topic5\", \"Topic5\", \"Topic5\", \"Topic5\", \"Topic5\", \"Topic5\", \"Topic5\", \"Topic5\", \"Topic5\", \"Topic5\", \"Topic5\", \"Topic5\", \"Topic5\", \"Topic5\", \"Topic5\", \"Topic5\", \"Topic5\", \"Topic5\", \"Topic6\", \"Topic6\", \"Topic6\", \"Topic6\", \"Topic6\", \"Topic6\", \"Topic6\", \"Topic6\", \"Topic6\", \"Topic6\", \"Topic6\", \"Topic6\", \"Topic6\", \"Topic6\", \"Topic6\", \"Topic6\", \"Topic6\", \"Topic6\", \"Topic6\", \"Topic6\", \"Topic6\", \"Topic6\", \"Topic6\", \"Topic6\", \"Topic6\", \"Topic6\", \"Topic6\", \"Topic6\", \"Topic6\", \"Topic6\", \"Topic6\", \"Topic6\", \"Topic6\", \"Topic6\", \"Topic6\", \"Topic6\", \"Topic6\", \"Topic6\", \"Topic6\", \"Topic6\", \"Topic6\", \"Topic6\", \"Topic6\", \"Topic6\", \"Topic6\", \"Topic6\", \"Topic6\", \"Topic6\", \"Topic6\", \"Topic6\", \"Topic6\", \"Topic6\", \"Topic6\", \"Topic6\", \"Topic6\", \"Topic6\", \"Topic6\", \"Topic6\", \"Topic6\", \"Topic6\", \"Topic6\", \"Topic6\", \"Topic6\", \"Topic6\", \"Topic6\", \"Topic6\", \"Topic6\", \"Topic6\", \"Topic6\", \"Topic6\", \"Topic6\", \"Topic6\", \"Topic6\", \"Topic6\", \"Topic6\", \"Topic6\", \"Topic6\", \"Topic6\", \"Topic6\", \"Topic6\", \"Topic6\", \"Topic6\", \"Topic6\", \"Topic6\", \"Topic6\", \"Topic6\", \"Topic6\", \"Topic6\", \"Topic6\", \"Topic7\", \"Topic7\", \"Topic7\", \"Topic7\", \"Topic7\", \"Topic7\", \"Topic7\", \"Topic7\", \"Topic7\", \"Topic7\", \"Topic7\", \"Topic7\", \"Topic7\", \"Topic7\", \"Topic7\", \"Topic7\", \"Topic7\", \"Topic7\", \"Topic7\", \"Topic7\", \"Topic7\", \"Topic7\", \"Topic7\", \"Topic7\", \"Topic7\", \"Topic7\", \"Topic7\", \"Topic7\", \"Topic7\", \"Topic7\", \"Topic7\", \"Topic7\", \"Topic7\", \"Topic7\", \"Topic7\", \"Topic7\", \"Topic7\", \"Topic7\", \"Topic7\", \"Topic7\", \"Topic7\", \"Topic7\", \"Topic7\", \"Topic7\", \"Topic7\", \"Topic7\", \"Topic7\", \"Topic7\", \"Topic7\", \"Topic7\", \"Topic7\", \"Topic7\", \"Topic7\", \"Topic7\", \"Topic7\", \"Topic7\", \"Topic7\", \"Topic7\", \"Topic7\", \"Topic7\", \"Topic7\", \"Topic7\", \"Topic7\", \"Topic7\", \"Topic7\", \"Topic7\", \"Topic7\", \"Topic7\", \"Topic7\", \"Topic7\", \"Topic7\", \"Topic7\", \"Topic7\", \"Topic7\", \"Topic7\", \"Topic7\", \"Topic7\", \"Topic7\", \"Topic7\", \"Topic7\", \"Topic8\", \"Topic8\", \"Topic8\", \"Topic8\", \"Topic8\", \"Topic8\", \"Topic8\", \"Topic8\", \"Topic8\", \"Topic8\", \"Topic8\", \"Topic8\", \"Topic8\", \"Topic8\", \"Topic8\", \"Topic8\", \"Topic8\", \"Topic8\", \"Topic8\", \"Topic8\", \"Topic8\", \"Topic8\", \"Topic8\", \"Topic8\", \"Topic8\", \"Topic8\", \"Topic8\", \"Topic8\", \"Topic8\", \"Topic8\", \"Topic8\", \"Topic8\", \"Topic8\", \"Topic8\", \"Topic8\", \"Topic8\", \"Topic8\", \"Topic8\", \"Topic8\", \"Topic8\", \"Topic8\", \"Topic8\", \"Topic8\", \"Topic8\", \"Topic8\", \"Topic8\", \"Topic8\", \"Topic8\", \"Topic8\", \"Topic8\", \"Topic8\", \"Topic8\", \"Topic8\", \"Topic8\", \"Topic8\", \"Topic8\", \"Topic8\", \"Topic8\", \"Topic8\", \"Topic8\", \"Topic8\", \"Topic8\", \"Topic8\", \"Topic8\", \"Topic8\", \"Topic8\", \"Topic8\", \"Topic8\", \"Topic8\", \"Topic8\", \"Topic8\", \"Topic8\", \"Topic8\", \"Topic8\", \"Topic8\", \"Topic8\", \"Topic8\", \"Topic8\", \"Topic8\", \"Topic8\", \"Topic8\", \"Topic8\", \"Topic9\", \"Topic9\", \"Topic9\", \"Topic9\", \"Topic9\", \"Topic9\", \"Topic9\", \"Topic9\", \"Topic9\", \"Topic9\", \"Topic9\", \"Topic9\", \"Topic9\", \"Topic9\", \"Topic9\", \"Topic9\", \"Topic9\", \"Topic9\", \"Topic9\", \"Topic9\", \"Topic9\", \"Topic9\", \"Topic9\", \"Topic9\", \"Topic9\", \"Topic9\", \"Topic9\", \"Topic9\", \"Topic9\", \"Topic9\", \"Topic9\", \"Topic9\", \"Topic9\", \"Topic9\", \"Topic9\", \"Topic9\", \"Topic9\", \"Topic9\", \"Topic9\", \"Topic9\", \"Topic9\", \"Topic9\", \"Topic9\", \"Topic9\", \"Topic9\", \"Topic9\", \"Topic9\", \"Topic9\", \"Topic9\", \"Topic9\", \"Topic9\", \"Topic9\", \"Topic9\", \"Topic9\", \"Topic9\", \"Topic9\", \"Topic9\", \"Topic9\", \"Topic9\", \"Topic9\", \"Topic9\", \"Topic9\", \"Topic9\", \"Topic9\", \"Topic9\", \"Topic9\", \"Topic9\", \"Topic9\", \"Topic9\", \"Topic9\", \"Topic9\", \"Topic9\", \"Topic9\", \"Topic9\", \"Topic9\", \"Topic10\", \"Topic10\", \"Topic10\", \"Topic10\", \"Topic10\", \"Topic10\", \"Topic10\", \"Topic10\", \"Topic10\", \"Topic10\", \"Topic10\", \"Topic10\", \"Topic10\", \"Topic10\", \"Topic10\", \"Topic10\", \"Topic10\", \"Topic10\", \"Topic10\", \"Topic10\", \"Topic10\", \"Topic10\", \"Topic10\", \"Topic10\", \"Topic10\", \"Topic10\", \"Topic10\", \"Topic10\", \"Topic10\", \"Topic10\", \"Topic10\", \"Topic10\", \"Topic10\", \"Topic10\", \"Topic10\", \"Topic10\", \"Topic10\", \"Topic10\", \"Topic10\", \"Topic10\", \"Topic10\", \"Topic10\", \"Topic10\", \"Topic10\", \"Topic10\", \"Topic10\", \"Topic10\", \"Topic10\", \"Topic10\", \"Topic10\", \"Topic10\", \"Topic10\", \"Topic10\", \"Topic10\", \"Topic10\", \"Topic10\", \"Topic10\", \"Topic10\", \"Topic10\", \"Topic10\", \"Topic10\", \"Topic10\", \"Topic10\", \"Topic10\", \"Topic10\", \"Topic10\", \"Topic10\", \"Topic10\", \"Topic10\", \"Topic10\", \"Topic10\", \"Topic10\", \"Topic10\", \"Topic10\", \"Topic10\", \"Topic10\", \"Topic10\", \"Topic10\", \"Topic10\", \"Topic10\", \"Topic11\", \"Topic11\", \"Topic11\", \"Topic11\", \"Topic11\", \"Topic11\", \"Topic11\", \"Topic11\", \"Topic11\", \"Topic11\", \"Topic11\", \"Topic11\", \"Topic11\", \"Topic11\", \"Topic11\", \"Topic11\", \"Topic11\", \"Topic11\", \"Topic11\", \"Topic11\", \"Topic11\", \"Topic11\", \"Topic11\", \"Topic11\", \"Topic11\", \"Topic11\", \"Topic11\", \"Topic11\", \"Topic11\", \"Topic11\", \"Topic11\", \"Topic11\", \"Topic11\", \"Topic11\", \"Topic11\", \"Topic11\", \"Topic11\", \"Topic11\", \"Topic11\", \"Topic11\", \"Topic11\", \"Topic11\", \"Topic11\", \"Topic11\", \"Topic11\", \"Topic11\", \"Topic11\", \"Topic11\", \"Topic11\", \"Topic11\", \"Topic11\", \"Topic11\", \"Topic11\", \"Topic11\", \"Topic11\", \"Topic11\", \"Topic11\", \"Topic11\", \"Topic11\", \"Topic11\", \"Topic11\", \"Topic11\", \"Topic11\", \"Topic11\", \"Topic11\", \"Topic11\", \"Topic11\", \"Topic11\", \"Topic11\", \"Topic11\", \"Topic11\", \"Topic11\", \"Topic11\", \"Topic11\", \"Topic11\", \"Topic11\", \"Topic11\", \"Topic11\", \"Topic11\", \"Topic11\", \"Topic11\", \"Topic11\", \"Topic11\", \"Topic11\", \"Topic11\", \"Topic12\", \"Topic12\", \"Topic12\", \"Topic12\", \"Topic12\", \"Topic12\", \"Topic12\", \"Topic12\", \"Topic12\", \"Topic12\", \"Topic12\", \"Topic12\", \"Topic12\", \"Topic12\", \"Topic12\", \"Topic12\", \"Topic12\", \"Topic12\", \"Topic12\", \"Topic12\", \"Topic12\", \"Topic12\", \"Topic12\", \"Topic12\", \"Topic12\", \"Topic12\", \"Topic12\", \"Topic12\", \"Topic12\", \"Topic12\", \"Topic12\", \"Topic12\", \"Topic12\", \"Topic12\", \"Topic12\", \"Topic12\", \"Topic12\", \"Topic12\", \"Topic12\", \"Topic12\", \"Topic12\", \"Topic12\", \"Topic12\", \"Topic12\", \"Topic12\", \"Topic12\", \"Topic12\", \"Topic12\", \"Topic12\", \"Topic12\", \"Topic12\", \"Topic12\", \"Topic12\", \"Topic12\", \"Topic12\", \"Topic12\", \"Topic12\", \"Topic12\", \"Topic12\", \"Topic12\", \"Topic12\", \"Topic12\", \"Topic12\", \"Topic12\", \"Topic12\", \"Topic12\", \"Topic12\", \"Topic12\", \"Topic12\", \"Topic12\", \"Topic12\", \"Topic12\", \"Topic12\", \"Topic12\", \"Topic12\", \"Topic12\", \"Topic12\", \"Topic12\"], \"logprob\": [30.0, 29.0, 28.0, 27.0, 26.0, 25.0, 24.0, 23.0, 22.0, 21.0, 20.0, 19.0, 18.0, 17.0, 16.0, 15.0, 14.0, 13.0, 12.0, 11.0, 10.0, 9.0, 8.0, 7.0, 6.0, 5.0, 4.0, 3.0, 2.0, 1.0, -7.1163, -7.5085, -8.162, -8.1622, -8.1622, -8.1622, -8.1623, -8.1623, -8.1623, -8.1623, -8.1624, -8.1624, -8.1624, -8.1624, -8.1625, -8.1626, -8.1626, -8.1626, -8.1627, -8.1629, -8.2351, -8.252, -8.2554, -8.2571, -8.2596, -8.2786, -8.2803, -8.271, -8.3007, -8.3066, -7.3143, -7.5084, -7.7588, -6.4401, -3.9382, -6.3353, -7.1718, -6.6281, -5.4338, -5.6503, -4.8567, -5.5559, -6.0726, -5.0027, -5.4207, -5.5748, -5.3128, -5.6891, -5.6282, -6.6695, -5.5236, -6.0965, -5.5926, -6.0056, -5.1636, -5.6728, -6.0498, -5.9666, -6.0343, -5.0681, -5.9734, -5.4029, -5.3224, -5.553, -5.8092, -5.5473, -5.5232, -5.7072, -5.6671, -5.4417, -5.6824, -5.7589, -5.8123, -5.9488, -5.8985, -5.8984, -7.9671, -7.6907, -8.218, -8.6203, -8.6203, -8.6203, -8.6203, -8.6204, -8.6204, -8.6204, -8.6205, -8.6205, -8.6205, -8.6205, -8.6205, -8.6205, -8.6205, -8.6206, -8.6206, -8.6206, -8.6206, -8.6207, -8.6207, -8.6207, -8.6207, -8.6207, -8.6208, -8.6209, -8.6209, -8.6209, -7.2681, -7.7563, -7.7704, -7.7879, -8.2453, -7.9792, -3.4073, -6.4947, -7.4993, -7.8846, -8.2738, -8.3724, -7.4205, -4.9813, -7.5706, -7.9666, -7.958, -7.4052, -5.9665, -8.289, -7.1068, -4.5547, -5.3278, -6.2685, -4.8376, -4.8566, -6.3465, -5.6164, -5.8145, -5.5267, -5.6755, -5.723, -6.5479, -5.7334, -5.4977, -5.2675, -5.6198, -5.8935, -6.0937, -5.6121, -5.2935, -5.6492, -5.5447, -5.4921, -5.1796, -5.9036, -5.5819, -5.7095, -5.7692, -5.3385, -5.2814, -5.5116, -5.6197, -5.6276, -5.8805, -8.3041, -8.3042, -8.3042, -8.3042, -8.3043, -8.3043, -8.3043, -8.3044, -8.3044, -8.3044, -8.3045, -8.3045, -8.3045, -8.3046, -8.3047, -8.3049, -8.305, -8.3337, -8.3372, -8.3419, -8.3437, -8.3577, -8.3611, -8.3662, -8.3661, -8.3707, -8.372, -8.3947, -8.3767, -8.3788, -7.6821, -7.4141, -5.6976, -5.0548, -5.7788, -5.1616, -4.0502, -4.7835, -6.5898, -5.8417, -5.7451, -5.3074, -5.8126, -4.9547, -5.8636, -6.0091, -6.4468, -6.7962, -6.8491, -5.9911, -6.1783, -5.8593, -6.0195, -5.3709, -6.4954, -6.9553, -5.3586, -4.9565, -6.3853, -6.3874, -5.5016, -5.7663, -5.6777, -5.2691, -5.4928, -5.4515, -5.316, -5.8022, -5.6286, -5.7125, -5.888, -5.569, -5.6734, -5.7955, -5.8537, -5.7927, -7.7904, -7.7944, -7.8791, -7.8665, -7.8759, -7.8924, -7.9106, -7.4786, -7.7213, -8.4442, -8.4442, -8.4442, -8.4442, -8.4443, -8.4443, -8.4443, -8.4443, -8.4443, -8.4443, -8.4443, -8.4444, -8.4444, -8.4444, -8.4444, -8.4442, -8.4444, -8.4444, -8.4445, -8.4445, -8.4445, -6.3983, -6.3562, -6.8844, -7.9123, -7.791, -7.8699, -7.321, -7.2342, -7.0057, -7.891, -6.4302, -4.8029, -6.9675, -7.5681, -7.8877, -6.4827, -7.6131, -7.2953, -4.8384, -6.4626, -4.705, -5.2829, -5.108, -5.0054, -4.8039, -5.9414, -5.1047, -5.4122, -5.6362, -5.2097, -5.9219, -5.3487, -5.3658, -5.5799, -5.5163, -5.9112, -5.707, -5.5962, -5.9142, -5.6212, -5.6951, -4.6857, -5.624, -5.1239, -5.2825, -5.7655, -5.7535, -5.7586, -5.5313, -5.5559, -5.6719, -5.8095, -5.7667, -5.7622, -7.0495, -7.3953, -8.1444, -7.9589, -8.2433, -8.6113, -8.6113, -8.6113, -8.6113, -8.6113, -8.6114, -8.6114, -8.6114, -8.6114, -8.6114, -8.6114, -8.6115, -8.6115, -8.6116, -8.6116, -8.6116, -8.6116, -8.6116, -8.6116, -8.6117, -8.6117, -8.6117, -8.6117, -8.6117, -8.6117, -7.9581, -8.0029, -7.9374, -8.2354, -7.9615, -4.5231, -7.2605, -5.5271, -5.5854, -6.4241, -3.8608, -6.0299, -7.8277, -6.3245, -4.6967, -6.6682, -5.221, -7.4701, -5.1924, -6.1522, -5.1477, -5.6986, -6.9423, -8.0974, -5.9901, -6.1419, -5.9999, -5.6699, -4.9609, -5.3478, -5.5296, -5.3526, -5.5482, -5.0245, -6.0365, -5.5705, -5.5805, -5.4847, -5.1179, -5.6141, -5.3239, -5.4112, -5.0764, -5.5569, -5.6941, -5.3026, -5.6624, -5.8503, -5.5528, -5.7601, -8.126, -8.1265, -8.1514, -7.9024, -8.2092, -8.2916, -8.0169, -8.3614, -8.3565, -8.3575, -8.7799, -8.7799, -8.7799, -8.7799, -8.7799, -8.7799, -8.78, -8.78, -8.78, -8.7801, -8.7801, -8.7801, -8.7801, -8.7801, -8.7801, -8.7801, -8.7801, -8.7801, -8.7801, -8.7801, -6.9476, -8.4349, -8.2159, -7.9203, -8.4165, -7.9137, -8.1371, -8.4087, -7.6218, -4.9737, -6.0012, -7.6574, -4.786, -7.0892, -8.5259, -4.7603, -3.7118, -5.8794, -7.4931, -8.4388, -7.2119, -6.9207, -4.7712, -6.909, -4.8237, -4.6158, -5.6319, -4.8843, -6.0203, -6.6185, -5.309, -5.5484, -5.5139, -6.1893, -5.6613, -5.0617, -5.6936, -5.2768, -5.9368, -6.2636, -5.4296, -5.3619, -5.7721, -6.4393, -5.9661, -6.1079, -5.2128, -6.1733, -6.0533, -5.6977, -5.6607, -5.7699, -5.5865, -5.729, -5.7965, -5.8033, -5.8901, -5.8784, -5.8826, -7.4286, -8.0775, -8.0775, -8.0776, -8.0776, -8.0776, -8.0776, -8.0776, -8.0777, -8.0777, -8.0777, -8.0777, -8.0777, -8.0777, -8.0778, -8.0778, -8.0778, -8.0778, -8.0778, -8.0779, -8.0779, -8.078, -8.078, -8.0781, -8.0781, -8.0782, -8.0782, -8.0782, -8.0783, -8.0786, -6.9474, -7.5198, -7.1696, -6.6704, -6.2338, -4.7974, -6.1391, -6.4938, -4.88, -6.828, -7.468, -5.1506, -4.7355, -5.7924, -5.5564, -5.1118, -6.028, -4.8635, -7.8137, -6.3812, -5.6627, -5.2364, -5.7432, -7.1925, -5.7676, -7.0216, -5.3485, -6.7585, -6.2486, -5.5739, -5.1864, -5.9086, -5.4715, -5.0524, -5.3092, -4.8479, -5.3409, -5.6678, -5.8077, -5.7395, -5.6505, -5.6935, -5.9037, -5.8738, -5.8822, -5.8198, -5.8537, -5.8097, -5.8492, -5.8664, -7.3626, -7.26, -8.016, -8.0162, -8.0162, -8.0162, -8.0163, -8.0164, -8.0164, -8.0165, -8.0165, -8.0165, -8.0165, -8.0165, -8.0165, -8.0165, -8.0166, -8.0166, -8.0167, -8.0167, -8.0168, -8.0168, -8.0169, -8.0169, -8.0169, -8.0169, -8.017, -8.017, -8.017, -8.0171, -7.3232, -7.3729, -5.3489, -6.947, -7.5267, -6.5401, -7.0905, -6.607, -4.5729, -3.872, -6.5829, -6.4893, -5.8382, -7.7495, -5.2768, -5.3279, -6.7503, -7.4255, -5.5915, -6.2825, -5.581, -5.3906, -7.7784, -5.3077, -5.1901, -6.7662, -7.3271, -5.8417, -7.08, -5.5159, -5.2615, -5.2948, -5.8033, -5.4933, -5.3282, -5.9409, -5.8149, -6.0506, -5.6269, -5.9523, -5.7776, -5.3707, -6.0487, -5.5677, -6.0585, -5.7579, -5.9958, -5.6033, -5.7666, -5.6117, -5.8162, -5.9106, -7.8137, -7.8137, -7.8138, -7.8139, -7.8139, -7.8139, -7.814, -7.814, -7.814, -7.8141, -7.8141, -7.8141, -7.8142, -7.8142, -7.8142, -7.8142, -7.8143, -7.8143, -7.8143, -7.8144, -7.8144, -7.8144, -7.8145, -7.8145, -7.8146, -7.8146, -7.8148, -7.83, -7.8302, -7.8592, -7.1529, -7.2871, -6.7904, -6.818, -7.5088, -7.16, -6.888, -7.0969, -4.5443, -5.41, -6.5006, -4.9707, -4.7829, -5.0308, -5.7733, -6.3265, -5.3934, -5.1234, -5.8047, -5.6255, -6.3209, -5.7386, -4.5328, -6.5426, -5.905, -5.8454, -5.5599, -5.4921, -7.5714, -5.2262, -5.2856, -6.0707, -5.3578, -5.9728, -5.773, -5.5511, -5.7947, -5.7492, -5.7408, -5.9345, -5.8286, -5.7609, -5.917, -5.8026, -5.9601, -7.2413, -8.0441, -8.1167, -8.1375, -8.1415, -7.6699, -8.1882, -8.6978, -8.6979, -8.6979, -8.6981, -8.6981, -8.6981, -8.6981, -8.6981, -8.6981, -8.6981, -8.6981, -8.6981, -8.6982, -8.6982, -8.6982, -8.6982, -8.6982, -8.6982, -8.6982, -8.6982, -8.6982, -8.6982, -8.6982, -6.6627, -7.8244, -5.1774, -6.802, -7.4871, -6.6967, -7.8147, -4.2623, -5.1766, -7.5911, -5.5512, -4.9866, -5.6877, -7.3311, -6.921, -6.6913, -6.8084, -4.8595, -5.9238, -5.7275, -6.2391, -4.801, -8.3949, -5.1138, -6.0131, -5.5059, -5.528, -4.247, -5.694, -6.0358, -5.9229, -5.0823, -5.4719, -6.492, -5.1136, -5.6436, -5.5117, -5.1801, -5.7473, -5.4652, -5.7832, -5.7188, -5.5818, -5.5871, -5.8131, -5.7496, -5.5573, -5.6666, -5.6806, -5.7708, -7.1146, -7.5069, -8.1605, -8.1605, -8.1606, -8.1608, -8.1608, -8.1608, -8.1608, -8.1608, -8.1608, -8.1609, -8.1609, -8.1609, -8.161, -8.161, -8.161, -8.161, -8.161, -8.1611, -8.1611, -8.1611, -8.1612, -8.1612, -8.1612, -8.1613, -8.1613, -8.1615, -8.1616, -8.1618, -7.8159, -6.7507, -5.1115, -7.6614, -4.8053, -5.38, -4.4289, -5.6729, -6.7433, -6.2311, -5.3363, -5.7941, -6.8339, -7.0828, -7.4465, -5.5707, -6.7298, -7.3068, -7.5249, -5.5034, -5.4981, -6.2132, -4.4127, -6.819, -6.3995, -6.4705, -6.2685, -7.5071, -5.6069, -5.1583, -6.0804, -6.2971, -5.7478, -6.1906, -6.3343, -5.3485, -5.976, -5.5643, -6.1235, -5.8541, -5.7403, -5.7085, -6.0111, -5.7313, -5.7394, -5.6533, -5.5918, -6.0359, -5.6317, -5.9427, -5.8013, -5.6962, -5.818, -5.9216, -5.9755, -7.7966, -7.7972, -7.8994, -7.9727, -8.4504, -8.4504, -8.4504, -8.4504, -8.4505, -8.4505, -8.4505, -8.4506, -8.4506, -8.4506, -8.4506, -8.4506, -8.4506, -8.4507, -8.4507, -8.4507, -8.4507, -8.4507, -8.4507, -8.4507, -8.4508, -8.4508, -8.4508, -8.4508, -8.4508, -8.4508, -8.4507, -8.0978, -6.147, -4.4066, -4.5153, -7.2089, -5.7309, -5.26, -4.7628, -5.4427, -7.1423, -5.9511, -5.4587, -5.9849, -7.0642, -7.7345, -4.9577, -5.9696, -6.0628, -6.6356, -5.5211, -5.0613, -7.8191, -5.4362, -5.5705, -4.3529, -5.9518, -5.533, -6.112, -4.9297, -5.3544, -5.4669, -5.5175, -5.3602, -5.9201, -5.8735, -6.0432, -5.9599, -5.6716, -5.5202, -5.8646, -5.6646, -5.7128, -5.7872, -5.7797, -5.8612, -5.8024, -5.8935], \"loglift\": [30.0, 29.0, 28.0, 27.0, 26.0, 25.0, 24.0, 23.0, 22.0, 21.0, 20.0, 19.0, 18.0, 17.0, 16.0, 15.0, 14.0, 13.0, 12.0, 11.0, 10.0, 9.0, 8.0, 7.0, 6.0, 5.0, 4.0, 3.0, 2.0, 1.0, 2.7406, 2.6065, 2.3015, 2.3015, 2.3015, 2.3014, 2.3014, 2.3014, 2.3014, 2.3014, 2.3013, 2.3013, 2.3013, 2.3013, 2.3013, 2.3012, 2.3012, 2.3012, 2.3012, 2.3011, 2.226, 2.2089, 2.2055, 2.1907, 2.1876, 2.1655, 2.1638, 2.1595, 2.1402, 2.1334, 2.044, 2.0207, 1.9986, 1.3197, 0.0456, 1.2031, 1.5878, 1.2756, 0.5551, 0.6626, 0.17, 0.5068, 0.8408, 0.0274, 0.3234, 0.311, 0.0994, 0.3939, 0.343, 1.1604, 0.227, 0.6747, 0.248, 0.5602, -0.144, 0.2703, 0.5621, 0.4907, 0.5459, -0.3449, 0.4733, -0.1098, -0.1961, 0.0255, 0.2835, -0.0962, -0.1309, 0.096, -0.0454, -0.4304, -0.1072, -0.0763, 0.0575, 0.3706, -0.0032, -0.2302, 1.7377, 1.5437, 1.5365, 1.536, 1.5359, 1.5359, 1.5359, 1.5359, 1.5359, 1.5359, 1.5359, 1.5359, 1.5359, 1.5359, 1.5359, 1.5359, 1.5359, 1.5359, 1.5358, 1.5358, 1.5358, 1.5358, 1.5358, 1.5358, 1.5358, 1.5358, 1.5358, 1.5357, 1.5357, 1.5357, 1.4716, 1.4689, 1.4558, 1.4517, 1.4933, 1.4599, 0.5766, 1.1306, 1.3049, 1.3785, 1.4613, 1.4791, 1.2525, 0.6102, 1.2473, 1.3507, 1.3416, 1.1711, 0.7143, 1.4313, 1.0555, 0.1685, 0.4229, 0.7458, 0.1821, 0.1735, 0.7237, 0.4463, 0.5195, 0.3591, 0.4075, 0.419, 0.7532, 0.3811, 0.2464, 0.1009, 0.2755, 0.3786, 0.4849, 0.191, -0.0004, 0.2091, 0.1344, 0.0914, -0.1529, 0.3265, 0.1007, 0.1623, 0.202, -0.2122, -0.2701, -0.1037, -0.0445, -0.2154, -0.302, 2.0267, 2.0266, 2.0266, 2.0266, 2.0266, 2.0266, 2.0266, 2.0266, 2.0265, 2.0265, 2.0265, 2.0265, 2.0265, 2.0265, 2.0264, 2.0263, 2.0263, 2.0005, 1.9976, 1.9934, 1.9917, 1.9793, 1.9685, 1.9631, 1.9585, 1.9535, 1.9522, 1.9481, 1.947, 1.9447, 1.9421, 1.7356, 0.9149, 0.6278, 0.8887, 0.4601, -0.0663, 0.2278, 1.0934, 0.7073, 0.6475, 0.3716, 0.6268, 0.0649, 0.5937, 0.6124, 0.8755, 1.0963, 1.1071, 0.5325, 0.6294, 0.415, 0.5199, 0.0802, 0.8264, 1.1274, 0.0535, -0.2332, 0.7247, 0.6996, 0.0736, 0.2543, 0.163, -0.239, -0.1005, -0.1584, -0.2893, 0.169, -0.0371, -0.0443, 0.1467, -0.4427, -0.305, -0.0448, 0.0322, -0.2092, 2.1104, 2.1075, 2.0334, 2.0329, 2.0201, 1.9935, 1.9855, 1.9031, 1.8806, 1.8631, 1.8631, 1.8631, 1.8631, 1.8631, 1.8631, 1.8631, 1.863, 1.863, 1.863, 1.863, 1.863, 1.863, 1.863, 1.863, 1.863, 1.863, 1.863, 1.863, 1.863, 1.863, 1.8628, 1.7407, 1.7689, 1.8156, 1.7999, 1.7755, 1.6568, 1.6228, 1.5704, 1.7362, 1.3267, 0.8652, 1.4546, 1.624, 1.7075, 1.3047, 1.5862, 1.4604, 0.5737, 1.1383, 0.4213, 0.5577, 0.4672, 0.3869, 0.2262, 0.7887, 0.3031, 0.4461, 0.5659, 0.2414, 0.6736, 0.2348, 0.2127, 0.3632, 0.2869, 0.5823, 0.4075, 0.2896, 0.5378, 0.2487, 0.2937, -0.7019, 0.2078, -0.4007, -0.2629, 0.3017, 0.2696, 0.2761, -0.52, -0.5293, -0.3789, 0.1616, -0.0841, -0.1707, 1.8976, 1.8827, 1.683, 1.6512, 1.6328, 1.6285, 1.6285, 1.6285, 1.6284, 1.6284, 1.6284, 1.6284, 1.6284, 1.6284, 1.6284, 1.6284, 1.6284, 1.6284, 1.6284, 1.6283, 1.6283, 1.6283, 1.6283, 1.6283, 1.6283, 1.6283, 1.6283, 1.6283, 1.6283, 1.6283, 1.6168, 1.5894, 1.5639, 1.585, 1.5369, 0.8454, 1.3154, 0.8813, 0.884, 1.0549, 0.123, 0.7957, 1.376, 0.8707, 0.3146, 0.9459, 0.4008, 1.227, 0.3828, 0.7156, 0.3034, 0.5148, 0.9941, 1.4309, 0.5885, 0.6395, 0.5551, 0.3928, 0.0587, 0.2356, 0.3218, 0.2259, 0.3217, 0.0056, 0.5489, 0.2878, 0.2601, 0.1944, -0.0913, 0.2268, -0.0309, 0.001, -0.3532, 0.1257, 0.249, -0.1763, 0.1694, 0.3569, -0.1605, 0.1117, 1.6444, 1.6443, 1.6205, 1.5807, 1.5557, 1.5005, 1.4815, 1.4475, 1.4408, 1.4374, 1.428, 1.428, 1.428, 1.428, 1.428, 1.428, 1.4279, 1.4279, 1.4279, 1.4279, 1.4279, 1.4279, 1.4279, 1.4279, 1.4279, 1.4279, 1.4279, 1.4279, 1.4279, 1.4279, 1.4081, 1.4241, 1.405, 1.3914, 1.4081, 1.3716, 1.386, 1.3927, 1.21, 0.6944, 0.8859, 1.1986, 0.6063, 1.0801, 1.3722, 0.5328, 0.272, 0.7228, 1.1118, 1.3438, 1.0153, 0.9289, 0.2554, 0.9205, 0.1876, 0.1074, 0.4608, 0.1458, 0.5686, 0.7935, 0.2696, 0.3469, 0.3267, 0.5997, 0.3618, 0.0646, 0.3412, 0.1311, 0.4558, 0.6073, 0.1618, 0.0892, 0.3171, 0.6683, 0.3872, 0.4579, -0.1932, 0.478, 0.3877, 0.0464, -0.039, 0.0333, -0.2181, -0.1455, -0.0459, -0.1207, -0.0492, -0.3032, -0.4705, 2.5584, 2.294, 2.294, 2.294, 2.294, 2.294, 2.2939, 2.2939, 2.2939, 2.2939, 2.2939, 2.2939, 2.2939, 2.2939, 2.2939, 2.2939, 2.2939, 2.2939, 2.2939, 2.2938, 2.2938, 2.2938, 2.2938, 2.2937, 2.2937, 2.2937, 2.2937, 2.2937, 2.2936, 2.2935, 2.1144, 2.1176, 1.9755, 1.7739, 1.592, 0.6105, 1.2955, 1.4365, 0.5122, 1.5971, 1.9419, 0.532, 0.2758, 0.9221, 0.7077, 0.3393, 0.9478, 0.1631, 2.1222, 1.1667, 0.6712, 0.347, 0.6961, 1.6924, 0.6897, 1.5441, 0.3305, 1.3165, 0.9266, 0.4149, 0.1067, 0.6266, 0.12, -0.3291, -0.2896, -0.8641, -0.3108, 0.0828, 0.2594, 0.1304, -0.0288, -0.0253, 0.1854, -0.0707, -0.0504, -0.4077, -0.2752, -0.6834, -0.4807, -0.2911, 2.7229, 2.4581, 2.4265, 2.4264, 2.4264, 2.4264, 2.4264, 2.4263, 2.4263, 2.4263, 2.4263, 2.4263, 2.4263, 2.4263, 2.4262, 2.4262, 2.4262, 2.4262, 2.4261, 2.4261, 2.4261, 2.4261, 2.4261, 2.426, 2.426, 2.426, 2.426, 2.426, 2.426, 2.4259, 2.4108, 2.3303, 1.5249, 2.0581, 2.2194, 1.7954, 1.987, 1.6684, 0.5534, 0.1119, 1.5619, 1.4348, 0.9849, 2.2486, 0.5815, 0.5129, 1.5253, 1.999, 0.6385, 1.1576, 0.6241, 0.4792, 2.2507, 0.3713, 0.2609, 1.4781, 1.8916, 0.7241, 1.6895, 0.37, 0.1308, 0.1173, 0.5513, 0.2508, 0.0797, 0.6601, 0.4972, 0.7258, 0.2049, 0.5862, 0.3151, -0.3511, 0.6723, -0.2746, 0.6338, -0.0753, 0.4509, -0.5733, -0.1448, -0.8885, -0.4477, -0.2425, 2.7125, 2.7125, 2.7125, 2.7124, 2.7124, 2.7124, 2.7123, 2.7123, 2.7123, 2.7123, 2.7123, 2.7123, 2.7122, 2.7122, 2.7122, 2.7122, 2.7121, 2.7121, 2.7121, 2.7121, 2.7121, 2.7121, 2.7121, 2.712, 2.712, 2.712, 2.7119, 2.6907, 2.6905, 2.6567, 2.6537, 2.4691, 2.2273, 2.2086, 2.5475, 2.3359, 2.1622, 2.2363, 0.1789, 0.7921, 1.6622, 0.3978, 0.2437, 0.4203, 0.9075, 1.3708, 0.4784, 0.1697, 0.8168, 0.6177, 1.2603, 0.6698, -0.549, 1.4591, 0.7873, 0.6201, 0.2915, 0.1296, 2.4484, -0.2149, -0.1593, 0.7005, -0.3277, 0.5509, 0.2476, -0.1432, 0.1941, 0.0014, -0.0617, 0.2955, 0.0122, -0.1694, 0.1721, -0.783, -0.3816, 1.8211, 1.7151, 1.6632, 1.648, 1.6188, 1.5877, 1.5726, 1.5012, 1.5012, 1.5012, 1.5011, 1.5011, 1.5011, 1.5011, 1.5011, 1.5011, 1.5011, 1.5011, 1.5011, 1.5011, 1.5011, 1.5011, 1.5011, 1.5011, 1.5011, 1.5011, 1.5011, 1.5011, 1.5011, 1.5011, 1.3942, 1.4147, 1.1438, 1.141, 1.2691, 1.0404, 1.3014, 0.4609, 0.6643, 1.1951, 0.6014, 0.4255, 0.6243, 1.1086, 0.9752, 0.9065, 0.9317, 0.2668, 0.6114, 0.5446, 0.7069, 0.2186, 1.4049, 0.294, 0.5782, 0.364, 0.3672, -0.2632, 0.3987, 0.52, 0.4304, -0.0523, 0.1498, 0.7311, -0.087, 0.1882, 0.0635, -0.1688, 0.2238, -0.0141, 0.2398, 0.167, -0.0033, -0.0037, 0.254, 0.1018, -0.2642, -0.0752, -0.2883, -0.0202, 2.5043, 2.1592, 2.151, 2.151, 2.151, 2.1509, 2.1509, 2.1509, 2.1509, 2.1509, 2.1509, 2.1508, 2.1508, 2.1508, 2.1508, 2.1508, 2.1508, 2.1508, 2.1508, 2.1508, 2.1507, 2.1507, 2.1507, 2.1507, 2.1507, 2.1506, 2.1506, 2.1505, 2.1505, 2.1504, 2.0829, 1.5848, 0.9116, 1.9172, 0.5631, 0.8251, 0.2944, 0.9226, 1.4297, 1.1625, 0.6068, 0.807, 1.4014, 1.5342, 1.7336, 0.5713, 1.2343, 1.5992, 1.7305, 0.3684, 0.3602, 0.8405, -0.4288, 1.2284, 0.9213, 0.9409, 0.7645, 1.6754, 0.2339, -0.1387, 0.571, 0.7314, 0.241, 0.6244, 0.7262, -0.3184, 0.3451, -0.1521, 0.4968, 0.1345, -0.0721, -0.13, 0.301, -0.1479, -0.1642, -0.3602, -0.5805, 0.3174, -0.5054, 0.1245, -0.1796, -0.6696, -0.4257, -0.081, -0.1241, 2.0268, 2.0266, 1.9399, 1.8746, 1.7982, 1.7982, 1.7982, 1.7982, 1.7981, 1.7981, 1.7981, 1.7981, 1.7981, 1.7981, 1.7981, 1.7981, 1.7981, 1.7981, 1.7981, 1.7981, 1.7981, 1.7981, 1.7981, 1.7981, 1.798, 1.798, 1.798, 1.798, 1.798, 1.798, 1.798, 1.732, 1.2931, 0.6201, 0.496, 1.3222, 0.7448, 0.5431, 0.2569, 0.5284, 1.21, 0.6473, 0.3928, 0.6106, 1.1314, 1.4525, 0.0724, 0.5745, 0.618, 0.8995, 0.3107, 0.065, 1.4752, 0.2429, 0.3014, -0.369, 0.4637, 0.2111, 0.5187, -0.2064, 0.0535, 0.1166, 0.061, -0.0671, 0.3231, 0.2791, 0.4088, 0.3042, 0.011, -0.1517, 0.2026, -0.0732, -0.1376, -0.0366, -0.158, 0.1274, -0.3903, -0.0236]}, \"token.table\": {\"Topic\": [6, 8, 10, 11, 5, 6, 8, 10, 11, 12, 2, 2, 9, 3, 6, 1, 2, 3, 4, 5, 6, 7, 8, 9, 10, 11, 12, 6, 12, 9, 12, 11, 11, 1, 2, 3, 4, 5, 6, 7, 8, 9, 10, 11, 12, 3, 1, 2, 3, 4, 5, 6, 7, 8, 9, 10, 11, 12, 1, 2, 3, 4, 5, 6, 7, 8, 10, 11, 12, 8, 5, 12, 2, 3, 4, 5, 6, 9, 10, 11, 12, 4, 10, 2, 2, 2, 4, 5, 6, 8, 10, 12, 3, 10, 1, 3, 4, 5, 8, 10, 11, 2, 3, 4, 5, 6, 8, 10, 11, 12, 10, 5, 12, 1, 1, 2, 3, 5, 6, 7, 8, 10, 11, 12, 3, 4, 6, 6, 2, 4, 5, 6, 8, 10, 11, 12, 4, 6, 1, 2, 3, 4, 5, 6, 7, 8, 9, 10, 11, 12, 1, 2, 3, 4, 5, 6, 10, 12, 4, 2, 4, 5, 6, 10, 11, 12, 7, 6, 7, 3, 1, 2, 3, 4, 5, 6, 7, 8, 9, 10, 11, 12, 5, 6, 2, 3, 5, 6, 8, 7, 5, 1, 2, 3, 4, 5, 6, 7, 8, 9, 10, 11, 12, 1, 1, 2, 3, 4, 5, 6, 7, 8, 9, 10, 11, 12, 8, 4, 12, 8, 1, 2, 3, 4, 5, 6, 7, 8, 9, 10, 11, 12, 12, 2, 9, 7, 2, 1, 1, 2, 3, 4, 5, 6, 7, 8, 9, 10, 11, 12, 6, 11, 1, 3, 4, 5, 6, 10, 12, 1, 5, 7, 10, 11, 3, 1, 2, 3, 4, 5, 6, 7, 8, 9, 10, 11, 12, 3, 4, 5, 7, 10, 11, 12, 5, 7, 8, 3, 5, 6, 7, 10, 11, 7, 1, 2, 3, 4, 5, 6, 7, 8, 9, 10, 11, 12, 1, 2, 3, 4, 5, 6, 8, 9, 10, 11, 12, 8, 1, 2, 3, 4, 5, 6, 7, 8, 9, 10, 11, 12, 1, 2, 3, 4, 5, 6, 7, 8, 9, 10, 11, 12, 6, 8, 9, 10, 2, 3, 4, 5, 6, 9, 10, 11, 12, 1, 2, 3, 4, 5, 6, 7, 8, 9, 10, 11, 12, 1, 2, 3, 4, 5, 6, 7, 8, 9, 10, 11, 12, 1, 2, 3, 4, 5, 6, 7, 8, 10, 11, 12, 6, 8, 10, 6, 12, 1, 2, 3, 4, 5, 6, 7, 8, 9, 10, 11, 12, 2, 4, 2, 5, 12, 8, 2, 3, 4, 5, 6, 7, 9, 10, 12, 10, 12, 1, 2, 3, 4, 5, 6, 7, 8, 9, 10, 11, 12, 7, 9, 1, 1, 2, 3, 4, 5, 6, 7, 8, 9, 10, 11, 12, 1, 2, 3, 4, 5, 6, 7, 8, 9, 10, 11, 12, 1, 2, 3, 4, 5, 6, 7, 8, 9, 10, 11, 12, 11, 1, 2, 3, 4, 5, 6, 7, 8, 9, 10, 11, 12, 10, 9, 8, 9, 2, 1, 2, 3, 5, 6, 7, 8, 10, 11, 12, 12, 9, 5, 6, 7, 2, 3, 4, 5, 6, 7, 8, 10, 11, 12, 7, 2, 11, 4, 8, 1, 2, 3, 4, 5, 6, 7, 8, 10, 11, 12, 2, 2, 3, 4, 5, 6, 8, 9, 10, 11, 12, 2, 3, 4, 5, 6, 7, 8, 9, 10, 11, 12, 9, 2, 5, 7, 11, 12, 6, 7, 6, 1, 2, 3, 4, 5, 6, 7, 8, 9, 10, 11, 12, 2, 3, 4, 5, 6, 7, 8, 10, 11, 12, 7, 6, 1, 2, 3, 4, 5, 6, 7, 8, 9, 10, 11, 12, 2, 4, 12, 1, 2, 3, 4, 5, 6, 7, 8, 9, 10, 11, 12, 11, 10, 11, 2, 8, 2, 4, 6, 8, 10, 11, 12, 11, 6, 9, 3, 2, 6, 3, 5, 6, 9, 12, 12, 2, 3, 12, 1, 2, 3, 4, 5, 6, 7, 8, 9, 10, 11, 12, 7, 1, 2, 3, 4, 5, 6, 7, 8, 10, 12, 6, 12, 8, 10, 1, 1, 2, 3, 4, 5, 6, 7, 8, 9, 10, 11, 12, 1, 2, 3, 4, 5, 6, 7, 8, 9, 10, 11, 12, 1, 2, 3, 4, 5, 6, 7, 8, 9, 10, 11, 12, 2, 5, 6, 12, 6, 2, 3, 5, 10, 6, 3, 3, 4, 11, 1, 2, 3, 4, 5, 6, 7, 8, 9, 10, 11, 12, 9, 3, 1, 2, 3, 4, 5, 6, 7, 8, 9, 10, 11, 12, 6, 9, 5, 2, 4, 6, 10, 7, 1, 2, 3, 4, 5, 6, 7, 9, 10, 12, 11, 5, 12, 1, 2, 3, 4, 5, 6, 7, 8, 9, 10, 11, 12, 3, 3, 4, 5, 10, 1, 2, 3, 4, 5, 6, 7, 8, 9, 10, 11, 12, 9, 10, 2, 6, 2, 5, 1, 2, 3, 4, 5, 6, 7, 8, 9, 10, 11, 12, 1, 2, 3, 4, 5, 6, 7, 8, 9, 10, 11, 12, 6, 5, 10, 1, 4, 5, 11, 5, 2, 9, 5, 6, 7, 1, 2, 3, 4, 5, 6, 7, 8, 9, 10, 11, 12, 3, 2, 11, 1, 2, 3, 4, 5, 6, 7, 8, 9, 10, 11, 12, 1, 2, 3, 4, 5, 6, 7, 8, 9, 10, 11, 12, 8, 3, 1, 2, 3, 4, 5, 6, 7, 8, 9, 10, 11, 12, 1, 2, 3, 4, 5, 6, 7, 8, 9, 10, 11, 12, 2, 6, 8, 2, 10, 6, 2, 1, 2, 3, 4, 5, 6, 7, 8, 9, 10, 11, 12, 8, 8, 7, 1, 2, 3, 4, 5, 6, 7, 8, 10, 11, 12, 12, 10, 11, 1, 1, 2, 3, 4, 5, 6, 7, 8, 9, 10, 11, 12, 4, 10, 6, 1, 2, 3, 4, 5, 6, 7, 8, 9, 10, 11, 12, 1, 2, 3, 4, 5, 6, 7, 8, 9, 10, 11, 12, 1, 2, 3, 4, 5, 6, 7, 8, 9, 10, 11, 12, 1, 4, 1, 2, 3, 4, 5, 6, 7, 8, 9, 10, 11, 12, 1, 2, 4, 6, 8, 10, 10, 5, 9, 2, 2, 8, 12, 1, 6, 3, 4, 5, 6, 10, 11, 1, 2, 3, 4, 5, 6, 7, 8, 9, 10, 11, 12, 2, 3, 6, 10, 11, 4, 4, 10, 1, 2, 3, 4, 5, 6, 7, 8, 9, 10, 11, 12, 1, 2, 3, 4, 5, 6, 7, 8, 9, 10, 11, 12, 4, 5, 7, 1, 2, 3, 4, 5, 6, 7, 10, 11, 12, 2, 5, 11, 8, 1, 2, 3, 4, 5, 6, 7, 8, 9, 10, 11, 12, 3, 4, 10, 11, 12, 11, 5, 2, 4, 10, 12, 1, 3, 5, 7, 2, 2, 11, 1, 2, 3, 4, 5, 6, 7, 8, 10, 12, 1, 2, 3, 4, 5, 6, 7, 8, 9, 10, 11, 12, 2, 3, 2, 4, 6, 8, 10, 10, 9, 10, 9, 1, 6, 2, 5, 6, 8, 11, 11, 1, 4, 7, 1, 7, 7, 10, 6, 1, 2, 3, 4, 5, 6, 7, 8, 9, 10, 11, 12, 9, 1, 2, 3, 4, 5, 6, 7, 8, 9, 10, 11, 12, 1, 2, 3, 4, 5, 6, 7, 9, 10, 11, 12, 3, 3, 5, 6, 7, 8, 11, 12, 12, 7, 3, 3, 9, 3, 2, 3, 6, 10, 12, 7, 7, 1, 2, 3, 4, 5, 6, 7, 8, 9, 10, 11, 12, 1, 2, 3, 4, 5, 6, 7, 9, 10, 11, 12, 4, 6, 11, 12, 1, 2, 3, 4, 5, 6, 7, 8, 9, 10, 11, 12, 10, 2, 3, 12, 4, 9, 10, 11, 11, 5, 1, 2, 3, 4, 5, 6, 7, 8, 9, 10, 11, 12, 12, 1, 2, 3, 4, 5, 6, 7, 9, 10, 11, 12, 1, 2, 3, 4, 5, 6, 7, 8, 9, 10, 11, 12, 2, 3, 5, 6, 9, 10, 11, 12, 9, 1, 2, 3, 4, 5, 6, 7, 8, 9, 10, 11, 12, 4, 10, 12, 1, 2, 3, 4, 5, 6, 7, 8, 9, 10, 11, 12, 2, 5, 1, 2, 3, 4, 5, 6, 7, 8, 9, 10, 11, 12, 4, 3, 1, 2, 3, 4, 5, 6, 7, 8, 9, 10, 11, 12, 9, 1, 2, 3, 4, 5, 6, 7, 8, 9, 10, 11, 12, 6, 2, 10, 2, 3, 4, 5, 6, 8, 9, 10, 11, 12, 1, 2, 3, 4, 5, 6, 7, 8, 9, 10, 11, 12, 1, 2, 3, 4, 5, 6, 7, 8, 9, 10, 11, 12, 1, 2, 3, 4, 5, 6, 7, 8, 10, 11, 12, 9, 5, 1, 4, 12, 5, 4, 8, 1, 2, 3, 4, 5, 6, 7, 8, 9, 10, 11, 12, 6, 6, 2, 5, 8, 1, 2, 3, 4, 5, 6, 7, 8, 9, 10, 11, 12, 1, 11, 1, 2, 3, 4, 5, 6, 7, 8, 9, 10, 11, 12, 9, 6, 10, 12, 5, 5, 2, 3, 4, 5, 6, 7, 10, 11, 12, 2, 6, 10, 11, 10, 4, 10, 11, 8, 2, 3, 4, 5, 6, 7, 9, 10, 11, 12, 5, 1, 6, 1, 2, 3, 4, 5, 6, 7, 8, 9, 10, 11, 12, 6, 3, 4, 6, 10, 1, 2, 3, 4, 5, 6, 7, 8, 9, 10, 11, 12, 12, 2, 2, 6, 1, 2, 3, 4, 5, 6, 7, 8, 9, 10, 11, 12, 1, 2, 3, 4, 5, 6, 7, 9, 10, 11, 12, 10, 4, 2, 1, 2, 3, 4, 5, 6, 7, 8, 9, 10, 11, 12, 2, 3, 6, 7, 8, 10, 11, 12, 12, 1, 1, 2, 3, 4, 5, 6, 7, 8, 9, 10, 11, 12, 8, 1, 2, 3, 4, 5, 6, 7, 8, 9, 10, 11, 12, 1, 2, 3, 4, 5, 6, 7, 8, 9, 10, 11, 12, 1, 2, 3, 4, 5, 6, 7, 8, 9, 10, 11, 12, 6, 9, 4, 8, 2, 3, 4, 5, 6, 8, 10, 11, 12, 2, 3, 4, 5, 6, 7, 9, 10, 11, 12, 4, 1, 2, 3, 4, 5, 6, 7, 8, 9, 10, 11, 12, 12, 8, 9, 1, 2, 3, 4, 5, 6, 7, 8, 10, 11, 12, 8, 6, 1, 2, 3, 4, 6, 8, 9, 10, 11, 12, 9, 5, 1, 2, 1, 2, 3, 5, 6, 8, 9, 10, 11, 12, 11, 3, 1, 2, 3, 4, 5, 6, 7, 8, 10, 11, 12, 9, 5, 2, 3, 4, 5, 6, 7, 8, 9, 10, 11, 12, 6, 12, 6, 2, 4, 5, 10, 1, 2, 3, 4, 5, 6, 7, 8, 9, 10, 11, 12, 1, 2, 3, 4, 5, 6, 7, 8, 9, 10, 11, 12, 8, 9, 2, 6, 10, 1, 2, 3, 4, 5, 6, 7, 9, 10, 12, 1, 2, 3, 4, 5, 6, 7, 8, 9, 10, 11, 12, 12, 11, 1, 2, 3, 4, 5, 6, 8, 9, 10, 11, 12, 3, 4, 5, 6, 7, 8, 10, 11, 12, 3, 3, 11, 11, 1, 2, 3, 4, 5, 6, 7, 8, 9, 10, 11, 12, 10, 8, 1, 2, 3, 4, 5, 6, 7, 8, 9, 10, 11, 12, 11, 1, 2, 3, 4, 5, 6, 7, 8, 9, 10, 11, 12, 4, 1, 2, 3, 4, 5, 6, 7, 8, 9, 10, 11, 12, 1, 2, 3, 4, 5, 6, 7, 8, 9, 10, 11, 12, 1, 2, 3, 4, 5, 6, 7, 8, 9, 10, 11, 12, 4, 1, 2, 2, 4, 5, 6, 10, 11, 7, 5, 10, 1, 2, 4, 5, 6, 7, 8, 10, 11, 12, 5, 6, 7, 10, 11, 1, 2, 3, 4, 5, 6, 7, 8, 9, 10, 11, 12, 1, 2, 5, 6, 8, 11, 12, 1, 2, 3, 4, 5, 6, 7, 8, 9, 10, 11, 12, 3, 1, 2, 3, 4, 5, 6, 7, 8, 9, 10, 11, 12, 1, 2, 3, 4, 5, 6, 7, 8, 9, 10, 11, 12, 1, 11, 2, 7, 1, 8, 10, 1, 2, 3, 4, 5, 6, 7, 8, 9, 10, 11, 12, 5, 7, 12, 9, 2, 10, 1, 12, 10, 10, 9, 1, 2, 3, 4, 5, 6, 7, 8, 9, 10, 11, 12, 4, 6, 8, 11, 4, 6, 1, 2, 3, 4, 5, 6, 7, 8, 9, 10, 11, 12, 8, 8, 1, 2, 3, 4, 5, 6, 7, 8, 9, 10, 11, 12, 9, 3, 1, 2, 3, 4, 5, 6, 7, 8, 9, 10, 11, 12, 10, 2, 6, 11, 1, 2, 3, 4, 5, 6, 7, 8, 10, 11, 12, 1, 2, 3, 4, 5, 6, 7, 8, 9, 10, 11, 12, 1, 2, 3, 4, 5, 6, 7, 8, 9, 10, 11, 12, 1, 2, 3, 4, 5, 6, 7, 8, 9, 10, 11, 12, 1, 5, 7, 6, 8, 11, 12, 10, 2, 4, 5, 6, 7, 8, 9, 10, 11, 4, 5, 4, 1, 2, 3, 4, 5, 6, 7, 8, 10, 11, 12, 3, 8, 4, 5, 7, 2, 3, 8, 5, 1, 5, 6, 3, 5, 7, 10, 12, 9, 1, 7, 2, 3, 4, 6, 8, 12, 10, 1, 2, 3, 4, 5, 6, 7, 8, 9, 10, 11, 12, 12, 11, 5, 9, 2, 7, 1, 2, 3, 4, 5, 6, 7, 8, 10, 11, 12, 8, 2, 6, 9, 10, 12, 1, 2, 3, 4, 5, 6, 7, 8, 9, 10, 11, 12, 5, 7, 7, 3, 10, 2, 12, 8, 6, 1, 1, 2, 3, 4, 5, 6, 7, 8, 9, 10, 11, 12, 9, 3, 6, 1, 2, 3, 4, 5, 6, 7, 8, 10, 12, 3, 3, 5, 6, 9, 12, 1, 2, 3, 4, 5, 6, 7, 8, 9, 10, 11, 12, 2, 3, 4, 5, 6, 7, 8, 9, 12, 2, 3, 4, 5, 6, 8, 10, 4, 9, 3, 4, 2, 3, 4, 5, 6, 8, 9, 11, 12, 9, 10, 4, 4, 4, 1, 12, 1, 11, 7, 5, 1, 2, 3, 4, 5, 6, 7, 8, 9, 10, 11, 12, 1, 2, 3, 4, 5, 6, 7, 10, 11, 12, 7, 1, 8, 1, 2, 3, 4, 5, 6, 7, 9, 10, 11, 12, 2, 4, 5, 6, 8, 10, 12, 5, 5, 1, 2, 3, 4, 5, 6, 7, 8, 9, 10, 11, 12, 7, 1, 2, 3, 4, 5, 6, 7, 8, 9, 10, 11, 12, 1, 2, 3, 4, 5, 6, 7, 8, 9, 10, 11, 12, 1, 3, 4, 5, 6, 10, 12, 1, 2, 3, 4, 5, 6, 7, 8, 9, 10, 11, 12, 1, 1, 2, 3, 5, 6, 7, 8, 9, 10, 11, 12, 2, 6, 10, 11, 12, 1, 2, 3, 4, 5, 6, 7, 8, 9, 10, 11, 12, 5, 1, 12, 4, 8, 12, 5, 9, 2, 11, 1, 10, 4, 12, 1, 2, 3, 4, 5, 6, 7, 8, 9, 10, 11, 12, 1, 2, 3, 4, 5, 6, 7, 8, 9, 10, 11, 12, 6, 1, 2, 3, 4, 5, 6, 7, 8, 9, 10, 11, 12, 3, 8, 8, 2, 4, 10, 1, 2, 3, 4, 5, 6, 7, 8, 9, 10, 11, 12, 1, 2, 3, 4, 5, 6, 7, 8, 9, 10, 11, 12, 1, 2, 3, 4, 5, 6, 7, 8, 9, 10, 11, 12, 6, 7, 10, 1, 2, 3, 4, 5, 6, 7, 8, 9, 10, 11, 12, 2, 1, 11, 1, 2, 3, 5, 6, 7, 9, 10, 11, 12, 5, 3, 2, 3, 4, 5, 6, 7, 8, 10, 11, 12, 1, 2, 3, 4, 5, 6, 7, 8, 9, 10, 11, 12, 2, 1, 2, 3, 4, 5, 6, 7, 8, 9, 10, 11, 12, 1, 6, 2, 3, 4, 5, 7, 8, 10, 1, 2, 3, 4, 5, 6, 7, 8, 9, 10, 11, 12, 9, 6, 8, 11, 1, 2, 3, 4, 5, 6, 7, 8, 9, 10, 11, 12, 4, 12, 1, 2, 3, 4, 5, 6, 7, 8, 9, 10, 11, 12, 12, 3, 4, 7, 9, 4, 12, 6, 8, 11, 7, 1, 2, 3, 4, 5, 6, 7, 8, 9, 10, 11, 12, 6, 1, 2, 3, 4, 5, 6, 7, 8, 9, 10, 11, 12, 1, 2, 3, 4, 5, 6, 7, 8, 9, 10, 11, 12, 11, 11, 1, 2, 3, 4, 5, 6, 7, 8, 9, 10, 11, 12, 1, 2, 3, 4, 5, 6, 7, 8, 9, 10, 11, 12, 4, 6, 8, 11], \"Freq\": [0.20427354316942398, 0.20427354316942398, 0.20427354316942398, 0.20427354316942398, 0.07953152649021365, 0.1590630529804273, 0.23859457947064094, 0.3181261059608546, 0.1590630529804273, 0.07953152649021365, 0.5217068106135814, 0.3496520320991277, 0.3496520320991277, 0.6239357140601355, 0.6724861673785523, 0.01669605525738572, 0.11687238680170005, 0.05008816577215716, 0.11687238680170005, 0.10017633154431432, 0.18365660783124294, 0.13356844205908577, 0.01669605525738572, 0.01669605525738572, 0.15026449731647148, 0.06678422102954289, 0.05008816577215716, 0.5493481363793221, 0.3763397869309409, 0.7551421884317192, 0.5722137674905545, 0.609436673699612, 0.6093641307060009, 0.06326897466202663, 0.17082623158747193, 0.056942077195823976, 0.0695958721282293, 0.08857656452683729, 0.15184553918886393, 0.03796138479721598, 0.05061517972962131, 0.012653794932405328, 0.12653794932405327, 0.044288282263418646, 0.12021105185785061, 0.621367912974853, 0.03892465334468201, 0.13623628670638704, 0.03892465334468201, 0.03892465334468201, 0.23354792006809205, 0.21408559339575106, 0.019462326672341004, 0.05838698001702301, 0.019462326672341004, 0.09731163336170502, 0.019462326672341004, 0.09731163336170502, 0.019841270053189426, 0.13888889037232596, 0.09920635026594712, 0.019841270053189426, 0.03968254010637885, 0.33730159090422024, 0.05952381015956827, 0.019841270053189426, 0.03968254010637885, 0.05952381015956827, 0.09920635026594712, 0.4593649723231456, 0.5567639827786305, 0.5721382777389925, 0.12315575198899291, 0.0821038346593286, 0.0410519173296643, 0.28736342130765014, 0.12315575198899291, 0.0410519173296643, 0.12315575198899291, 0.0410519173296643, 0.12315575198899291, 0.1843489480325968, 0.5530468440977905, 0.6642428546948702, 0.5217604115356388, 0.09373305499867783, 0.09373305499867783, 0.09373305499867783, 0.09373305499867783, 0.09373305499867783, 0.3749322199947113, 0.09373305499867783, 0.6170608128728848, 0.5445754283321982, 0.09209743994359189, 0.09209743994359189, 0.36838975977436755, 0.09209743994359189, 0.09209743994359189, 0.2762923198307757, 0.09209743994359189, 0.12662419482032303, 0.06331209741016151, 0.12662419482032303, 0.06331209741016151, 0.06331209741016151, 0.06331209741016151, 0.06331209741016151, 0.18993629223048453, 0.25324838964064605, 0.7200858567201247, 0.6042593847891461, 0.7482079060375655, 0.7094249823313533, 0.07708939053389073, 0.07708939053389073, 0.07708939053389073, 0.07708939053389073, 0.07708939053389073, 0.07708939053389073, 0.15417878106778146, 0.23126817160167218, 0.07708939053389073, 0.07708939053389073, 0.200340024510226, 0.400680049020452, 0.200340024510226, 0.7268832580445882, 0.09763900636014486, 0.29291701908043455, 0.04881950318007243, 0.14645850954021727, 0.09763900636014486, 0.04881950318007243, 0.14645850954021727, 0.04881950318007243, 0.5927558492888065, 0.29637792464440327, 0.025382017771877725, 0.14383143404064044, 0.08460672590625908, 0.1099887436781368, 0.09306739849688499, 0.2030561421750218, 0.05076403554375545, 0.04230336295312954, 0.016921345181251816, 0.1099887436781368, 0.05076403554375545, 0.07614605331563316, 0.1645149279856341, 0.10967661865708941, 0.05483830932854471, 0.21935323731417883, 0.10967661865708941, 0.1645149279856341, 0.05483830932854471, 0.05483830932854471, 0.6066966619196409, 0.07178554065945335, 0.1435710813189067, 0.07178554065945335, 0.1435710813189067, 0.07178554065945335, 0.2871421626378134, 0.07178554065945335, 0.6471260857859189, 0.5492788309459369, 0.6470936032159422, 0.6211634174300746, 0.026073401596976256, 0.14774927571619878, 0.05214680319395251, 0.04345566932829376, 0.2650795829025919, 0.11298474025356378, 0.030418968529805634, 0.026073401596976256, 0.039110102395464384, 0.06083793705961127, 0.1086391733207344, 0.08256577172375815, 0.7783750496309544, 0.4029855308603064, 0.10741000139279624, 0.10741000139279624, 0.429640005571185, 0.10741000139279624, 0.10741000139279624, 0.6471908928360856, 0.5671097383459474, 0.05080503916647111, 0.08890881854132444, 0.07620755874970667, 0.06350629895808889, 0.11431133812456, 0.21592141645750224, 0.06350629895808889, 0.03810377937485333, 0.025402519583235555, 0.12701259791617778, 0.06350629895808889, 0.10161007833294222, 0.7093985265374544, 0.05832216789783251, 0.18954704566795566, 0.07290270987229064, 0.10935406480843596, 0.09477352283397783, 0.10935406480843596, 0.029161083948916255, 0.05832216789783251, 0.007290270987229064, 0.1603859617190394, 0.02187081296168719, 0.09477352283397783, 0.6947776983324764, 0.606776434074602, 0.5720841074771279, 0.6947280270269065, 0.042243716705300575, 0.08448743341060115, 0.042243716705300575, 0.12673115011590172, 0.09856867231236802, 0.11264991121413487, 0.042243716705300575, 0.028162477803533717, 0.014081238901766858, 0.18305610572296918, 0.056324955607067434, 0.1689748668212023, 0.5721775849694911, 0.5216863781299642, 0.7551710343257838, 0.6469569373377361, 0.5217976706874825, 0.6982315009019898, 0.02172476165833848, 0.24440356865630788, 0.06517428497501543, 0.07060547538960005, 0.07603666580418467, 0.16836690285212322, 0.059743094560430816, 0.016293571243753857, 0.02172476165833848, 0.12491737953544625, 0.04344952331667696, 0.08689904663335392, 0.549334641480794, 0.6093734004732446, 0.06652527238419638, 0.06652527238419638, 0.4656769066893746, 0.06652527238419638, 0.06652527238419638, 0.06652527238419638, 0.06652527238419638, 0.1286183965695887, 0.1286183965695887, 0.1286183965695887, 0.5144735862783548, 0.6094221954407993, 0.625037601626026, 0.05731477899359702, 0.20378588086612276, 0.06368308777066337, 0.05731477899359702, 0.10189294043306138, 0.13373448431839305, 0.05731477899359702, 0.025473235108265345, 0.025473235108265345, 0.13373448431839305, 0.05094647021653069, 0.0891563228789287, 0.13016568387811955, 0.13016568387811955, 0.13016568387811955, 0.19524852581717933, 0.2603313677562391, 0.06508284193905978, 0.06508284193905978, 0.5833297531614204, 0.2916648765807102, 0.6948196632508147, 0.06392103450183326, 0.19176310350549977, 0.06392103450183326, 0.06392103450183326, 0.5113682760146661, 0.6096176692254167, 0.6471509586922352, 0.05001273179566588, 0.15003819538699764, 0.05001273179566588, 0.15003819538699764, 0.11002800995046494, 0.10002546359133176, 0.0400101854365327, 0.0400101854365327, 0.060015278154799054, 0.17004328810526398, 0.0400101854365327, 0.05001273179566588, 0.01126687131152626, 0.1352024557383151, 0.04506748524610504, 0.033800613934578776, 0.10140184180373632, 0.07886809918068381, 0.033800613934578776, 0.01126687131152626, 0.41687423852647154, 0.09013497049221007, 0.02253374262305252, 0.6947617993046344, 0.04204173469032019, 0.1541530271978407, 0.1121112925075205, 0.05605564625376025, 0.09809738094408044, 0.14013911563440062, 0.028027823126880125, 0.014013911563440062, 0.04204173469032019, 0.12612520407096056, 0.05605564625376025, 0.1121112925075205, 0.03665348358576226, 0.16494067613593016, 0.1282871925501679, 0.01832674179288113, 0.1282871925501679, 0.1282871925501679, 0.03665348358576226, 0.01832674179288113, 0.01832674179288113, 0.14661393434304903, 0.03665348358576226, 0.1282871925501679, 0.17258775026642983, 0.17258775026642983, 0.17258775026642983, 0.17258775026642983, 0.10390713447695345, 0.051953567238476724, 0.051953567238476724, 0.051953567238476724, 0.36367497066933707, 0.051953567238476724, 0.15586070171543015, 0.051953567238476724, 0.051953567238476724, 0.03495018546855026, 0.12815068005135094, 0.08155043275995061, 0.06990037093710053, 0.13980074187420105, 0.16310086551990122, 0.03495018546855026, 0.06990037093710053, 0.023300123645700173, 0.12815068005135094, 0.046600247291400346, 0.06990037093710053, 0.030856882975194656, 0.18514129785116795, 0.06171376595038931, 0.10285627658398219, 0.10285627658398219, 0.14399878721757506, 0.051428138291991096, 0.08228502126718575, 0.04114251063359287, 0.10285627658398219, 0.06171376595038931, 0.04114251063359287, 0.03793131249529828, 0.22758787497178973, 0.03793131249529828, 0.03793131249529828, 0.07586262499059657, 0.07586262499059657, 0.03793131249529828, 0.03793131249529828, 0.11379393748589486, 0.07586262499059657, 0.22758787497178973, 0.33658315448274284, 0.33658315448274284, 0.7160198876163608, 0.4263902517108627, 0.1421300839036209, 0.042479207551745245, 0.08495841510349049, 0.07551859120310266, 0.10855797485446007, 0.15575709435639923, 0.15575709435639923, 0.07079867925290874, 0.05191903145213308, 0.042479207551745245, 0.13215753460542964, 0.028319471701163498, 0.05191903145213308, 0.5216943107682185, 0.6067538074413529, 0.6325783704260639, 0.12651567408521278, 0.25303134817042555, 0.6946168039125415, 0.056319049509606936, 0.11263809901921387, 0.056319049509606936, 0.11263809901921387, 0.22527619803842774, 0.22527619803842774, 0.056319049509606936, 0.11263809901921387, 0.11263809901921387, 0.22030611229666308, 0.44061222459332616, 0.010727494180523453, 0.19309489524942217, 0.053637470902617265, 0.053637470902617265, 0.09654744762471108, 0.1394574243468049, 0.021454988361046905, 0.053637470902617265, 0.021454988361046905, 0.22527737779099252, 0.03218248254157036, 0.09654744762471108, 0.6470107860981815, 0.7553587661222669, 0.709427339326831, 0.07830422608279558, 0.20881126955412155, 0.026101408694265193, 0.07830422608279558, 0.16530892173034623, 0.08700469564755064, 0.01740093912951013, 0.03480187825902026, 0.026101408694265193, 0.1218065739065709, 0.05220281738853039, 0.10440563477706077, 0.035460398460522485, 0.16311783291840343, 0.035460398460522485, 0.13474951414998543, 0.14893367353419443, 0.12056535476577644, 0.04255247815262698, 0.07092079692104497, 0.014184159384208993, 0.09219703599735846, 0.09219703599735846, 0.04255247815262698, 0.07939931659388434, 0.15879863318776868, 0.05293287772925623, 0.10586575545851246, 0.07939931659388434, 0.15879863318776868, 0.13233219432314056, 0.05293287772925623, 0.026466438864628114, 0.07939931659388434, 0.026466438864628114, 0.026466438864628114, 0.6094882399871349, 0.03134943629286811, 0.07837359073217028, 0.07837359073217028, 0.06269887258573623, 0.06269887258573623, 0.2351207721965108, 0.04702415443930216, 0.03134943629286811, 0.03134943629286811, 0.20377133590364271, 0.10972302702503839, 0.04702415443930216, 0.544574763957482, 0.7553104621259435, 0.6946849964460826, 0.7552299862381866, 0.5216390470811351, 0.04151079554047671, 0.41510795540476714, 0.04151079554047671, 0.08302159108095342, 0.16604318216190683, 0.04151079554047671, 0.04151079554047671, 0.08302159108095342, 0.04151079554047671, 0.04151079554047671, 0.5721828964241098, 0.7474338741645438, 0.17459617929707746, 0.17459617929707746, 0.34919235859415493, 0.19514852810464345, 0.06504950936821448, 0.08673267915761931, 0.10841584894702413, 0.10841584894702413, 0.13009901873642896, 0.02168316978940483, 0.06504950936821448, 0.10841584894702413, 0.08673267915761931, 0.418478883490319, 0.292757500433546, 0.292757500433546, 0.6066949403226426, 0.694702476873265, 0.02382952880537691, 0.28595434566452294, 0.04765905761075382, 0.04765905761075382, 0.14297717283226147, 0.09531811522150764, 0.04765905761075382, 0.02382952880537691, 0.11914764402688456, 0.09531811522150764, 0.04765905761075382, 0.5217530823511584, 0.0655895499505444, 0.19676864985163323, 0.1311790999010888, 0.1311790999010888, 0.0655895499505444, 0.0655895499505444, 0.0655895499505444, 0.1311790999010888, 0.0655895499505444, 0.0655895499505444, 0.06703854882536411, 0.06703854882536411, 0.06703854882536411, 0.16759637206341027, 0.10055782323804617, 0.03351927441268206, 0.03351927441268206, 0.03351927441268206, 0.16759637206341027, 0.16759637206341027, 0.10055782323804617, 0.7553841564291602, 0.10269695911497183, 0.10269695911497183, 0.10269695911497183, 0.20539391822994366, 0.30809087734491547, 0.7179769423786815, 0.6469950103904023, 0.5493225376927456, 0.0450658423346991, 0.2703950540081946, 0.0901316846693982, 0.0450658423346991, 0.11266460583674774, 0.06759876350204864, 0.02253292116734955, 0.02253292116734955, 0.0450658423346991, 0.15773044817144685, 0.06759876350204864, 0.06759876350204864, 0.05666198436080596, 0.05666198436080596, 0.05666198436080596, 0.2833099218040298, 0.16998595308241787, 0.05666198436080596, 0.05666198436080596, 0.05666198436080596, 0.11332396872161192, 0.05666198436080596, 0.6470004760829942, 0.5493444909417051, 0.07746103443051804, 0.11619155164577706, 0.1291017240508634, 0.0645508620254317, 0.03873051721525902, 0.15492206886103607, 0.10328137924069072, 0.01291017240508634, 0.02582034481017268, 0.09037120683560437, 0.05164068962034536, 0.1291017240508634, 0.12856374584763766, 0.385691237542913, 0.2571274916952753, 0.052108880728436766, 0.08337420916549883, 0.06253065687412412, 0.09379598531118617, 0.052108880728436766, 0.14590486603962294, 0.052108880728436766, 0.041687104582749414, 0.052108880728436766, 0.15632664218531028, 0.07295243301981147, 0.1354830898939356, 0.609426015566456, 0.5445526949990381, 0.6094663854310478, 0.769181546628066, 0.6946638344449132, 0.2576606149678525, 0.08588687165595082, 0.17177374331190165, 0.08588687165595082, 0.08588687165595082, 0.08588687165595082, 0.3435474866238033, 0.6093507199509026, 0.549270172904454, 0.755233116646881, 0.6128710216335225, 0.5216807464649036, 0.5538942745917386, 0.16707217721668122, 0.16707217721668122, 0.16707217721668122, 0.33414435443336243, 0.16707217721668122, 0.5721927500669629, 0.6257055462044789, 0.208568515401493, 0.208568515401493, 0.03071164749578369, 0.12284658998313476, 0.06142329499156738, 0.12284658998313476, 0.1689140612268103, 0.09213494248735106, 0.015355823747891845, 0.03071164749578369, 0.015355823747891845, 0.12284658998313476, 0.04606747124367553, 0.15355823747891845, 0.647285294308629, 0.04656688732669938, 0.04656688732669938, 0.04656688732669938, 0.13970066198009815, 0.09313377465339875, 0.04656688732669938, 0.04656688732669938, 0.04656688732669938, 0.3259682112868957, 0.13970066198009815, 0.5493050922557713, 0.5721661857315417, 0.6946014392538731, 0.5445326250046585, 0.6862560268831688, 0.10185152549076115, 0.08148122039260892, 0.08148122039260892, 0.12222183058891338, 0.1425921356870656, 0.16296244078521785, 0.02037030509815223, 0.04074061019630446, 0.02037030509815223, 0.10185152549076115, 0.08148122039260892, 0.04074061019630446, 0.07103213387181256, 0.20421738488146113, 0.07991115060578913, 0.07103213387181256, 0.07991115060578913, 0.14206426774362513, 0.03551606693590628, 0.04439508366988285, 0.01775803346795314, 0.1509432844776017, 0.02663705020192971, 0.09766918407374227, 0.015213849790753272, 0.13692464811677946, 0.12171079832602617, 0.06085539916301309, 0.09128309874451963, 0.07606924895376636, 0.04564154937225982, 0.030427699581506543, 0.06085539916301309, 0.18256619748903927, 0.06085539916301309, 0.1064969485352729, 0.11056768683299346, 0.11056768683299346, 0.44227074733197386, 0.11056768683299346, 0.5492907883012538, 0.5397837703845235, 0.13494594259613088, 0.13494594259613088, 0.13494594259613088, 0.5493323104361868, 0.6239552915036161, 0.6211145383434201, 0.4808432126253059, 0.24042160631265294, 0.030348318507915393, 0.09104495552374618, 0.08092884935444106, 0.12139327403166157, 0.1922060172167975, 0.10116106169305131, 0.04046442467722053, 0.04046442467722053, 0.010116106169305132, 0.17197380487818723, 0.030348318507915393, 0.09104495552374618, 0.7552308894030687, 0.6232532690421708, 0.048253821785296275, 0.09650764357059255, 0.048253821785296275, 0.10186917932451436, 0.14476146535588882, 0.1876537513872633, 0.03753075027745266, 0.026807678769609045, 0.016084607261765426, 0.13403839384804522, 0.05361535753921809, 0.10186917932451436, 0.6107547319972022, 0.3053773659986011, 0.5671650069059919, 0.13872477035453826, 0.13872477035453826, 0.41617431106361474, 0.13872477035453826, 0.6470237516774071, 0.047351436015892985, 0.047351436015892985, 0.09470287203178597, 0.3314600521112509, 0.09470287203178597, 0.047351436015892985, 0.047351436015892985, 0.047351436015892985, 0.18940574406357194, 0.09470287203178597, 0.6093781000339135, 0.5935461350252317, 0.5722242663719262, 0.03518510779825273, 0.07037021559650546, 0.06450603096346333, 0.19938227752343213, 0.05277766169737909, 0.28734504701906394, 0.05277766169737909, 0.029320923165210604, 0.011728369266084242, 0.07623440022954757, 0.05864184633042121, 0.05864184633042121, 0.621387456789245, 0.6212312320861398, 0.3978119162632663, 0.19890595813163314, 0.19890595813163314, 0.03192689632085779, 0.09578068896257336, 0.0851383901889541, 0.06385379264171558, 0.10642298773619263, 0.1702767803779082, 0.10642298773619263, 0.021284597547238524, 0.010642298773619262, 0.10642298773619263, 0.06385379264171558, 0.12770758528343115, 0.7553461870674067, 0.5444797504897343, 0.521812620168406, 0.710334980072165, 0.5216471009370471, 0.5670752005299664, 0.04164674862541155, 0.1487383879478984, 0.13088978139415058, 0.07734396173290717, 0.13088978139415058, 0.12494024587623466, 0.08924303276873904, 0.035697213107495615, 0.017848606553747808, 0.07139442621499123, 0.02974767758957968, 0.09519256828665498, 0.06077945770140887, 0.15194864425352217, 0.07597432212676108, 0.030389728850704435, 0.15194864425352217, 0.13675377982816994, 0.030389728850704435, 0.015194864425352218, 0.04558459327605665, 0.10636405097746551, 0.10636405097746551, 0.07597432212676108, 0.5492814962135618, 0.5672030587355659, 0.5445469712080384, 0.6956394401974112, 0.6067046321178621, 0.5671190607064742, 0.6094127936166229, 0.37283914864790024, 0.2695148051266233, 0.2695148051266233, 0.540338010627962, 0.270169005313981, 0.6471563574815554, 0.025360262478959318, 0.08876091867635762, 0.12680131239479658, 0.08876091867635762, 0.11412118115531693, 0.1521615748737559, 0.10144104991583727, 0.038040393718438974, 0.012680131239479659, 0.10144104991583727, 0.06340065619739829, 0.07608078743687795, 0.6212077416275839, 0.5216334660192922, 0.6092627621275536, 0.03490563864203673, 0.13962255456814693, 0.058176064403394546, 0.03490563864203673, 0.08144649016475236, 0.20943383185222036, 0.023270425761357818, 0.023270425761357818, 0.023270425761357818, 0.20943383185222036, 0.08144649016475236, 0.06981127728407346, 0.03852602664545452, 0.08989406217272722, 0.06421004440909087, 0.14126209769999992, 0.07705205329090904, 0.11557807993636356, 0.06421004440909087, 0.0513680355272727, 0.012842008881818174, 0.12842008881818173, 0.06421004440909087, 0.14126209769999992, 0.6948640590752531, 0.6172902639337209, 0.050269808039118145, 0.13070150090170718, 0.08043169286258903, 0.10053961607823629, 0.16086338572517805, 0.12064753929388355, 0.06032376964694178, 0.03016188482347089, 0.010053961607823628, 0.12064753929388355, 0.06032376964694178, 0.08043169286258903, 0.06276252714849095, 0.07172860245541823, 0.03586430122770912, 0.07172860245541823, 0.09862682837620007, 0.22415188267318198, 0.044830376534636396, 0.053796451841563675, 0.01793215061385456, 0.19725365675240014, 0.026898225920781837, 0.08966075306927279, 0.5217207531785188, 0.25095447245048574, 0.25095447245048574, 0.6746459721417987, 0.33732298607089933, 0.7487631218076126, 0.5217142954628788, 0.02295900528508728, 0.1147950264254364, 0.04591801057017456, 0.06887701585526185, 0.1377540317105237, 0.1377540317105237, 0.02295900528508728, 0.04591801057017456, 0.02295900528508728, 0.16071303699561096, 0.1377540317105237, 0.06887701585526185, 0.6945426602647271, 0.6945816457155204, 0.6469879276509957, 0.01957850694085235, 0.05873552082255706, 0.11747104164511411, 0.0783140277634094, 0.13704954858596646, 0.0391570138817047, 0.05873552082255706, 0.19578506940852353, 0.21536357634937586, 0.0391570138817047, 0.05873552082255706, 0.5720851911689976, 0.5445604297887046, 0.6390313136085374, 0.7093379805147835, 0.0403006878371857, 0.1329922698627128, 0.060451031755778546, 0.05642096297205997, 0.10881185716040138, 0.24180412702311418, 0.05642096297205997, 0.03224055026974856, 0.03224055026974856, 0.10075171959296424, 0.044330756620904264, 0.08866151324180853, 0.6067493069552204, 0.5444756097584336, 0.7371646216408151, 0.04952222525659661, 0.1857083447122373, 0.08666389419904406, 0.04952222525659661, 0.07428333788489491, 0.12380556314149152, 0.037141668942447456, 0.06190278157074576, 0.024761112628298304, 0.11142500682734237, 0.04952222525659661, 0.14856667576978982, 0.03752108727208021, 0.10915225388241515, 0.04434310313973115, 0.129618301485368, 0.09550822214711326, 0.1534953570221463, 0.027288063470603786, 0.07163116661033495, 0.023877055536778314, 0.17396140462509913, 0.03752108727208021, 0.1023302380147642, 0.03231775173266007, 0.1373504448638053, 0.08079437933165017, 0.08079437933165017, 0.1373504448638053, 0.1454298827969703, 0.04039718966582508, 0.02423831379949505, 0.016158875866330035, 0.12119156899747525, 0.07271494139848515, 0.10503269313114523, 0.7094936384873182, 0.8043016524637145, 0.052487772473726504, 0.11423809303105181, 0.052487772473726504, 0.04940025644586024, 0.10497554494745301, 0.1852509616719759, 0.0617503205573253, 0.015437580139331325, 0.03396267630652892, 0.1235006411146506, 0.03087516027866265, 0.1759884135883771, 0.2581207949008137, 0.12906039745040684, 0.12906039745040684, 0.12906039745040684, 0.12906039745040684, 0.12906039745040684, 0.544526386081967, 0.5671899886051818, 0.7552941382668719, 0.687098276916696, 0.44298599443763714, 0.6948690568475162, 0.759856770363444, 0.7094913633690811, 0.7248993353290444, 0.1074267029641691, 0.4297068118566764, 0.1074267029641691, 0.1074267029641691, 0.1074267029641691, 0.1074267029641691, 0.03391777209902726, 0.10175331629708177, 0.06783554419805451, 0.18654774654464992, 0.13567108839610903, 0.050876658148540886, 0.01695888604951363, 0.06783554419805451, 0.03391777209902726, 0.13567108839610903, 0.10175331629708177, 0.06783554419805451, 0.4298044889135376, 0.2149022444567688, 0.1074511222283844, 0.1074511222283844, 0.1074511222283844, 0.80895205761635, 0.21237687949634565, 0.637130638489037, 0.03040530165019375, 0.10033749544563937, 0.08817537478556187, 0.04864848264031, 0.15506703841598812, 0.17331021940610436, 0.06689166363042624, 0.009121590495058124, 0.021283711155135623, 0.11249961610571686, 0.036486361980232494, 0.15506703841598812, 0.047788098072350106, 0.09557619614470021, 0.17522302626528372, 0.12743492819293362, 0.11150556216881692, 0.14336429421705033, 0.047788098072350106, 0.031858732048233404, 0.015929366024116702, 0.07964683012058352, 0.07964683012058352, 0.047788098072350106, 0.1462927026177854, 0.1462927026177854, 0.2925854052355708, 0.03586255095025596, 0.03586255095025596, 0.14345020380102383, 0.10758765285076786, 0.32276295855230364, 0.14345020380102383, 0.03586255095025596, 0.07172510190051191, 0.03586255095025596, 0.07172510190051191, 0.5217192924500869, 0.5670840643977632, 0.6092483141299766, 0.6947580120427983, 0.01482338437303263, 0.01482338437303263, 0.08894030623819578, 0.16305722810335893, 0.01482338437303263, 0.1482338437303263, 0.01482338437303263, 0.04447015311909789, 0.01482338437303263, 0.1482338437303263, 0.16305722810335893, 0.17788061247639156, 0.1494108461049857, 0.1494108461049857, 0.1494108461049857, 0.2988216922099714, 0.1494108461049857, 0.6094293600301021, 0.5671619105395269, 0.16052986527733287, 0.48158959583199856, 0.16052986527733287, 0.16052986527733287, 0.18978318919495762, 0.18978318919495762, 0.18978318919495762, 0.37956637838991525, 0.5217411041658542, 0.6981120374529382, 0.6093600229996463, 0.046424785775185426, 0.09284957155037085, 0.046424785775185426, 0.046424785775185426, 0.09284957155037085, 0.1392743573255563, 0.046424785775185426, 0.046424785775185426, 0.3713982862014834, 0.046424785775185426, 0.04698210573516208, 0.16108150537769858, 0.05369383512589952, 0.11409939964253649, 0.1006759408610616, 0.1476580465962237, 0.04698210573516208, 0.020135188172212323, 0.020135188172212323, 0.08725248207958673, 0.0335586469536872, 0.16108150537769858, 0.509261862004771, 0.6212467748762102, 0.4734325369072334, 0.11835813422680835, 0.11835813422680835, 0.11835813422680835, 0.11835813422680835, 0.5445667517349811, 0.47201891264228935, 0.47201891264228935, 0.7552635483862981, 0.7095644025380171, 0.549325742977851, 0.684648944967213, 0.3423244724836065, 0.25336373726863864, 0.25336373726863864, 0.3378183163581849, 0.6094249641924314, 0.2786169357180568, 0.2786169357180568, 0.2786169357180568, 0.7093447300767577, 0.6470490419203018, 0.6470409135806622, 0.5444527878662435, 0.5493363068462871, 0.01614405717788121, 0.2744489720239806, 0.03228811435576242, 0.09686434306728726, 0.03228811435576242, 0.09686434306728726, 0.03228811435576242, 0.01614405717788121, 0.06457622871152484, 0.12915245742304968, 0.04843217153364363, 0.17758462895669333, 0.7552635748933191, 0.03594469080513907, 0.1581566395426119, 0.057511505288222506, 0.07188938161027814, 0.12940088689850063, 0.08626725793233375, 0.043133628966166876, 0.028755752644111253, 0.043133628966166876, 0.12940088689850063, 0.09345619609336157, 0.12940088689850063, 0.03692325697710364, 0.0923081424427591, 0.0923081424427591, 0.0923081424427591, 0.12923139941986275, 0.14769302790841457, 0.07384651395420729, 0.01846162848855182, 0.14769302790841457, 0.11076977093131092, 0.07384651395420729, 0.6165890887111862, 0.07640054746557776, 0.07640054746557776, 0.22920164239673327, 0.1528010949311555, 0.07640054746557776, 0.22920164239673327, 0.07640054746557776, 0.7479052938966089, 0.6469134703685728, 0.6201422049846572, 0.6203731350989908, 0.7552000709765765, 0.6211363300071275, 0.0757823607827962, 0.0757823607827962, 0.378911803913981, 0.1515647215655924, 0.1515647215655924, 0.6469897547803836, 0.6469627830854658, 0.07433401623026906, 0.1635348357065919, 0.05946721298421524, 0.08920081947632287, 0.08920081947632287, 0.05946721298421524, 0.044600409738161435, 0.044600409738161435, 0.01486680324605381, 0.1486680324605381, 0.02973360649210762, 0.17840163895264574, 0.0635172935563265, 0.16673289558535706, 0.07939661694540812, 0.09527594033448974, 0.11115526372357137, 0.04763797016724487, 0.023818985083622436, 0.023818985083622436, 0.16673289558535706, 0.05557763186178569, 0.15879323389081623, 0.39399962372600583, 0.19699981186300292, 0.39399962372600583, 0.19699981186300292, 0.05259958444349068, 0.15779875333047205, 0.05259958444349068, 0.10519916888698136, 0.05259958444349068, 0.14464885721959936, 0.05259958444349068, 0.03944968833261801, 0.02629979222174534, 0.07889937666523603, 0.03944968833261801, 0.19724844166309005, 0.7022146842413184, 0.19065889253773347, 0.38131778507546693, 0.19065889253773347, 0.6067711247924813, 0.22905212980163345, 0.22905212980163345, 0.22905212980163345, 0.6094473667368248, 0.5419509088723531, 0.15280204398740638, 0.10186802932493759, 0.050934014662468795, 0.10186802932493759, 0.10186802932493759, 0.050934014662468795, 0.050934014662468795, 0.050934014662468795, 0.050934014662468795, 0.20373605864987518, 0.050934014662468795, 0.10186802932493759, 0.5721353106691346, 0.021046221491802283, 0.18941599342622054, 0.021046221491802283, 0.04209244298360457, 0.021046221491802283, 0.2315084364098251, 0.06313866447540685, 0.021046221491802283, 0.2736008793934297, 0.06313866447540685, 0.06313866447540685, 0.02613439049900057, 0.091470366746502, 0.06533597624750143, 0.06533597624750143, 0.274411100239506, 0.11760475724550257, 0.039201585748500856, 0.039201585748500856, 0.013067195249500285, 0.11760475724550257, 0.06533597624750143, 0.10453756199600228, 0.14211480967347911, 0.14211480967347911, 0.2131722145102187, 0.07105740483673956, 0.14211480967347911, 0.07105740483673956, 0.07105740483673956, 0.14211480967347911, 0.36770256627548614, 0.04476857740073881, 0.17907430960295523, 0.04476857740073881, 0.05969143653431841, 0.14922859133579602, 0.29845718267159205, 0.014922859133579602, 0.029845718267159205, 0.014922859133579602, 0.10446001393505722, 0.014922859133579602, 0.05969143653431841, 0.6146397905989509, 0.30731989529947545, 0.7659602699423248, 0.046472211790265325, 0.1580055200869021, 0.05576665414831839, 0.10533701339126807, 0.11463145574932114, 0.16420181499227082, 0.03717776943221226, 0.021687032168790484, 0.01858888471610613, 0.12702404556005856, 0.046472211790265325, 0.10223886593858371, 0.4270680195518996, 0.2135340097759498, 0.06176040943744693, 0.10808071651553212, 0.05404035825776606, 0.12352081887489386, 0.14668097241393646, 0.115800767695213, 0.03860025589840433, 0.03860025589840433, 0.015440102359361732, 0.08492056297648953, 0.115800767695213, 0.09264061415617039, 0.817632562214922, 0.6212437476602884, 0.0674812000705359, 0.16870300017633977, 0.03374060003526795, 0.0899749334273812, 0.1349624001410718, 0.1349624001410718, 0.0449874667136906, 0.01124686667842265, 0.0224937333568453, 0.14620926681949445, 0.0449874667136906, 0.0899749334273812, 0.7553008183273451, 0.028492753879255844, 0.12821739245665129, 0.028492753879255844, 0.09972463857739546, 0.11397101551702338, 0.17095652327553507, 0.042739130818883767, 0.014246376939627922, 0.028492753879255844, 0.22794203103404675, 0.05698550775851169, 0.07123188469813961, 0.5493433969873539, 0.6173558447220632, 0.20578528157402107, 0.12097268244253272, 0.06048634122126636, 0.06048634122126636, 0.06048634122126636, 0.18145902366379907, 0.06048634122126636, 0.12097268244253272, 0.06048634122126636, 0.06048634122126636, 0.18145902366379907, 0.02791199007937635, 0.1535159454365699, 0.0558239801587527, 0.06977997519844087, 0.09769196527781722, 0.09769196527781722, 0.09769196527781722, 0.013955995039688175, 0.013955995039688175, 0.25120791071438714, 0.0558239801587527, 0.0558239801587527, 0.08634084954680203, 0.11512113272906938, 0.043170424773401016, 0.11512113272906938, 0.043170424773401016, 0.23024226545813875, 0.028780283182267344, 0.08634084954680203, 0.014390141591133672, 0.05756056636453469, 0.043170424773401016, 0.12951127432020304, 0.05400343586291866, 0.162010307588756, 0.05400343586291866, 0.10800687172583733, 0.27001717931459335, 0.162010307588756, 0.02700171793145933, 0.02700171793145933, 0.05400343586291866, 0.02700171793145933, 0.05400343586291866, 0.7509987687086291, 0.5670781156706556, 0.709374112033044, 0.6067023818270629, 0.5721667275428876, 0.5670798949261708, 0.60672601615154, 0.6946091046645919, 0.0484080404069683, 0.08471407071219453, 0.13312211111916283, 0.0968160808139366, 0.0968160808139366, 0.22993819193309942, 0.03630603030522622, 0.02420402020348415, 0.012102010101742075, 0.13312211111916283, 0.02420402020348415, 0.0968160808139366, 0.7982212081484319, 0.549280100625685, 0.35473536929272687, 0.17736768464636343, 0.35473536929272687, 0.044285354023495156, 0.14761784674498385, 0.044285354023495156, 0.07380892337249192, 0.1033324927214887, 0.17714141609398062, 0.02952356934899677, 0.02952356934899677, 0.014761784674498384, 0.23618855479197415, 0.044285354023495156, 0.05904713869799354, 0.7074317187172834, 0.6093410230860627, 0.0650855418724998, 0.14318819211949957, 0.0650855418724998, 0.05206843349799984, 0.18223951724299944, 0.1301710837449996, 0.03905132512349988, 0.02603421674899992, 0.05206843349799984, 0.10413686699599968, 0.0650855418724998, 0.07810265024699976, 0.7554192527560911, 0.20847891900962867, 0.625436757028886, 0.57214218652869, 0.5671018437447424, 0.567173442595255, 0.08103115776084303, 0.08103115776084303, 0.2430934732825291, 0.12154673664126454, 0.04051557888042152, 0.04051557888042152, 0.20257789440210758, 0.08103115776084303, 0.08103115776084303, 0.13254233204635069, 0.13254233204635069, 0.39762699613905206, 0.13254233204635069, 0.54455368942718, 0.464198943572955, 0.2320994717864775, 0.11604973589323875, 0.6948277770403737, 0.10885330425873942, 0.05442665212936971, 0.10885330425873942, 0.10885330425873942, 0.05442665212936971, 0.10885330425873942, 0.05442665212936971, 0.38098656490558797, 0.05442665212936971, 0.05442665212936971, 0.39417328850449057, 0.7075390208892783, 0.5492684069679664, 0.037674084022823635, 0.20720746212553, 0.037674084022823635, 0.06592964703994136, 0.14127781508558865, 0.16011485709700046, 0.02825556301711773, 0.02825556301711773, 0.018837042011411818, 0.13185929407988273, 0.11302225206847091, 0.04709260502852954, 0.5493131239855028, 0.07840161152060479, 0.5488112806442336, 0.07840161152060479, 0.15680322304120958, 0.03453432847328159, 0.11741671680915741, 0.062161791251906864, 0.10360298541984476, 0.13123044819847005, 0.1105098511145011, 0.048348059862594224, 0.048348059862594224, 0.020720597083968954, 0.1588579109770953, 0.03453432847328159, 0.13123044819847005, 0.5721839990947954, 0.5216874983697066, 0.5216456285229039, 0.7095482533906039, 0.08081126669001147, 0.08081126669001147, 0.048486760014006876, 0.11313577336601605, 0.12929802670401835, 0.14546028004202063, 0.08081126669001147, 0.03232450667600459, 0.03232450667600459, 0.1212169000350172, 0.08081126669001147, 0.06464901335200918, 0.039724319474114596, 0.1191729584223438, 0.07944863894822919, 0.07944863894822919, 0.15889727789645838, 0.039724319474114596, 0.07944863894822919, 0.07944863894822919, 0.07944863894822919, 0.1191729584223438, 0.07944863894822919, 0.5445519249476126, 0.6067221858825208, 0.5218166355299957, 0.01633057227145831, 0.14697515044312479, 0.03266114454291662, 0.08165286135729155, 0.1633057227145831, 0.1633057227145831, 0.01633057227145831, 0.08165286135729155, 0.06532228908583324, 0.06532228908583324, 0.09798343362874987, 0.09798343362874987, 0.5217119792235126, 0.13035227211782088, 0.13035227211782088, 0.13035227211782088, 0.26070454423564177, 0.13035227211782088, 0.13035227211782088, 0.13035227211782088, 0.5722190284522909, 0.6977761521892298, 0.038077984495564765, 0.13327294573447668, 0.06663647286723834, 0.08567546511502072, 0.08567546511502072, 0.09519496123891191, 0.038077984495564765, 0.038077984495564765, 0.019038992247782383, 0.24750689922117097, 0.028558488371673574, 0.12375344961058549, 0.6946785838953549, 0.04687999146812175, 0.0937599829362435, 0.07031998720218263, 0.023439995734060876, 0.16407997013842615, 0.16407997013842615, 0.04687999146812175, 0.07031998720218263, 0.023439995734060876, 0.04687999146812175, 0.14063997440436526, 0.14063997440436526, 0.023598639208634822, 0.047197278417269645, 0.023598639208634822, 0.07079591762590447, 0.11799319604317413, 0.16519047446044377, 0.023598639208634822, 0.047197278417269645, 0.023598639208634822, 0.18878911366907858, 0.14159183525180893, 0.14159183525180893, 0.06129180570776536, 0.12258361141553072, 0.1532295142694134, 0.06129180570776536, 0.06129180570776536, 0.12258361141553072, 0.03064590285388268, 0.06129180570776536, 0.03064590285388268, 0.12258361141553072, 0.06129180570776536, 0.12258361141553072, 0.7093285734253272, 0.7552719938187253, 0.6259459124733989, 0.31297295623669946, 0.0344953743062667, 0.1379814972250668, 0.0344953743062667, 0.0344953743062667, 0.1034861229188001, 0.1379814972250668, 0.1034861229188001, 0.0689907486125334, 0.344953743062667, 0.17843780166597042, 0.08921890083298521, 0.044609450416492606, 0.1338283512494778, 0.1338283512494778, 0.044609450416492606, 0.08921890083298521, 0.17843780166597042, 0.044609450416492606, 0.08921890083298521, 0.6066851921693039, 0.031912936249143896, 0.15728518579935205, 0.0547078907128181, 0.05698738615918552, 0.07978234062285973, 0.15956468124571946, 0.03647192714187873, 0.015956468124571948, 0.031912936249143896, 0.21199307651217014, 0.08434133151559457, 0.07750284517649231, 0.5721483853048966, 0.4453148698078019, 0.7510591929837754, 0.06123278473056286, 0.06123278473056286, 0.03061639236528143, 0.15308196182640715, 0.12246556946112572, 0.12246556946112572, 0.03061639236528143, 0.06123278473056286, 0.12246556946112572, 0.15308196182640715, 0.06123278473056286, 0.6946909948522029, 0.7053593616730514, 0.03292489539470063, 0.06584979078940126, 0.03292489539470063, 0.06584979078940126, 0.13169958157880252, 0.03292489539470063, 0.06584979078940126, 0.2304742677629044, 0.19754937236820375, 0.09877468618410187, 0.7551454662222261, 0.5671861430866781, 0.709411539629893, 0.5217174223860326, 0.050916692147422685, 0.050916692147422685, 0.10183338429484537, 0.20366676858969074, 0.3564168450319588, 0.050916692147422685, 0.050916692147422685, 0.050916692147422685, 0.050916692147422685, 0.050916692147422685, 0.6093464943626572, 0.6211334892883612, 0.034307836683252, 0.068615673366504, 0.068615673366504, 0.068615673366504, 0.137231346733008, 0.068615673366504, 0.17153918341626, 0.034307836683252, 0.240154856782764, 0.034307836683252, 0.102923510049756, 0.45509610773201986, 0.5671207345313344, 0.11651297202096042, 0.05825648601048021, 0.11651297202096042, 0.05825648601048021, 0.05825648601048021, 0.05825648601048021, 0.05825648601048021, 0.05825648601048021, 0.05825648601048021, 0.23302594404192084, 0.11651297202096042, 0.6550292882774196, 0.2183430960924732, 0.7316265347983201, 0.14227347523184578, 0.42682042569553735, 0.14227347523184578, 0.14227347523184578, 0.047882668657463774, 0.23723685834834324, 0.06529454816926879, 0.0413532138405369, 0.12841261139956195, 0.18717770475190385, 0.02176484938975626, 0.04570618371848815, 0.015235394572829382, 0.10229479213185443, 0.0413532138405369, 0.06529454816926879, 0.044155319136912154, 0.17662127654764861, 0.06623297870536823, 0.03679609928076013, 0.06623297870536823, 0.19869893611610467, 0.044155319136912154, 0.03679609928076013, 0.022077659568456077, 0.19133971625995266, 0.022077659568456077, 0.09566985812997633, 0.6948245422401231, 0.7554827762650933, 0.4104484971707027, 0.13681616572356758, 0.13681616572356758, 0.043984466329438525, 0.043984466329438525, 0.21992233164719263, 0.08796893265887705, 0.08796893265887705, 0.043984466329438525, 0.13195339898831557, 0.08796893265887705, 0.1759378653177541, 0.08796893265887705, 0.03015615935373121, 0.09046847806119362, 0.18093695612238725, 0.13570271709179044, 0.04523423903059681, 0.16585887644552164, 0.04523423903059681, 0.06031231870746242, 0.015078079676865605, 0.13570271709179044, 0.04523423903059681, 0.04523423903059681, 0.5721979207721454, 0.6093552048740709, 0.04947541958670004, 0.1236885489667501, 0.02473770979335002, 0.07421312938005006, 0.07421312938005006, 0.27211480772685026, 0.07421312938005006, 0.02473770979335002, 0.1236885489667501, 0.07421312938005006, 0.07421312938005006, 0.06708277581657669, 0.13416555163315338, 0.033541387908288346, 0.30187249117459514, 0.033541387908288346, 0.033541387908288346, 0.2012483274497301, 0.06708277581657669, 0.10062416372486505, 0.6167426152563259, 0.6235790492958624, 0.609375497901532, 0.6094493005604664, 0.040131368967201236, 0.13042694914340403, 0.05016421120900155, 0.09029558017620279, 0.05016421120900155, 0.16052547586880495, 0.03009852672540093, 0.08026273793440247, 0.010032842241800309, 0.15049263362700466, 0.14045979138520434, 0.07022989569260217, 0.5445746493198597, 0.6947165434219755, 0.043725733682009695, 0.21862866841004847, 0.07287622280334949, 0.058300978242679595, 0.20405342384937858, 0.1311772010460291, 0.043725733682009695, 0.058300978242679595, 0.014575244560669899, 0.08745146736401939, 0.014575244560669899, 0.058300978242679595, 0.609511461705284, 0.05574425256158202, 0.04877622099138426, 0.08361637884237302, 0.14632866297415278, 0.14632866297415278, 0.19510488396553705, 0.04180818942118651, 0.02787212628079101, 0.020904094710593256, 0.08361637884237302, 0.05574425256158202, 0.09058441041257077, 0.6067444465535328, 0.05582408381500049, 0.06698890057800058, 0.08931853410400079, 0.04465926705200039, 0.07815371734100068, 0.14514261791900127, 0.05582408381500049, 0.06698890057800058, 0.011164816763000098, 0.24562596878600215, 0.08931853410400079, 0.05582408381500049, 0.0293490179053233, 0.13207058057395485, 0.0293490179053233, 0.0586980358106466, 0.19076861638460146, 0.1173960716212932, 0.07337254476330825, 0.04402352685798495, 0.01467450895266165, 0.10272156266863156, 0.07337254476330825, 0.10272156266863156, 0.02787835979555783, 0.06272630954000512, 0.02787835979555783, 0.05575671959111566, 0.13939179897778917, 0.1324222090288997, 0.03484794974444729, 0.06969589948889458, 0.02787835979555783, 0.25787482810890994, 0.07666548943778403, 0.07666548943778403, 0.6067658756626365, 0.7093725412580418, 0.6225035030465653, 0.11191419621837295, 0.11191419621837295, 0.11191419621837295, 0.11191419621837295, 0.11191419621837295, 0.33574258865511886, 0.6469704643199418, 0.567100944479594, 0.544533759102603, 0.05072921794692968, 0.15218765384078906, 0.05072921794692968, 0.15218765384078906, 0.05072921794692968, 0.2536460897346484, 0.05072921794692968, 0.20291687178771872, 0.05072921794692968, 0.05072921794692968, 0.10631616384534878, 0.10631616384534878, 0.21263232769069756, 0.3189484915360463, 0.10631616384534878, 0.016805459670609608, 0.20166551604731528, 0.08402729835304804, 0.033610919341219216, 0.05041637901182882, 0.13444367736487686, 0.033610919341219216, 0.08402729835304804, 0.033610919341219216, 0.18486005637670566, 0.06722183868243843, 0.08402729835304804, 0.12123903992712601, 0.12123903992712601, 0.36371711978137805, 0.12123903992712601, 0.12123903992712601, 0.12123903992712601, 0.12123903992712601, 0.05962485291707007, 0.10434349260487263, 0.05962485291707007, 0.05962485291707007, 0.07453106614633759, 0.19378077198047775, 0.05962485291707007, 0.07453106614633759, 0.014906213229267518, 0.07453106614633759, 0.13415591906340768, 0.07453106614633759, 0.6213041271939516, 0.04274987126446323, 0.1282496137933897, 0.07481227471281066, 0.1335933477014476, 0.16565575114979503, 0.10687467816115807, 0.03740613735640533, 0.021374935632231615, 0.010687467816115808, 0.14428081551756342, 0.05343733908057904, 0.08549974252892646, 0.0502237155734446, 0.1004474311468892, 0.035874082552460426, 0.10762224765738128, 0.1578459632308259, 0.1004474311468892, 0.057398532083936686, 0.06457334859442877, 0.014349633020984172, 0.1937200457832863, 0.021524449531476256, 0.0932726146363971, 0.7094929686724122, 0.40325115391939426, 0.5217697276494315, 0.646983880617715, 0.6927968642884482, 0.48604560864602986, 0.5445678873786428, 0.0267719878010828, 0.16063192680649682, 0.066929969502707, 0.14724593290595542, 0.133859939005414, 0.1070879512043312, 0.040157981701624205, 0.0535439756021656, 0.040157981701624205, 0.12047394510487261, 0.0133859939005414, 0.08031596340324841, 0.567071970234762, 0.6471413009139081, 0.5720980504474572, 0.7554183222705247, 0.5217684372324537, 0.5445208984624499, 0.7094556063606139, 0.5721943858595183, 0.5445609873784305, 0.5445495310288545, 0.755361116765134, 0.056939149804938, 0.142347874512345, 0.056939149804938, 0.085408724707407, 0.199287024317283, 0.170817449414814, 0.0711739372561725, 0.0427043623537035, 0.0142347874512345, 0.056939149804938, 0.0427043623537035, 0.0711739372561725, 0.606760812930946, 0.16498387086454128, 0.32996774172908255, 0.16498387086454128, 0.27020743562924376, 0.5404148712584875, 0.037224001852711984, 0.13028400648449195, 0.05583600277906798, 0.11167200555813596, 0.11167200555813596, 0.11167200555813596, 0.018612000926355992, 0.11167200555813596, 0.018612000926355992, 0.16750800833720395, 0.05583600277906798, 0.07444800370542397, 0.6948398254425243, 0.6946878117879061, 0.04417860194955344, 0.10308340454895802, 0.04417860194955344, 0.05890480259940459, 0.05890480259940459, 0.2503454110474695, 0.029452401299702294, 0.014726200649851147, 0.029452401299702294, 0.17671440779821376, 0.08835720389910688, 0.10308340454895802, 0.7553876819870746, 0.6212653734942254, 0.045646430381869475, 0.22823215190934737, 0.03423482278640211, 0.045646430381869475, 0.13693929114560843, 0.05705803797733684, 0.10270446835920632, 0.011411607595467369, 0.011411607595467369, 0.1825857215274779, 0.045646430381869475, 0.09129286076373895, 0.5445443948529639, 0.19651752012930113, 0.19651752012930113, 0.39303504025860225, 0.037319531288178824, 0.18659765644089413, 0.037319531288178824, 0.07463906257635765, 0.24257695337316235, 0.07463906257635765, 0.018659765644089412, 0.037319531288178824, 0.11195859386453648, 0.037319531288178824, 0.11195859386453648, 0.07534165569251171, 0.2109566359390328, 0.045204993415507023, 0.09040998683101405, 0.1054783179695164, 0.16575164252352576, 0.06027332455400937, 0.030136662277004685, 0.015068331138502342, 0.06027332455400937, 0.07534165569251171, 0.09040998683101405, 0.0539672221873262, 0.1619016665619786, 0.07195629624976826, 0.0539672221873262, 0.07195629624976826, 0.2518470368741889, 0.03597814812488413, 0.017989074062442066, 0.03597814812488413, 0.1079344443746524, 0.017989074062442066, 0.1079344443746524, 0.07074715589546049, 0.11319544943273678, 0.14149431179092098, 0.11319544943273678, 0.11319544943273678, 0.09904601825364469, 0.05659772471636839, 0.0424482935372763, 0.028298862358184195, 0.14149431179092098, 0.028298862358184195, 0.05659772471636839, 0.7093812432594204, 0.7509271632383631, 0.6470163129027581, 0.1978880260513763, 0.1978880260513763, 0.1978880260513763, 0.3957760521027526, 0.5445260287837977, 0.12116123448474672, 0.12116123448474672, 0.12116123448474672, 0.16154831264632896, 0.04038707816158224, 0.04038707816158224, 0.04038707816158224, 0.3230966252926579, 0.04038707816158224, 0.6067514366000085, 0.5671158766679725, 0.6066298719462774, 0.017764372418257866, 0.07105748967303147, 0.03552874483651573, 0.08882186209128934, 0.19540809660083652, 0.14211497934606293, 0.03552874483651573, 0.08882186209128934, 0.19540809660083652, 0.0532931172547736, 0.0532931172547736, 0.3461464447332693, 0.3461464447332693, 0.6066813800809183, 0.24730112270284735, 0.24730112270284735, 0.4508574963038196, 0.2254287481519098, 0.2254287481519098, 0.5672072278019474, 0.7092894523546199, 0.6502034272076526, 0.2167344757358842, 0.0941637875679184, 0.0941637875679184, 0.2824913627037552, 0.0941637875679184, 0.1883275751358368, 0.7553611335654096, 0.5005810145410817, 0.6470780991909414, 0.08617553486911252, 0.08617553486911252, 0.08617553486911252, 0.6032287440837877, 0.08617553486911252, 0.08617553486911252, 0.7025127030533664, 0.07664325546104682, 0.08941713137122129, 0.05109550364069788, 0.08941713137122129, 0.10219100728139575, 0.15328651092209364, 0.06386937955087235, 0.06386937955087235, 0.02554775182034894, 0.14051263501191916, 0.05109550364069788, 0.08941713137122129, 0.5722271531242408, 0.6095895337389065, 0.567114587969404, 0.7552027053741568, 0.5216688648116506, 0.6470340771375998, 0.09005376106739003, 0.2701612832021701, 0.12007168142318671, 0.030017920355796677, 0.09005376106739003, 0.09005376106739003, 0.030017920355796677, 0.030017920355796677, 0.09005376106739003, 0.060035840711593354, 0.060035840711593354, 0.694877875994585, 0.16857777167836335, 0.16857777167836335, 0.16857777167836335, 0.16857777167836335, 0.5722099420086648, 0.032328102702105774, 0.14547646215947596, 0.059268188287193914, 0.10776034234035257, 0.14547646215947596, 0.12392439369140545, 0.07004422252122917, 0.016164051351052887, 0.005388017117017628, 0.1347004279254407, 0.05388017117017629, 0.10776034234035257, 0.5671781081691951, 0.6469720247169556, 0.6469991125485121, 0.6211912497121009, 0.7013786240601908, 0.5218150384153816, 0.5721454232586898, 0.6946869576623905, 0.5493275232285494, 0.6933659374318796, 0.1522202113981098, 0.0761101056990549, 0.03805505284952745, 0.03805505284952745, 0.0761101056990549, 0.1522202113981098, 0.03805505284952745, 0.03805505284952745, 0.03805505284952745, 0.1522202113981098, 0.0761101056990549, 0.11416515854858234, 0.7553433369157422, 0.6211494130756203, 0.5493386504742864, 0.05779286293748436, 0.11558572587496872, 0.23117145174993745, 0.05779286293748436, 0.17337858881245308, 0.11558572587496872, 0.05779286293748436, 0.05779286293748436, 0.17337858881245308, 0.05779286293748436, 0.6286167234762512, 0.1430548025161068, 0.0715274012580534, 0.4291644075483204, 0.0715274012580534, 0.2145822037741602, 0.02749029004793482, 0.19243203033554374, 0.05498058009586964, 0.12828802022369581, 0.09163430015978273, 0.12828802022369581, 0.03665372006391309, 0.03665372006391309, 0.018326860031956545, 0.12828802022369581, 0.06414401011184791, 0.09163430015978273, 0.22389506422796732, 0.05597376605699183, 0.16792129817097548, 0.05597376605699183, 0.11194753211398366, 0.05597376605699183, 0.16792129817097548, 0.05597376605699183, 0.05597376605699183, 0.07954082631566108, 0.07954082631566108, 0.07954082631566108, 0.15908165263132215, 0.15908165263132215, 0.15908165263132215, 0.07954082631566108, 0.6797541080320574, 0.3398770540160287, 0.621220440433967, 0.6067165812652429, 0.3551255069214842, 0.07102510138429685, 0.21307530415289053, 0.07102510138429685, 0.07102510138429685, 0.07102510138429685, 0.07102510138429685, 0.07102510138429685, 0.07102510138429685, 0.75530546604424, 0.5445689447773522, 0.8081334274761218, 0.8042387611853804, 0.8069323318935735, 0.7733619718111382, 0.5721500300597501, 0.2348627849698011, 0.2348627849698011, 0.6470164038754902, 0.56719469881782, 0.017851131746263522, 0.12495792222384466, 0.08925565873131762, 0.035702263492527045, 0.21421358095516227, 0.14280905397010818, 0.035702263492527045, 0.035702263492527045, 0.035702263492527045, 0.12495792222384466, 0.05355339523879057, 0.08925565873131762, 0.024796777768568406, 0.14878066661141046, 0.14878066661141046, 0.04959355553713681, 0.09918711107427362, 0.12398388884284203, 0.024796777768568406, 0.12398388884284203, 0.07439033330570523, 0.17357744437997885, 0.8808288284134751, 0.7074321602050625, 0.6946835786106031, 0.18996515710230247, 0.14247386782672686, 0.04749128927557562, 0.04749128927557562, 0.18996515710230247, 0.04749128927557562, 0.04749128927557562, 0.04749128927557562, 0.04749128927557562, 0.09498257855115123, 0.04749128927557562, 0.1395797457588664, 0.2093696186382996, 0.0697898728794332, 0.0697898728794332, 0.2093696186382996, 0.1395797457588664, 0.0697898728794332, 0.5672112373830829, 0.567160370689528, 0.053603606182952866, 0.1608108185488586, 0.03573573745530191, 0.09827327800208026, 0.1250750810935567, 0.19654655600416052, 0.06253754054677835, 0.04466967181912739, 0.03573573745530191, 0.053603606182952866, 0.06253754054677835, 0.07147147491060382, 0.6469592458681002, 0.05601012571994099, 0.19603544001979348, 0.07001265714992624, 0.11202025143988198, 0.08401518857991148, 0.11202025143988198, 0.04200759428995574, 0.07001265714992624, 0.04200759428995574, 0.07001265714992624, 0.014002531429985247, 0.11202025143988198, 0.06132608092216269, 0.09198912138324404, 0.15331520230540674, 0.06132608092216269, 0.06132608092216269, 0.15331520230540674, 0.030663040461081346, 0.030663040461081346, 0.06132608092216269, 0.18397824276648808, 0.030663040461081346, 0.09198912138324404, 0.07342517288553992, 0.07342517288553992, 0.07342517288553992, 0.07342517288553992, 0.14685034577107983, 0.29370069154215966, 0.29370069154215966, 0.03557014881352613, 0.1541373115252799, 0.10078208830499069, 0.07706865576263995, 0.13635223711851682, 0.08299701389822764, 0.07114029762705226, 0.05928358135587688, 0.023713432542350754, 0.10671044644057838, 0.02964179067793844, 0.11856716271175376, 0.7095061262218552, 0.04846949428421595, 0.1938779771368638, 0.14540848285264785, 0.14540848285264785, 0.12117373571053988, 0.024234747142107976, 0.04846949428421595, 0.024234747142107976, 0.07270424142632392, 0.024234747142107976, 0.14540848285264785, 0.17111043584192348, 0.17111043584192348, 0.3992576836311548, 0.05703681194730783, 0.05703681194730783, 0.027764792073628527, 0.16658875244177118, 0.08329437622088559, 0.055529584147257054, 0.08329437622088559, 0.11105916829451411, 0.027764792073628527, 0.08329437622088559, 0.027764792073628527, 0.2776479207362853, 0.027764792073628527, 0.055529584147257054, 0.5671522434694029, 0.7094232125711296, 0.5721800139693471, 0.6067751574049326, 0.6947981921056914, 0.5721687016351524, 0.40247669239446204, 0.20123834619723102, 0.5216906337779736, 0.6096866566578345, 0.7093647316894249, 0.36520504364736356, 0.7961416912803988, 0.5721543270228605, 0.05243876662191219, 0.10487753324382439, 0.043698972184926826, 0.11361732768080975, 0.09613773880683901, 0.10487753324382439, 0.06991835549588292, 0.03495917774794146, 0.026219383310956097, 0.1747958887397073, 0.06991835549588292, 0.11361732768080975, 0.045711300692701025, 0.11427825173175256, 0.09142260138540205, 0.06856695103905154, 0.11427825173175256, 0.09142260138540205, 0.022855650346350512, 0.022855650346350512, 0.045711300692701025, 0.09142260138540205, 0.13713390207810308, 0.1599895524244536, 0.7285945804811512, 0.012293670105220509, 0.07376202063132306, 0.06146835052610255, 0.07376202063132306, 0.2704607423148512, 0.08605569073654357, 0.03688101031566153, 0.024587340210441018, 0.049174680420882036, 0.15981771136786663, 0.08605569073654357, 0.049174680420882036, 0.6211676158679315, 0.694803986164819, 0.6946635841837517, 0.6167423187438568, 0.2055807729146189, 0.873521388964357, 0.016725648469919897, 0.05853976964471964, 0.050176945409759685, 0.10871671505447933, 0.050176945409759685, 0.20070778163903874, 0.04181412117479974, 0.04181412117479974, 0.008362824234959949, 0.16725648469919896, 0.158893660464239, 0.08362824234959948, 0.03985686172068032, 0.15942744688272129, 0.07358189856125598, 0.06438416124109898, 0.11957058516204096, 0.11650467272198863, 0.03679094928062799, 0.02759321196047099, 0.01226364976020933, 0.16555927176282595, 0.05518642392094198, 0.12263649760209329, 0.04226169887606696, 0.11974148014885638, 0.04226169887606696, 0.07043616479344493, 0.15495956254557886, 0.11974148014885638, 0.035218082396722465, 0.035218082396722465, 0.035218082396722465, 0.14791594606623437, 0.05634893183475595, 0.14087232958688986, 0.5493342740870661, 0.6471110771456705, 0.5445332179307464, 0.025027867019669862, 0.1418245797781292, 0.09176884573878949, 0.058398356379229674, 0.11679671275845935, 0.1418245797781292, 0.050055734039339723, 0.033370489359559816, 0.033370489359559816, 0.15850982445790912, 0.050055734039339723, 0.09176884573878949, 0.5217547632939821, 0.6956731873788901, 0.6095272526903812, 0.038421105412550415, 0.11526331623765124, 0.11526331623765124, 0.11526331623765124, 0.23052663247530247, 0.15368442165020166, 0.038421105412550415, 0.038421105412550415, 0.038421105412550415, 0.11526331623765124, 0.5671163060639215, 0.6211858036311702, 0.27115529041245245, 0.21692423232996194, 0.054231058082490485, 0.054231058082490485, 0.054231058082490485, 0.054231058082490485, 0.054231058082490485, 0.054231058082490485, 0.054231058082490485, 0.10846211616498097, 0.0883544679027759, 0.15903804222499662, 0.0883544679027759, 0.03534178716111036, 0.10602536148333108, 0.12369625506388626, 0.07068357432222072, 0.01767089358055518, 0.05301268074166554, 0.0883544679027759, 0.07068357432222072, 0.0883544679027759, 0.5216660308034843, 0.04300539025140065, 0.12901617075420194, 0.10751347562850162, 0.10751347562850162, 0.10751347562850162, 0.1612702134427524, 0.05375673781425081, 0.021502695125700324, 0.021502695125700324, 0.15051886587990226, 0.05375673781425081, 0.05375673781425081, 0.3500601653682438, 0.3500601653682438, 0.2771356349347266, 0.0923785449782422, 0.0923785449782422, 0.0923785449782422, 0.2771356349347266, 0.0923785449782422, 0.0923785449782422, 0.0729932108367798, 0.1459864216735596, 0.0729932108367798, 0.058394568669423844, 0.11678913733884769, 0.11678913733884769, 0.0729932108367798, 0.04379592650206788, 0.014598642167355961, 0.08759185300413576, 0.0729932108367798, 0.1459864216735596, 0.7553306897663054, 0.211907081965617, 0.211907081965617, 0.423814163931234, 0.08938708802817004, 0.11173386003521255, 0.06704031602112753, 0.11173386003521255, 0.08938708802817004, 0.11173386003521255, 0.033520158010563766, 0.04469354401408502, 0.02234677200704251, 0.16760079005281883, 0.05586693001760627, 0.1005604740316913, 0.5952705108953597, 0.2976352554476798, 0.04005355878915427, 0.0756567221572914, 0.062305535894239976, 0.12461107178847995, 0.09790869926237711, 0.26257332984001136, 0.08455751299932568, 0.048954349631188554, 0.013351186263051424, 0.09790869926237711, 0.04005355878915427, 0.053404745052205695, 0.5721104334283166, 0.6170243633222858, 0.6067274102476184, 0.3104709301128664, 0.7552043031892031, 0.6067147975616177, 0.5722419759245789, 0.5493263607013548, 0.34197129416362465, 0.34197129416362465, 0.6469404636783397, 0.04478517216984501, 0.07277590477599814, 0.11196293042461254, 0.0615796117335369, 0.1679443956369188, 0.13435551650953503, 0.05038331869107564, 0.03358887912738376, 0.03358887912738376, 0.15674810259445754, 0.05038331869107564, 0.0839721978184594, 0.7750010114770851, 0.027591485814835465, 0.13795742907417732, 0.1241616861667596, 0.06897871453708866, 0.06897871453708866, 0.0827744574445064, 0.0413872287222532, 0.013795742907417733, 0.0413872287222532, 0.206936143611266, 0.0827744574445064, 0.06897871453708866, 0.027122420397985715, 0.12205089179093573, 0.03164282379765, 0.11301008499160715, 0.07684685779429286, 0.1627345223879143, 0.09492847139295, 0.04520403399664286, 0.02260201699832143, 0.18081613598657145, 0.027122420397985715, 0.09944887479261429, 0.6092672898168816, 0.60948075563621, 0.058574354348399194, 0.17572306304519758, 0.09762392391399866, 0.03904956956559946, 0.13667349347959812, 0.2538222021763965, 0.03904956956559946, 0.03904956956559946, 0.03904956956559946, 0.03904956956559946, 0.03904956956559946, 0.03904956956559946, 0.04993630865758089, 0.10895194616199466, 0.07263463077466312, 0.14980892597274267, 0.11349161058541112, 0.09079328846832889, 0.03631731538733156, 0.045396644234164445, 0.013618993270249333, 0.20428489905374, 0.05447597308099733, 0.06355530192783022, 0.5992755910374722, 0.33159221156929236, 0.33159221156929236, 0.9143409477424198], \"Term\": [\"aa\", \"aa\", \"aa\", \"aa\", \"ac\", \"ac\", \"ac\", \"ac\", \"ac\", \"ac\", \"accstop\", \"across\", \"across\", \"activates\", \"acts\", \"adapter\", \"adapter\", \"adapter\", \"adapter\", \"adapter\", \"adapter\", \"adapter\", \"adapter\", \"adapter\", \"adapter\", \"adapter\", \"adapter\", \"adaptors\", \"advised\", \"afraid\", \"aggravate\", \"aliph\", \"allwaste\", \"also\", \"also\", \"also\", \"also\", \"also\", \"also\", \"also\", \"also\", \"also\", \"also\", \"also\", \"also\", \"alternate\", \"always\", \"always\", \"always\", \"always\", \"always\", \"always\", \"always\", \"always\", \"always\", \"always\", \"always\", \"always\", \"amazon\", \"amazon\", \"amazon\", \"amazon\", \"amazon\", \"amazon\", \"amazon\", \"amazon\", \"amazon\", \"amazon\", \"amazon\", \"ampere\", \"amplifier\", \"anatomy\", \"answer\", \"answer\", \"answer\", \"answer\", \"answer\", \"answer\", \"answer\", \"answer\", \"answer\", \"antennae\", \"antennae\", \"antennaes\", \"anyonedont\", \"anywhere\", \"anywhere\", \"anywhere\", \"anywhere\", \"anywhere\", \"anywhere\", \"anywhere\", \"appropriately\", \"argentina\", \"arm\", \"arm\", \"arm\", \"arm\", \"arm\", \"arm\", \"arm\", \"arrived\", \"arrived\", \"arrived\", \"arrived\", \"arrived\", \"arrived\", \"arrived\", \"arrived\", \"arrived\", \"asia\", \"assured\", \"astounded\", \"atomically\", \"att\", \"att\", \"att\", \"att\", \"att\", \"att\", \"att\", \"att\", \"att\", \"att\", \"attachment\", \"attachment\", \"attachment\", \"autoreverse\", \"awesome\", \"awesome\", \"awesome\", \"awesome\", \"awesome\", \"awesome\", \"awesome\", \"awesome\", \"awhile\", \"awhile\", \"back\", \"back\", \"back\", \"back\", \"back\", \"back\", \"back\", \"back\", \"back\", \"back\", \"back\", \"back\", \"background\", \"background\", \"background\", \"background\", \"background\", \"background\", \"background\", \"background\", \"badbut\", \"bag\", \"bag\", \"bag\", \"bag\", \"bag\", \"bag\", \"bag\", \"barrelscrew\", \"bassano\", \"batterry\", \"batters\", \"battery\", \"battery\", \"battery\", \"battery\", \"battery\", \"battery\", \"battery\", \"battery\", \"battery\", \"battery\", \"battery\", \"battery\", \"bb\", \"bear\", \"beat\", \"beat\", \"beat\", \"beat\", \"beat\", \"bedrooms\", \"behaves\", \"best\", \"best\", \"best\", \"best\", \"best\", \"best\", \"best\", \"best\", \"best\", \"best\", \"best\", \"best\", \"betshappy\", \"better\", \"better\", \"better\", \"better\", \"better\", \"better\", \"better\", \"better\", \"better\", \"better\", \"better\", \"better\", \"betterive\", \"betternot\", \"betteru\", \"bills\", \"bit\", \"bit\", \"bit\", \"bit\", \"bit\", \"bit\", \"bit\", \"bit\", \"bit\", \"bit\", \"bit\", \"bit\", \"blacksilverdid\", \"blacksince\", \"blcs\", \"blocked\", \"blueanyway\", \"blueish\", \"bluetooth\", \"bluetooth\", \"bluetooth\", \"bluetooth\", \"bluetooth\", \"bluetooth\", \"bluetooth\", \"bluetooth\", \"bluetooth\", \"bluetooth\", \"bluetooth\", \"bluetooth\", \"bluetoothgreat\", \"bone\", \"boom\", \"boom\", \"boom\", \"boom\", \"boom\", \"boom\", \"boom\", \"booster\", \"booster\", \"booster\", \"booster\", \"boss\", \"bothered\", \"bought\", \"bought\", \"bought\", \"bought\", \"bought\", \"bought\", \"bought\", \"bought\", \"bought\", \"bought\", \"bought\", \"bought\", \"boxwave\", \"boxwave\", \"boxwave\", \"boxwave\", \"boxwave\", \"boxwave\", \"boxwave\", \"boy\", \"boy\", \"brandworks\", \"broken\", \"broken\", \"broken\", \"broken\", \"broken\", \"burner\", \"burning\", \"buy\", \"buy\", \"buy\", \"buy\", \"buy\", \"buy\", \"buy\", \"buy\", \"buy\", \"buy\", \"buy\", \"buy\", \"cable\", \"cable\", \"cable\", \"cable\", \"cable\", \"cable\", \"cable\", \"cable\", \"cable\", \"cable\", \"cable\", \"cake\", \"call\", \"call\", \"call\", \"call\", \"call\", \"call\", \"call\", \"call\", \"call\", \"call\", \"call\", \"call\", \"calls\", \"calls\", \"calls\", \"calls\", \"calls\", \"calls\", \"calls\", \"calls\", \"calls\", \"calls\", \"calls\", \"calls\", \"cam\", \"cam\", \"cam\", \"cam\", \"cannot\", \"cannot\", \"cannot\", \"cannot\", \"cannot\", \"cannot\", \"cannot\", \"cannot\", \"cannot\", \"cant\", \"cant\", \"cant\", \"cant\", \"cant\", \"cant\", \"cant\", \"cant\", \"cant\", \"cant\", \"cant\", \"cant\", \"car\", \"car\", \"car\", \"car\", \"car\", \"car\", \"car\", \"car\", \"car\", \"car\", \"car\", \"car\", \"card\", \"card\", \"card\", \"card\", \"card\", \"card\", \"card\", \"card\", \"card\", \"card\", \"card\", \"cards\", \"cards\", \"carried\", \"cars\", \"cars\", \"case\", \"case\", \"case\", \"case\", \"case\", \"case\", \"case\", \"case\", \"case\", \"case\", \"case\", \"case\", \"casemine\", \"casewith\", \"cash\", \"cash\", \"cash\", \"casing\", \"cassette\", \"cassette\", \"cassette\", \"cassette\", \"cassette\", \"cassette\", \"cassette\", \"cassette\", \"cassette\", \"cd\", \"cd\", \"cell\", \"cell\", \"cell\", \"cell\", \"cell\", \"cell\", \"cell\", \"cell\", \"cell\", \"cell\", \"cell\", \"cell\", \"champ\", \"chances\", \"changer\", \"charge\", \"charge\", \"charge\", \"charge\", \"charge\", \"charge\", \"charge\", \"charge\", \"charge\", \"charge\", \"charge\", \"charge\", \"charger\", \"charger\", \"charger\", \"charger\", \"charger\", \"charger\", \"charger\", \"charger\", \"charger\", \"charger\", \"charger\", \"charger\", \"charges\", \"charges\", \"charges\", \"charges\", \"charges\", \"charges\", \"charges\", \"charges\", \"charges\", \"charges\", \"charges\", \"charges\", \"chatged\", \"cheap\", \"cheap\", \"cheap\", \"cheap\", \"cheap\", \"cheap\", \"cheap\", \"cheap\", \"cheap\", \"cheap\", \"cheap\", \"cheap\", \"cheddar\", \"chemically\", \"cherry\", \"chevy\", \"christian\", \"cingular\", \"cingular\", \"cingular\", \"cingular\", \"cingular\", \"cingular\", \"cingular\", \"cingular\", \"cingular\", \"cingular\", \"clamps\", \"clanging\", \"cleaning\", \"cleaning\", \"cleaning\", \"clear\", \"clear\", \"clear\", \"clear\", \"clear\", \"clear\", \"clear\", \"clear\", \"clear\", \"clear\", \"clearer\", \"coffee\", \"coffee\", \"coil\", \"colorphone\", \"comes\", \"comes\", \"comes\", \"comes\", \"comes\", \"comes\", \"comes\", \"comes\", \"comes\", \"comes\", \"comes\", \"comfortablethese\", \"company\", \"company\", \"company\", \"company\", \"company\", \"company\", \"company\", \"company\", \"company\", \"company\", \"compared\", \"compared\", \"compared\", \"compared\", \"compared\", \"compared\", \"compared\", \"compared\", \"compared\", \"compared\", \"compared\", \"complements\", \"condition\", \"condition\", \"condition\", \"condition\", \"condition\", \"conditions\", \"configurations\", \"confronted\", \"connection\", \"connection\", \"connection\", \"connection\", \"connection\", \"connection\", \"connection\", \"connection\", \"connection\", \"connection\", \"connection\", \"connection\", \"connector\", \"connector\", \"connector\", \"connector\", \"connector\", \"connector\", \"connector\", \"connector\", \"connector\", \"connector\", \"considerations\", \"converters\", \"cord\", \"cord\", \"cord\", \"cord\", \"cord\", \"cord\", \"cord\", \"cord\", \"cord\", \"cord\", \"cord\", \"cord\", \"corner\", \"corner\", \"corner\", \"could\", \"could\", \"could\", \"could\", \"could\", \"could\", \"could\", \"could\", \"could\", \"could\", \"could\", \"could\", \"counseling\", \"counterfiet\", \"crack\", \"crammed\", \"craze\", \"credit\", \"credit\", \"credit\", \"credit\", \"credit\", \"credit\", \"credit\", \"crush\", \"csm\", \"customersthank\", \"cutouts\", \"cyberpowerit\", \"dare\", \"dash\", \"dash\", \"dash\", \"dash\", \"dash\", \"dashwell\", \"daughter\", \"daughter\", \"daughter\", \"day\", \"day\", \"day\", \"day\", \"day\", \"day\", \"day\", \"day\", \"day\", \"day\", \"day\", \"day\", \"defenetly\", \"definitely\", \"definitely\", \"definitely\", \"definitely\", \"definitely\", \"definitely\", \"definitely\", \"definitely\", \"definitely\", \"definitely\", \"defintiely\", \"dented\", \"deployed\", \"deploying\", \"descrition\", \"design\", \"design\", \"design\", \"design\", \"design\", \"design\", \"design\", \"design\", \"design\", \"design\", \"design\", \"design\", \"device\", \"device\", \"device\", \"device\", \"device\", \"device\", \"device\", \"device\", \"device\", \"device\", \"device\", \"device\", \"didnt\", \"didnt\", \"didnt\", \"didnt\", \"didnt\", \"didnt\", \"didnt\", \"didnt\", \"didnt\", \"didnt\", \"didnt\", \"didnt\", \"died\", \"died\", \"died\", \"died\", \"dime\", \"directions\", \"directions\", \"directions\", \"directions\", \"dismantling\", \"disturbed\", \"divice\", \"dock\", \"dock\", \"doesnt\", \"doesnt\", \"doesnt\", \"doesnt\", \"doesnt\", \"doesnt\", \"doesnt\", \"doesnt\", \"doesnt\", \"doesnt\", \"doesnt\", \"doesnt\", \"doestn\", \"donenobodys\", \"dont\", \"dont\", \"dont\", \"dont\", \"dont\", \"dont\", \"dont\", \"dont\", \"dont\", \"dont\", \"dont\", \"dont\", \"dose\", \"dose\", \"doubled\", \"downside\", \"downside\", \"downside\", \"downside\", \"drilled\", \"driver\", \"driver\", \"driver\", \"driver\", \"driver\", \"driver\", \"driver\", \"driver\", \"driver\", \"driver\", \"drivinghave\", \"droid\", \"dubh\", \"ear\", \"ear\", \"ear\", \"ear\", \"ear\", \"ear\", \"ear\", \"ear\", \"ear\", \"ear\", \"ear\", \"ear\", \"earspeaker\", \"earspeakers\", \"earwave\", \"earwave\", \"earwave\", \"easy\", \"easy\", \"easy\", \"easy\", \"easy\", \"easy\", \"easy\", \"easy\", \"easy\", \"easy\", \"easy\", \"easy\", \"economical\", \"embarrassed\", \"embedded\", \"entertainment\", \"envelope\", \"essentiala\", \"even\", \"even\", \"even\", \"even\", \"even\", \"even\", \"even\", \"even\", \"even\", \"even\", \"even\", \"even\", \"every\", \"every\", \"every\", \"every\", \"every\", \"every\", \"every\", \"every\", \"every\", \"every\", \"every\", \"every\", \"evo\", \"ex\", \"excelent\", \"exchanging\", \"expert\", \"extends\", \"extent\", \"fading\", \"fake\", \"fake\", \"fancy\", \"fancy\", \"fannnnntastic\", \"far\", \"far\", \"far\", \"far\", \"far\", \"far\", \"far\", \"far\", \"far\", \"far\", \"far\", \"far\", \"fatherinlaw\", \"ffffffuuuuuuu\", \"field\", \"find\", \"find\", \"find\", \"find\", \"find\", \"find\", \"find\", \"find\", \"find\", \"find\", \"find\", \"find\", \"fine\", \"fine\", \"fine\", \"fine\", \"fine\", \"fine\", \"fine\", \"fine\", \"fine\", \"fine\", \"fine\", \"fine\", \"firefighter\", \"firmer\", \"first\", \"first\", \"first\", \"first\", \"first\", \"first\", \"first\", \"first\", \"first\", \"first\", \"first\", \"first\", \"fit\", \"fit\", \"fit\", \"fit\", \"fit\", \"fit\", \"fit\", \"fit\", \"fit\", \"fit\", \"fit\", \"fit\", \"folded\", \"folks\", \"folks\", \"follow\", \"follow\", \"fool\", \"fooled\", \"found\", \"found\", \"found\", \"found\", \"found\", \"found\", \"found\", \"found\", \"found\", \"found\", \"found\", \"found\", \"fouryearold\", \"functionally\", \"fuses\", \"galaxy\", \"galaxy\", \"galaxy\", \"galaxy\", \"galaxy\", \"galaxy\", \"galaxy\", \"galaxy\", \"galaxy\", \"galaxy\", \"galaxy\", \"gaps\", \"generous\", \"genuine\", \"gerat\", \"get\", \"get\", \"get\", \"get\", \"get\", \"get\", \"get\", \"get\", \"get\", \"get\", \"get\", \"get\", \"girlfreind\", \"glare\", \"glow\", \"go\", \"go\", \"go\", \"go\", \"go\", \"go\", \"go\", \"go\", \"go\", \"go\", \"go\", \"go\", \"good\", \"good\", \"good\", \"good\", \"good\", \"good\", \"good\", \"good\", \"good\", \"good\", \"good\", \"good\", \"got\", \"got\", \"got\", \"got\", \"got\", \"got\", \"got\", \"got\", \"got\", \"got\", \"got\", \"got\", \"grate\", \"gravity\", \"great\", \"great\", \"great\", \"great\", \"great\", \"great\", \"great\", \"great\", \"great\", \"great\", \"great\", \"great\", \"grip\", \"grip\", \"grip\", \"grip\", \"grip\", \"grip\", \"gripability\", \"gripping\", \"gshock\", \"guaranteed\", \"guys\", \"gwifi\", \"habra\", \"handed\", \"handsets\", \"handsfree\", \"handsfree\", \"handsfree\", \"handsfree\", \"handsfree\", \"handsfree\", \"hard\", \"hard\", \"hard\", \"hard\", \"hard\", \"hard\", \"hard\", \"hard\", \"hard\", \"hard\", \"hard\", \"hard\", \"hasnt\", \"hasnt\", \"hasnt\", \"hasnt\", \"hasnt\", \"hdmi\", \"headphone\", \"headphone\", \"headset\", \"headset\", \"headset\", \"headset\", \"headset\", \"headset\", \"headset\", \"headset\", \"headset\", \"headset\", \"headset\", \"headset\", \"hear\", \"hear\", \"hear\", \"hear\", \"hear\", \"hear\", \"hear\", \"hear\", \"hear\", \"hear\", \"hear\", \"hear\", \"helpful\", \"helpful\", \"helpful\", \"high\", \"high\", \"high\", \"high\", \"high\", \"high\", \"high\", \"high\", \"high\", \"high\", \"hock\", \"horriblei\", \"hospital\", \"hr\", \"hub\", \"hub\", \"hub\", \"hub\", \"hub\", \"hub\", \"hub\", \"hub\", \"hub\", \"hub\", \"hub\", \"hub\", \"hubs\", \"hubs\", \"hubs\", \"hubs\", \"hubs\", \"hugged\", \"hundreds\", \"hurt\", \"hurt\", \"hurt\", \"hurt\", \"husband\", \"husband\", \"husband\", \"husband\", \"ideai\", \"identify\", \"ignition\", \"ii\", \"ii\", \"ii\", \"ii\", \"ii\", \"ii\", \"ii\", \"ii\", \"ii\", \"ii\", \"im\", \"im\", \"im\", \"im\", \"im\", \"im\", \"im\", \"im\", \"im\", \"im\", \"im\", \"im\", \"improvements\", \"incase\", \"inches\", \"inches\", \"inches\", \"inches\", \"inches\", \"inconclusive\", \"incredible\", \"incredible\", \"inert\", \"inone\", \"instructinos\", \"interrupting\", \"interrupting\", \"inverter\", \"inverter\", \"inverter\", \"iohone\", \"ipads\", \"ipads\", \"ipads\", \"iphoe\", \"iphonesi\", \"iphonethanks\", \"issuei\", \"italy\", \"item\", \"item\", \"item\", \"item\", \"item\", \"item\", \"item\", \"item\", \"item\", \"item\", \"item\", \"item\", \"itgreat\", \"ive\", \"ive\", \"ive\", \"ive\", \"ive\", \"ive\", \"ive\", \"ive\", \"ive\", \"ive\", \"ive\", \"ive\", \"jabra\", \"jabra\", \"jabra\", \"jabra\", \"jabra\", \"jabra\", \"jabra\", \"jabra\", \"jabra\", \"jabra\", \"jabra\", \"jasco\", \"jawbone\", \"jawbone\", \"jawbone\", \"jawbone\", \"jawbone\", \"jawbone\", \"jawbone\", \"jealous\", \"jelly\", \"jewelers\", \"jewelrywatch\", \"jobwould\", \"jostling\", \"junk\", \"junk\", \"junk\", \"junk\", \"junk\", \"jus\", \"jut\", \"keep\", \"keep\", \"keep\", \"keep\", \"keep\", \"keep\", \"keep\", \"keep\", \"keep\", \"keep\", \"keep\", \"keep\", \"keyboard\", \"keyboard\", \"keyboard\", \"keyboard\", \"keyboard\", \"keyboard\", \"keyboard\", \"keyboard\", \"keyboard\", \"keyboard\", \"keyboard\", \"kickstand\", \"kickstand\", \"kickstand\", \"kickstand\", \"know\", \"know\", \"know\", \"know\", \"know\", \"know\", \"know\", \"know\", \"know\", \"know\", \"know\", \"know\", \"label\", \"landline\", \"landline\", \"landline\", \"latch\", \"lay\", \"lay\", \"lay\", \"learnedcheap\", \"leary\", \"leave\", \"leave\", \"leave\", \"leave\", \"leave\", \"leave\", \"leave\", \"leave\", \"leave\", \"leave\", \"leave\", \"leave\", \"lengths\", \"lg\", \"lg\", \"lg\", \"lg\", \"lg\", \"lg\", \"lg\", \"lg\", \"lg\", \"lg\", \"lg\", \"life\", \"life\", \"life\", \"life\", \"life\", \"life\", \"life\", \"life\", \"life\", \"life\", \"life\", \"life\", \"lifter\", \"lifter\", \"lifter\", \"lifter\", \"lifter\", \"lifter\", \"lifter\", \"lifter\", \"lifters\", \"light\", \"light\", \"light\", \"light\", \"light\", \"light\", \"light\", \"light\", \"light\", \"light\", \"light\", \"light\", \"lightly\", \"lightly\", \"liion\", \"like\", \"like\", \"like\", \"like\", \"like\", \"like\", \"like\", \"like\", \"like\", \"like\", \"like\", \"like\", \"literally\", \"literally\", \"little\", \"little\", \"little\", \"little\", \"little\", \"little\", \"little\", \"little\", \"little\", \"little\", \"little\", \"little\", \"lives\", \"logger\", \"long\", \"long\", \"long\", \"long\", \"long\", \"long\", \"long\", \"long\", \"long\", \"long\", \"long\", \"long\", \"longeri\", \"look\", \"look\", \"look\", \"look\", \"look\", \"look\", \"look\", \"look\", \"look\", \"look\", \"look\", \"look\", \"loops\", \"loss\", \"loss\", \"lost\", \"lost\", \"lost\", \"lost\", \"lost\", \"lost\", \"lost\", \"lost\", \"lost\", \"lost\", \"lot\", \"lot\", \"lot\", \"lot\", \"lot\", \"lot\", \"lot\", \"lot\", \"lot\", \"lot\", \"lot\", \"lot\", \"love\", \"love\", \"love\", \"love\", \"love\", \"love\", \"love\", \"love\", \"love\", \"love\", \"love\", \"love\", \"low\", \"low\", \"low\", \"low\", \"low\", \"low\", \"low\", \"low\", \"low\", \"low\", \"low\", \"lowcheck\", \"lowerthats\", \"lowthe\", \"luggage\", \"lured\", \"luving\", \"machined\", \"machining\", \"made\", \"made\", \"made\", \"made\", \"made\", \"made\", \"made\", \"made\", \"made\", \"made\", \"made\", \"made\", \"magic\", \"magnifying\", \"mail\", \"mail\", \"mail\", \"makes\", \"makes\", \"makes\", \"makes\", \"makes\", \"makes\", \"makes\", \"makes\", \"makes\", \"makes\", \"makes\", \"makes\", \"manhattan\", \"mannor\", \"many\", \"many\", \"many\", \"many\", \"many\", \"many\", \"many\", \"many\", \"many\", \"many\", \"many\", \"many\", \"mate\", \"mc\", \"mc\", \"medical\", \"ment\", \"mercedes\", \"mic\", \"mic\", \"mic\", \"mic\", \"mic\", \"mic\", \"mic\", \"mic\", \"mic\", \"micro\", \"micro\", \"micro\", \"micro\", \"milliamps\", \"mini\", \"mini\", \"mini\", \"misread\", \"mode\", \"mode\", \"mode\", \"mode\", \"mode\", \"mode\", \"mode\", \"mode\", \"mode\", \"mode\", \"mom\", \"monster\", \"moot\", \"motorola\", \"motorola\", \"motorola\", \"motorola\", \"motorola\", \"motorola\", \"motorola\", \"motorola\", \"motorola\", \"motorola\", \"motorola\", \"motorola\", \"motorolagiant\", \"mouth\", \"mouth\", \"mouth\", \"mouth\", \"much\", \"much\", \"much\", \"much\", \"much\", \"much\", \"much\", \"much\", \"much\", \"much\", \"much\", \"much\", \"mydlink\", \"ne\", \"necessities\", \"neckband\", \"need\", \"need\", \"need\", \"need\", \"need\", \"need\", \"need\", \"need\", \"need\", \"need\", \"need\", \"need\", \"needs\", \"needs\", \"needs\", \"needs\", \"needs\", \"needs\", \"needs\", \"needs\", \"needs\", \"needs\", \"needs\", \"neohybrid\", \"nephews\", \"netherlands\", \"never\", \"never\", \"never\", \"never\", \"never\", \"never\", \"never\", \"never\", \"never\", \"never\", \"never\", \"never\", \"newcannot\", \"newer\", \"newer\", \"newer\", \"newer\", \"newer\", \"newer\", \"newer\", \"newlogitech\", \"nex\", \"nice\", \"nice\", \"nice\", \"nice\", \"nice\", \"nice\", \"nice\", \"nice\", \"nice\", \"nice\", \"nice\", \"nice\", \"nize\", \"nokia\", \"nokia\", \"nokia\", \"nokia\", \"nokia\", \"nokia\", \"nokia\", \"nokia\", \"nokia\", \"nokia\", \"nokia\", \"nokia\", \"nothing\", \"nothing\", \"nothing\", \"nothing\", \"nothing\", \"nothing\", \"nothing\", \"nothing\", \"nothing\", \"nothing\", \"nothing\", \"nothing\", \"number\", \"number\", \"number\", \"number\", \"number\", \"number\", \"number\", \"number\", \"number\", \"number\", \"number\", \"number\", \"obsessed\", \"obtain\", \"odd\", \"odd\", \"oem\", \"oem\", \"oem\", \"oem\", \"oem\", \"oem\", \"oem\", \"oem\", \"oem\", \"office\", \"office\", \"office\", \"office\", \"office\", \"office\", \"office\", \"office\", \"office\", \"office\", \"oncespend\", \"one\", \"one\", \"one\", \"one\", \"one\", \"one\", \"one\", \"one\", \"one\", \"one\", \"one\", \"one\", \"onedisappointing\", \"onehanded\", \"onehappy\", \"ones\", \"ones\", \"ones\", \"ones\", \"ones\", \"ones\", \"ones\", \"ones\", \"ones\", \"ones\", \"ones\", \"onethe\", \"opera\", \"ordered\", \"ordered\", \"ordered\", \"ordered\", \"ordered\", \"ordered\", \"ordered\", \"ordered\", \"ordered\", \"ordered\", \"orginal\", \"oringal\", \"outlets\", \"oxnard\", \"pad\", \"pad\", \"pad\", \"pad\", \"pad\", \"pad\", \"pad\", \"pad\", \"pad\", \"pad\", \"painfull\", \"payed\", \"pc\", \"pc\", \"pc\", \"pc\", \"pc\", \"pc\", \"pc\", \"pc\", \"pc\", \"pc\", \"pc\", \"peeling\", \"percent\", \"performance\", \"performance\", \"performance\", \"performance\", \"performance\", \"performance\", \"performance\", \"performance\", \"performance\", \"performance\", \"performance\", \"periodically\", \"periodically\", \"permanently\", \"personally\", \"personally\", \"personally\", \"personally\", \"phone\", \"phone\", \"phone\", \"phone\", \"phone\", \"phone\", \"phone\", \"phone\", \"phone\", \"phone\", \"phone\", \"phone\", \"phones\", \"phones\", \"phones\", \"phones\", \"phones\", \"phones\", \"phones\", \"phones\", \"phones\", \"phones\", \"phones\", \"phones\", \"phonesgalaxy\", \"phonies\", \"plain\", \"plain\", \"plain\", \"player\", \"player\", \"player\", \"player\", \"player\", \"player\", \"player\", \"player\", \"player\", \"player\", \"plug\", \"plug\", \"plug\", \"plug\", \"plug\", \"plug\", \"plug\", \"plug\", \"plug\", \"plug\", \"plug\", \"plug\", \"pocketable\", \"pool\", \"port\", \"port\", \"port\", \"port\", \"port\", \"port\", \"port\", \"port\", \"port\", \"port\", \"port\", \"ports\", \"ports\", \"ports\", \"ports\", \"ports\", \"ports\", \"ports\", \"ports\", \"ports\", \"portsmicscamerastylus\", \"postit\", \"pound\", \"pounds\", \"power\", \"power\", \"power\", \"power\", \"power\", \"power\", \"power\", \"power\", \"power\", \"power\", \"power\", \"power\", \"powerd\", \"prefectly\", \"pretty\", \"pretty\", \"pretty\", \"pretty\", \"pretty\", \"pretty\", \"pretty\", \"pretty\", \"pretty\", \"pretty\", \"pretty\", \"pretty\", \"prettyand\", \"price\", \"price\", \"price\", \"price\", \"price\", \"price\", \"price\", \"price\", \"price\", \"price\", \"price\", \"price\", \"pricesave\", \"problem\", \"problem\", \"problem\", \"problem\", \"problem\", \"problem\", \"problem\", \"problem\", \"problem\", \"problem\", \"problem\", \"problem\", \"problems\", \"problems\", \"problems\", \"problems\", \"problems\", \"problems\", \"problems\", \"problems\", \"problems\", \"problems\", \"problems\", \"problems\", \"product\", \"product\", \"product\", \"product\", \"product\", \"product\", \"product\", \"product\", \"product\", \"product\", \"product\", \"product\", \"productsfree\", \"productthe\", \"profile\", \"promised\", \"promised\", \"promised\", \"promised\", \"promised\", \"promised\", \"prone\", \"properlywhen\", \"protective\", \"protector\", \"protector\", \"protector\", \"protector\", \"protector\", \"protector\", \"protector\", \"protector\", \"protector\", \"protector\", \"pry\", \"pry\", \"pry\", \"pry\", \"pry\", \"purchased\", \"purchased\", \"purchased\", \"purchased\", \"purchased\", \"purchased\", \"purchased\", \"purchased\", \"purchased\", \"purchased\", \"purchased\", \"purchased\", \"purse\", \"purse\", \"purse\", \"purse\", \"purse\", \"purse\", \"purse\", \"put\", \"put\", \"put\", \"put\", \"put\", \"put\", \"put\", \"put\", \"put\", \"put\", \"put\", \"put\", \"quaility\", \"quality\", \"quality\", \"quality\", \"quality\", \"quality\", \"quality\", \"quality\", \"quality\", \"quality\", \"quality\", \"quality\", \"quality\", \"really\", \"really\", \"really\", \"really\", \"really\", \"really\", \"really\", \"really\", \"really\", \"really\", \"really\", \"really\", \"recepion\", \"receptacle\", \"receptical\", \"recived\", \"recogition\", \"recomend\", \"recommencement\", \"recommend\", \"recommend\", \"recommend\", \"recommend\", \"recommend\", \"recommend\", \"recommend\", \"recommend\", \"recommend\", \"recommend\", \"recommend\", \"recommend\", \"reconditioned\", \"redirect\", \"repalcement\", \"replacethese\", \"represented\", \"rereview\", \"rescue\", \"researching\", \"residence\", \"resolved\", \"reviewed\", \"right\", \"right\", \"right\", \"right\", \"right\", \"right\", \"right\", \"right\", \"right\", \"right\", \"right\", \"right\", \"rotating\", \"sabrent\", \"sabrent\", \"sabrent\", \"safe\", \"safe\", \"samsung\", \"samsung\", \"samsung\", \"samsung\", \"samsung\", \"samsung\", \"samsung\", \"samsung\", \"samsung\", \"samsung\", \"samsung\", \"samsung\", \"sansung\", \"satasfied\", \"say\", \"say\", \"say\", \"say\", \"say\", \"say\", \"say\", \"say\", \"say\", \"say\", \"say\", \"say\", \"scammer\", \"scheduled\", \"screen\", \"screen\", \"screen\", \"screen\", \"screen\", \"screen\", \"screen\", \"screen\", \"screen\", \"screen\", \"screen\", \"screen\", \"scuffed\", \"searching\", \"searching\", \"searching\", \"see\", \"see\", \"see\", \"see\", \"see\", \"see\", \"see\", \"see\", \"see\", \"see\", \"see\", \"seems\", \"seems\", \"seems\", \"seems\", \"seems\", \"seems\", \"seems\", \"seems\", \"seems\", \"seems\", \"seems\", \"seems\", \"service\", \"service\", \"service\", \"service\", \"service\", \"service\", \"service\", \"service\", \"service\", \"service\", \"service\", \"service\", \"set\", \"set\", \"set\", \"set\", \"set\", \"set\", \"set\", \"set\", \"set\", \"set\", \"set\", \"set\", \"setfills\", \"sgsii\", \"shapetightness\", \"shelf\", \"shelf\", \"shelf\", \"shelf\", \"shining\", \"shipping\", \"shipping\", \"shipping\", \"shipping\", \"shipping\", \"shipping\", \"shipping\", \"shipping\", \"shipping\", \"shoes\", \"shortage\", \"shortly\", \"signal\", \"signal\", \"signal\", \"signal\", \"signal\", \"signal\", \"signal\", \"signal\", \"signal\", \"signal\", \"signal\", \"sii\", \"sii\", \"similarly\", \"siri\", \"siri\", \"sister\", \"sister\", \"sister\", \"situationi\", \"six\", \"skill\", \"skill\", \"skype\", \"skype\", \"skype\", \"skype\", \"skype\", \"sleazy\", \"slid\", \"slider\", \"slot\", \"slot\", \"slot\", \"slot\", \"slot\", \"slot\", \"slvr\", \"small\", \"small\", \"small\", \"small\", \"small\", \"small\", \"small\", \"small\", \"small\", \"small\", \"small\", \"small\", \"smells\", \"snapped\", \"snazzy\", \"soaked\", \"soap\", \"softer\", \"software\", \"software\", \"software\", \"software\", \"software\", \"software\", \"software\", \"software\", \"software\", \"software\", \"software\", \"soldier\", \"solution\", \"solution\", \"solution\", \"solution\", \"solvedhas\", \"sound\", \"sound\", \"sound\", \"sound\", \"sound\", \"sound\", \"sound\", \"sound\", \"sound\", \"sound\", \"sound\", \"sound\", \"soundi\", \"specially\", \"specified\", \"sphl\", \"spigen\", \"spouse\", \"spray\", \"srecommend\", \"st\", \"stained\", \"stand\", \"stand\", \"stand\", \"stand\", \"stand\", \"stand\", \"stand\", \"stand\", \"stand\", \"stand\", \"stand\", \"stand\", \"staring\", \"starpluss\", \"sthe\", \"stick\", \"stick\", \"stick\", \"stick\", \"stick\", \"stick\", \"stick\", \"stick\", \"stick\", \"stick\", \"stickers\", \"sticky\", \"sticky\", \"sticky\", \"sticky\", \"sticky\", \"still\", \"still\", \"still\", \"still\", \"still\", \"still\", \"still\", \"still\", \"still\", \"still\", \"still\", \"still\", \"stopped\", \"stopped\", \"stopped\", \"stopped\", \"stopped\", \"stopped\", \"stopped\", \"stopped\", \"stopped\", \"strength\", \"strength\", \"strength\", \"strength\", \"strength\", \"strength\", \"strength\", \"strip\", \"strip\", \"sts\", \"sturdily\", \"sturdy\", \"sturdy\", \"sturdy\", \"sturdy\", \"sturdy\", \"sturdy\", \"sturdy\", \"sturdy\", \"sturdy\", \"suburbani\", \"sun\", \"supper\", \"swing\", \"swings\", \"tab\", \"tablesome\", \"tablet\", \"tablet\", \"tablets\", \"tact\", \"take\", \"take\", \"take\", \"take\", \"take\", \"take\", \"take\", \"take\", \"take\", \"take\", \"take\", \"take\", \"talk\", \"talk\", \"talk\", \"talk\", \"talk\", \"talk\", \"talk\", \"talk\", \"talk\", \"talk\", \"teamspeak\", \"techies\", \"technition\", \"text\", \"text\", \"text\", \"text\", \"text\", \"text\", \"text\", \"text\", \"text\", \"text\", \"text\", \"thanks\", \"thanks\", \"thanks\", \"thanks\", \"thanks\", \"thanks\", \"thanks\", \"themthe\", \"thickest\", \"thing\", \"thing\", \"thing\", \"thing\", \"thing\", \"thing\", \"thing\", \"thing\", \"thing\", \"thing\", \"thing\", \"thing\", \"thivk\", \"though\", \"though\", \"though\", \"though\", \"though\", \"though\", \"though\", \"though\", \"though\", \"though\", \"though\", \"though\", \"thought\", \"thought\", \"thought\", \"thought\", \"thought\", \"thought\", \"thought\", \"thought\", \"thought\", \"thought\", \"thought\", \"thought\", \"tight\", \"tight\", \"tight\", \"tight\", \"tight\", \"tight\", \"tight\", \"time\", \"time\", \"time\", \"time\", \"time\", \"time\", \"time\", \"time\", \"time\", \"time\", \"time\", \"time\", \"tis\", \"tmobile\", \"tmobile\", \"tmobile\", \"tmobile\", \"tmobile\", \"tmobile\", \"tmobile\", \"tmobile\", \"tmobile\", \"tmobile\", \"tmobile\", \"tone\", \"tone\", \"tone\", \"tone\", \"tone\", \"took\", \"took\", \"took\", \"took\", \"took\", \"took\", \"took\", \"took\", \"took\", \"took\", \"took\", \"took\", \"tothere\", \"touchpads\", \"touchy\", \"transactions\", \"transmitting\", \"transportgreat\", \"trash\", \"trash\", \"tricked\", \"triedthe\", \"tryed\", \"tuck\", \"tweezer\", \"twiceall\", \"two\", \"two\", \"two\", \"two\", \"two\", \"two\", \"two\", \"two\", \"two\", \"two\", \"two\", \"two\", \"type\", \"type\", \"type\", \"type\", \"type\", \"type\", \"type\", \"type\", \"type\", \"type\", \"type\", \"type\", \"underpowered\", \"unit\", \"unit\", \"unit\", \"unit\", \"unit\", \"unit\", \"unit\", \"unit\", \"unit\", \"unit\", \"unit\", \"unit\", \"unpack\", \"unstuck\", \"upgrated\", \"upset\", \"upset\", \"usa\", \"usb\", \"usb\", \"usb\", \"usb\", \"usb\", \"usb\", \"usb\", \"usb\", \"usb\", \"usb\", \"usb\", \"usb\", \"use\", \"use\", \"use\", \"use\", \"use\", \"use\", \"use\", \"use\", \"use\", \"use\", \"use\", \"use\", \"used\", \"used\", \"used\", \"used\", \"used\", \"used\", \"used\", \"used\", \"used\", \"used\", \"used\", \"used\", \"uselessness\", \"usenot\", \"usevery\", \"using\", \"using\", \"using\", \"using\", \"using\", \"using\", \"using\", \"using\", \"using\", \"using\", \"using\", \"using\", \"usps\", \"utilizes\", \"valuables\", \"value\", \"value\", \"value\", \"value\", \"value\", \"value\", \"value\", \"value\", \"value\", \"value\", \"vender\", \"verison\", \"via\", \"via\", \"via\", \"via\", \"via\", \"via\", \"via\", \"via\", \"via\", \"via\", \"voice\", \"voice\", \"voice\", \"voice\", \"voice\", \"voice\", \"voice\", \"voice\", \"voice\", \"voice\", \"voice\", \"voice\", \"voided\", \"volume\", \"volume\", \"volume\", \"volume\", \"volume\", \"volume\", \"volume\", \"volume\", \"volume\", \"volume\", \"volume\", \"volume\", \"walkietalkie\", \"walkietalkie\", \"wall\", \"wall\", \"wall\", \"wall\", \"wall\", \"wall\", \"wall\", \"want\", \"want\", \"want\", \"want\", \"want\", \"want\", \"want\", \"want\", \"want\", \"want\", \"want\", \"want\", \"watchout\", \"watts\", \"watts\", \"watts\", \"way\", \"way\", \"way\", \"way\", \"way\", \"way\", \"way\", \"way\", \"way\", \"way\", \"way\", \"way\", \"webcam\", \"webcam\", \"well\", \"well\", \"well\", \"well\", \"well\", \"well\", \"well\", \"well\", \"well\", \"well\", \"well\", \"well\", \"wella\", \"welldesigned\", \"wellgood\", \"wet\", \"wheeldrivingif\", \"whistels\", \"whoa\", \"whooshing\", \"win\", \"win\", \"wipes\", \"work\", \"work\", \"work\", \"work\", \"work\", \"work\", \"work\", \"work\", \"work\", \"work\", \"work\", \"work\", \"workand\", \"worked\", \"worked\", \"worked\", \"worked\", \"worked\", \"worked\", \"worked\", \"worked\", \"worked\", \"worked\", \"worked\", \"worked\", \"works\", \"works\", \"works\", \"works\", \"works\", \"works\", \"works\", \"works\", \"works\", \"works\", \"works\", \"works\", \"worksgreat\", \"workthis\", \"worth\", \"worth\", \"worth\", \"worth\", \"worth\", \"worth\", \"worth\", \"worth\", \"worth\", \"worth\", \"worth\", \"worth\", \"would\", \"would\", \"would\", \"would\", \"would\", \"would\", \"would\", \"would\", \"would\", \"would\", \"would\", \"would\", \"wraparound\", \"wrist\", \"wrist\", \"yellowed\"]}, \"R\": 30, \"lambda.step\": 0.01, \"plot.opts\": {\"xlab\": \"PC1\", \"ylab\": \"PC2\"}, \"topic.order\": [1, 2, 3, 4, 5, 6, 7, 8, 9, 10, 11, 12]};\n",
       "\n",
       "function LDAvis_load_lib(url, callback){\n",
       "  var s = document.createElement('script');\n",
       "  s.src = url;\n",
       "  s.async = true;\n",
       "  s.onreadystatechange = s.onload = callback;\n",
       "  s.onerror = function(){console.warn(\"failed to load library \" + url);};\n",
       "  document.getElementsByTagName(\"head\")[0].appendChild(s);\n",
       "}\n",
       "\n",
       "if(typeof(LDAvis) !== \"undefined\"){\n",
       "   // already loaded: just create the visualization\n",
       "   !function(LDAvis){\n",
       "       new LDAvis(\"#\" + \"ldavis_el693921404533147111041334430853\", ldavis_el693921404533147111041334430853_data);\n",
       "   }(LDAvis);\n",
       "}else if(typeof define === \"function\" && define.amd){\n",
       "   // require.js is available: use it to load d3/LDAvis\n",
       "   require.config({paths: {d3: \"https://d3js.org/d3.v5\"}});\n",
       "   require([\"d3\"], function(d3){\n",
       "      window.d3 = d3;\n",
       "      LDAvis_load_lib(\"https://cdn.jsdelivr.net/gh/bmabey/pyLDAvis@3.4.0/pyLDAvis/js/ldavis.v3.0.0.js\", function(){\n",
       "        new LDAvis(\"#\" + \"ldavis_el693921404533147111041334430853\", ldavis_el693921404533147111041334430853_data);\n",
       "      });\n",
       "    });\n",
       "}else{\n",
       "    // require.js not available: dynamically load d3 & LDAvis\n",
       "    LDAvis_load_lib(\"https://d3js.org/d3.v5.js\", function(){\n",
       "         LDAvis_load_lib(\"https://cdn.jsdelivr.net/gh/bmabey/pyLDAvis@3.4.0/pyLDAvis/js/ldavis.v3.0.0.js\", function(){\n",
       "                 new LDAvis(\"#\" + \"ldavis_el693921404533147111041334430853\", ldavis_el693921404533147111041334430853_data);\n",
       "            })\n",
       "         });\n",
       "}\n",
       "</script>"
      ],
      "text/plain": [
       "<IPython.core.display.HTML object>"
      ]
     },
     "execution_count": 89,
     "metadata": {},
     "output_type": "execute_result"
    }
   ],
   "source": [
    "pyLDAvis.enable_notebook()\n",
    "pyLDAvis.display(data)"
   ]
  },
  {
   "cell_type": "markdown",
   "metadata": {
    "id": "Ukn2e3iWRoIz"
   },
   "source": [
    "# 2.word2Vec [40pts]\n",
    "\n",
    "\n",
    "In this problem, we use Amazon Review Dataset to perform Word2Vec and Doc2Vec to extract insights relevant for e-commerce business. For this question, download and use the dataset [here](http://snap.stanford.edu/data/amazon/productGraph/categoryFiles/reviews_Electronics_5.json.gz||reviews_Electronics_5.json.gz)."
   ]
  },
  {
   "cell_type": "markdown",
   "metadata": {
    "id": "-UKcbiFCRuJr"
   },
   "source": [
    "## 2.1 Data Cleaning\n",
    "\n"
   ]
  },
  {
   "cell_type": "markdown",
   "metadata": {
    "id": "mcw3Abp6R549"
   },
   "source": [
    "The following code reads the data from a GZIP file."
   ]
  },
  {
   "cell_type": "code",
   "execution_count": 100,
   "metadata": {
    "id": "T-HJ5AnnRpFB"
   },
   "outputs": [],
   "source": [
    "# A function to read the zipped data at a specfic path\n",
    "#\n",
    "# How to use:\n",
    "# PATH = \"/path/to/file\"\n",
    "# for line in parse(PATH):\n",
    "#   do something with line\n",
    "#\n",
    "def parse(path):\n",
    "    g = gzip.open(path, 'r')\n",
    "    for l in g:\n",
    "        yield eval(l)"
   ]
  },
  {
   "cell_type": "markdown",
   "metadata": {
    "id": "O543cF24R81Z"
   },
   "source": [
    "We will now read the data and preprocess it using the following steps:\n",
    "\n",
    "   1. Remove stopwords\n",
    "   2. Lower-case all words\n",
    "   3. Remove words with less than 2 characters\n",
    "   4. Remove punctuation\n",
    "   5. Split each sentence into a list of words\n",
    "\n",
    "   And finally extract 10000 reviews."
   ]
  },
  {
   "cell_type": "code",
   "execution_count": 101,
   "metadata": {
    "id": "4_GNZ3ikR_rE"
   },
   "outputs": [],
   "source": [
    "# A function to clean a single line of text\n",
    "def clean_line(line):\n",
    "    \"\"\" Clean stopwords and punction for each line\n",
    "    \n",
    "    Args: \n",
    "        line (string): one line in file\n",
    "        \n",
    "    Returns:\n",
    "        list(str): a list of all words in the sentence\n",
    "    \"\"\"\n",
    "    punctuationRegex = r'\\W+|\\d+'\n",
    "    stopWords = set(stopwords.words('english'))\n",
    "    line = line.split(\" \")\n",
    "    filtered_content = []\n",
    "    for word in line:\n",
    "        word = word.lower()\n",
    "        word = re.sub(punctuationRegex, '', word)\n",
    "        if word not in stopWords and word != '' and len(word) > 2:\n",
    "            filtered_content.append(word)\n",
    "        \n",
    "    return filtered_content"
   ]
  },
  {
   "cell_type": "code",
   "execution_count": 102,
   "metadata": {},
   "outputs": [],
   "source": [
    "def read_dataset(fname):\n",
    "    \"\"\" Read the 10000 lines in given dataset into list and clean stop words. \n",
    "        \n",
    "    Args: \n",
    "        fname (string): filename of Amazon Review Dataset\n",
    "        \n",
    "    Returns:\n",
    "        list of list of words: we view each document as a list, including a list of all words \n",
    "    \"\"\"\n",
    "    count = 0\n",
    "    exp_dataset = []\n",
    "    for review in parse(fname):\n",
    "        line = review[\"reviewText\"]\n",
    "        new_line = clean_line(line)\n",
    "        exp_dataset.append(new_line)\n",
    "        count += 1\n",
    "        if count > 10000:\n",
    "            break\n",
    "    return exp_dataset"
   ]
  },
  {
   "cell_type": "code",
   "execution_count": 103,
   "metadata": {
    "id": "zaf3YFgHTNr3"
   },
   "outputs": [
    {
     "name": "stdout",
     "output_type": "stream",
     "text": [
      "CPU times: user 1.94 s, sys: 118 ms, total: 2.06 s\n",
      "Wall time: 2.06 s\n"
     ]
    }
   ],
   "source": [
    "%%time\n",
    "r = read_dataset(\"reviews_Electronics_5.json.gz\")"
   ]
  },
  {
   "cell_type": "markdown",
   "metadata": {
    "id": "JamafEPNS3Ii"
   },
   "source": [
    "## 2.2 Build a doc2vec model"
   ]
  },
  {
   "cell_type": "markdown",
   "metadata": {
    "id": "BFMVOQgrTi9s"
   },
   "source": [
    "**[3pts]2.2.1** In this question, first we will build a Word2Vec model using ginsim using size=300, min_count=40, win- dow=10, negative=10, max_vocab_size=10000. Train the model for 30 epochs."
   ]
  },
  {
   "cell_type": "code",
   "execution_count": 104,
   "metadata": {
    "id": "5gGK2QnKTfdO"
   },
   "outputs": [],
   "source": [
    "from gensim.models import Word2Vec\n",
    "import multiprocessing\n",
    "\n",
    "# Read the dataset\n",
    "dataset_path = \"reviews_Electronics_5.json.gz\"\n",
    "sentences = read_dataset(dataset_path)\n",
    "\n",
    "# Set up parameters for Word2Vec model\n",
    "num_features = 300  # Size of the word vectors\n",
    "min_word_count = 40  # Minimum frequency of words to be included in the vocabulary\n",
    "context_size = 10  # Size of the context window\n",
    "num_negative = 10  # Number of negative samples to be used in training\n",
    "max_vocab_size = 10000  # Maximum size of the vocabulary\n",
    "num_epochs = 30  # Number of iterations over the dataset\n",
    "\n",
    "# Build the Word2Vec model\n",
    "model = Word2Vec(sentences=sentences, vector_size=num_features, window=context_size,\n",
    "                 min_count=min_word_count, negative=num_negative,\n",
    "                 max_vocab_size=max_vocab_size, workers=multiprocessing.cpu_count())\n",
    "\n",
    "\n",
    "# Train the model for the specified number of epochs\n",
    "model.train(sentences, total_examples=model.corpus_count, epochs=num_epochs)\n",
    "\n",
    "# Save the trained model\n",
    "model.save(\"word2vec.model\")"
   ]
  },
  {
   "cell_type": "markdown",
   "metadata": {
    "id": "IPnJE0pQT6jr"
   },
   "source": [
    "**[2pts]2.2.2** Use model.wv.doesnt_match to find a word in [\"Canon\",\"Nikon\",\"junk\"] that does not\n",
    "\n",
    "belong."
   ]
  },
  {
   "cell_type": "code",
   "execution_count": 105,
   "metadata": {
    "id": "pGQT-f_OTqnX"
   },
   "outputs": [
    {
     "name": "stdout",
     "output_type": "stream",
     "text": [
      "junk\n"
     ]
    }
   ],
   "source": [
    "# YOUR CODE HERE [\"Canon\", \"Nikon\", \"junk\"]\n",
    "words = [\"Canon\", \"Nikon\", \"junk\"]\n",
    "odd_word = model.wv.doesnt_match(words)\n",
    "print(odd_word)"
   ]
  },
  {
   "cell_type": "markdown",
   "metadata": {
    "id": "a44R5v_-UFXp"
   },
   "source": [
    "**[3pts]2.2.3** Come up with 3 other word lists and apply the above function. Explain your observation."
   ]
  },
  {
   "cell_type": "code",
   "execution_count": 106,
   "metadata": {
    "id": "GP9dTi1yUNGR"
   },
   "outputs": [
    {
     "name": "stdout",
     "output_type": "stream",
     "text": [
      "writing\n"
     ]
    }
   ],
   "source": [
    "# write your code here\n",
    "words3 = [\"singing\", \"dancing\", \"writing\", \"cooking\", \"swimming\"]\n",
    "odd_word3 = model.wv.doesnt_match(words3)\n",
    "print(odd_word3)"
   ]
  },
  {
   "cell_type": "markdown",
   "metadata": {
    "id": "mlZKiD_DUN00"
   },
   "source": [
    "The other words are all activities that involve physical movement, while \"writing\" is a sedentary activity."
   ]
  },
  {
   "cell_type": "markdown",
   "metadata": {
    "id": "SLz_WXiHUG4L"
   },
   "source": [
    "**[2pts]2.2.4** What are some tasks in e-commerce that can be solved with this simple function?"
   ]
  },
  {
   "cell_type": "markdown",
   "metadata": {
    "id": "IjaKCXMEUYyM"
   },
   "source": [
    "Search relevance: In e-commerce search engines, this function can be used to identify search terms that do not match the products being sold. For example, if a customer searches for \"laptop accessories\" on an e-commerce site, this function can be used to identify any search terms that do not match the products being sold, such as \"furniture\" or \"clothing\". This can help improve search relevance and accuracy.\n"
   ]
  },
  {
   "cell_type": "markdown",
   "metadata": {
    "id": "2ZmhD59iUtR3"
   },
   "source": [
    "## 2.3 Build a doc2vec model"
   ]
  },
  {
   "cell_type": "markdown",
   "metadata": {
    "id": "cRC20sS1VYJN"
   },
   "source": [
    "**[15 pts] 2.3.1**  Each review is marked by other customers as “helpful” or not. The \"helpful: [a, b]\" item in each review is (a) the number of people who marked the review as helpful, and (b) the total number of people who have marked the review as helpful or unhelpful. The \"helpfulness\" score of a review can be calculated as a/b. Define a \"helpful\" review as one with helpfulness score >= 0.8. Given a review that is only slightly helpful, could we find textually similar reviews but have higher helpfulness? Build Doc2Vec model with gensim on review data. Use product ID “B00006I5WJ” and ReviewerID with “A14453U0KFWF31” as an example, find top 5 helpful reviews of the same product with similarity score above 0.8. "
   ]
  },
  {
   "cell_type": "code",
   "execution_count": 107,
   "metadata": {
    "id": "xGDDL9a4UBGi"
   },
   "outputs": [],
   "source": [
    "import os\n",
    "def read_reviewers_data(fname, min_count=0):\n",
    "    '''\n",
    "    Save all reviews into their own product asin files.\n",
    "    Make sure you have 'product' folder when you run this answer.\n",
    "    In each file, you can choose your own log structure. In this answer, log strucutre is like \n",
    "        \"reviewText\"\\t\"reviewerID\"\\t\"helpful\"\n",
    "    Args: \n",
    "        fname: dataset file path\n",
    "        min_count: minimum number of reviews of a product\n",
    "    Returns:\n",
    "        none\n",
    "    '''\n",
    "    if not os.path.isdir('product'):\n",
    "        os.makedirs('product')\n",
    "    asin_list = []\n",
    "    tmp_list = []\n",
    "    last_asin = \"\"\n",
    "    j = 0\n",
    "    for i in parse(fname):\n",
    "        if last_asin != i['asin']:\n",
    "            if len(tmp_list) > min_count:\n",
    "                f = open(\"product/\" + last_asin+\".txt\", 'w')\n",
    "                for one in tmp_list:\n",
    "                    f.write(one)\n",
    "                f.close()\n",
    "            tmp_list = []\n",
    "            last_asin = i['asin']\n",
    "        tmp_list.append(i[\"reviewText\"] + '\\t' + i[\"reviewerID\"] +\n",
    "                    '\\t' + handle_helpful(i[\"helpful\"]) + \"\\n\")\n",
    "        j += 1\n",
    "        if j > 100000:\n",
    "            break\n",
    "            \n",
    "def handle_helpful(helpful):\n",
    "    '''\n",
    "    Helper function for helpful_score calculate\n",
    "    Args: \n",
    "        helpful: list. The first element is the number of people think this is helpful. The second element\n",
    "            is the total number of people evaluate this comment\n",
    "    Returns:\n",
    "        String: number represent helpfulness\n",
    "    '''\n",
    "    if helpful[1] != 0:\n",
    "        helpfulness = 1.0 * helpful[0] / helpful[1]\n",
    "        return str(helpfulness)\n",
    "    else:\n",
    "        return str(0)"
   ]
  },
  {
   "cell_type": "code",
   "execution_count": 108,
   "metadata": {
    "id": "ZcaWNGSyban3"
   },
   "outputs": [],
   "source": [
    "read_reviewers_data(\"reviews_Electronics_5.json.gz\")"
   ]
  },
  {
   "cell_type": "code",
   "execution_count": 109,
   "metadata": {
    "id": "phyr9d9Zbvbe"
   },
   "outputs": [],
   "source": [
    "class TaggedReviewDocument(object):\n",
    "    '''\n",
    "    This class could save all products and review information in its dictionary and generate iter for TaggedDocument\n",
    "        which could used for Doc2Vec model\n",
    "    '''\n",
    "    def __init__(self, dirname):\n",
    "        self.dirname = dirname\n",
    "        self.helpfulness = {}  # key:reviewerID value:helpfulness\n",
    "        self.product = {}      # key:asin value:reviewerID\n",
    "        self.asin = []\n",
    "\n",
    "    def __iter__(self):\n",
    "        for filename in os.listdir(self.dirname):\n",
    "            asin_code = filename[:-4] #delete \".txt\"\n",
    "            self.product[asin_code] = []\n",
    "            self.asin.append(asin_code)\n",
    "            for line in enumerate(open(self.dirname + \"/\" + filename)):\n",
    "                line_content = line[1].split(\"\\t\")\n",
    "                self.product[asin_code].append(line_content[1])\n",
    "                self.helpfulness[line_content[1]] = float(line_content[2])\n",
    "                yield TaggedDocument(clean_line(line_content[0]), [line_content[1], line_content[2]])\n"
   ]
  },
  {
   "cell_type": "code",
   "execution_count": 110,
   "metadata": {
    "id": "59Ccalf7bwE2"
   },
   "outputs": [],
   "source": [
    "documents = TaggedReviewDocument(\"product\")"
   ]
  },
  {
   "cell_type": "code",
   "execution_count": 111,
   "metadata": {
    "id": "crSL0O9HbyPI"
   },
   "outputs": [
    {
     "name": "stdout",
     "output_type": "stream",
     "text": [
      "CPU times: user 17.3 s, sys: 739 ms, total: 18 s\n",
      "Wall time: 18 s\n"
     ]
    }
   ],
   "source": [
    "%%time\n",
    "from gensim.models.doc2vec import TaggedDocument, Doc2Vec\n",
    "model = gensim.models.doc2vec.Doc2Vec(vector_size=40, min_count=2, epochs=30)\n",
    "model.build_vocab(documents)"
   ]
  },
  {
   "cell_type": "code",
   "execution_count": 24,
   "metadata": {},
   "outputs": [
    {
     "name": "stdout",
     "output_type": "stream",
     "text": [
      "CPU times: user 13min 47s, sys: 48.7 s, total: 14min 36s\n",
      "Wall time: 10min 47s\n"
     ]
    }
   ],
   "source": [
    "%%time\n",
    "# training model\n",
    "model.train(documents, total_examples=model.corpus_count, epochs=model.epochs)"
   ]
  },
  {
   "cell_type": "code",
   "execution_count": 112,
   "metadata": {},
   "outputs": [
    {
     "name": "stdout",
     "output_type": "stream",
     "text": [
      "[ 0.00377679 -0.00988989  0.00709587  0.01139395 -0.00072623  0.0044816\n",
      " -0.0115565  -0.00490216  0.01012577 -0.00609813 -0.00576277 -0.00321292\n",
      "  0.00111237 -0.00879155  0.00591692  0.00073112  0.00058264 -0.00292884\n",
      " -0.0068485  -0.00727814 -0.01194969  0.01120882  0.00700679  0.01214727\n",
      " -0.00680505  0.00554709 -0.00825797  0.01036192  0.00476772  0.00325028\n",
      "  0.00545589 -0.00509526 -0.01086845  0.00681125  0.01040555  0.0028075\n",
      "  0.00070312  0.00197323  0.00030203  0.00999978]\n"
     ]
    }
   ],
   "source": [
    "print(model.infer_vector(['violent', 'means', 'to', 'destroy', 'the','organization']))"
   ]
  },
  {
   "cell_type": "code",
   "execution_count": 115,
   "metadata": {},
   "outputs": [],
   "source": [
    "product_id = 'B00006I5WJ'\n",
    "reviewer_id = 'A14453U0KFWF31'"
   ]
  },
  {
   "cell_type": "code",
   "execution_count": 116,
   "metadata": {},
   "outputs": [
    {
     "name": "stdout",
     "output_type": "stream",
     "text": [
      "Top 5 similar reviews for product B00006I5WJ and reviewer A14453U0KFWF31:\n",
      "Review text: A2IXUSSQ4KJEAX\n",
      "Similarity score: 0.0009008933557197452\n",
      "Helpfulness score: 1.0\n",
      "\n",
      "\n",
      "Review text: A2VOVOB2HOI19Y\n",
      "Similarity score: 0.000555880949832499\n",
      "Helpfulness score: 1.0\n",
      "\n",
      "\n",
      "Review text: A2HUJ5591OJ5GP\n",
      "Similarity score: 0.0005534884403459728\n",
      "Helpfulness score: 1.0\n",
      "\n",
      "\n",
      "Review text: A1MSY5U64K1Y3D\n",
      "Similarity score: 0.0005196036072447896\n",
      "Helpfulness score: 1.0\n",
      "\n",
      "\n",
      "Review text: AV2RJE8ON6SMS\n",
      "Similarity score: 0.00048726939712651074\n",
      "Helpfulness score: 1.0\n",
      "\n",
      "\n"
     ]
    }
   ],
   "source": [
    "import numpy as np\n",
    "\n",
    "# Get the vectors for the target review\n",
    "target_review = documents.product[product_id][documents.product[product_id].index(reviewer_id)]\n",
    "target_vec = model.infer_vector(clean_line(target_review))\n",
    "\n",
    "# Find similar reviews with a helpfulness score >= 0.8\n",
    "similar_reviews = []\n",
    "for review in documents.product[product_id]:\n",
    "    review_vec = model.infer_vector(clean_line(review))\n",
    "    similarity = np.dot(target_vec, review_vec)\n",
    "    helpfulness = documents.helpfulness[review]\n",
    "    if helpfulness >= 0.8 and review != target_review:\n",
    "        similar_reviews.append((review, similarity, helpfulness))\n",
    "\n",
    "# Sort the similar reviews by similarity score in descending order\n",
    "similar_reviews.sort(key=lambda x: x[1], reverse=True)\n",
    "\n",
    "# Print the top 5 similar reviews\n",
    "print(f\"Top 5 similar reviews for product {product_id} and reviewer {reviewer_id}:\")\n",
    "for i in range(5):\n",
    "    print(f\"Review text: {similar_reviews[i][0]}\")\n",
    "    print(f\"Similarity score: {similar_reviews[i][1]}\")\n",
    "    print(f\"Helpfulness score: {similar_reviews[i][2]}\")\n",
    "    print(\"\\n\")"
   ]
  },
  {
   "cell_type": "markdown",
   "metadata": {
    "id": "HbabO2WUcZxJ"
   },
   "source": [
    "## Find similar reviews"
   ]
  },
  {
   "cell_type": "code",
   "execution_count": 117,
   "metadata": {
    "id": "yCI8l3_9b0ru"
   },
   "outputs": [],
   "source": [
    "def find_similar_reviews(asin,reviewer_id):\n",
    "    '''\n",
    "    If one review is similar to the specefic review and it is much helpful, save it to a list\n",
    "    Args: \n",
    "        asin: product asin\n",
    "        reviewer_id: the specific review\n",
    "    Returns:\n",
    "        list of reviewer id\n",
    "    '''\n",
    "    result = []\n",
    "# Get the vectors for the target review\n",
    "    target_review = documents.product.get(asin, [])[documents.product.get(asin, []).index(reviewer_id)]\n",
    "    target_vec = model.infer_vector(clean_line(target_review))\n",
    "\n",
    "    # Find similar reviews with a helpfulness score >= 0.8\n",
    "    for review in documents.product.get(asin, []):\n",
    "        if review != target_review:\n",
    "            review_vec = model.infer_vector(clean_line(review))\n",
    "            similarity = np.dot(target_vec, review_vec)\n",
    "            helpfulness = documents.helpfulness[review]\n",
    "            if helpfulness >= 0.8 and review != target_review:\n",
    "                result.append(documents.product[asin][documents.product[asin].index(review)])\n",
    "    return result"
   ]
  },
  {
   "cell_type": "code",
   "execution_count": 118,
   "metadata": {
    "id": "TU-cVz3cc6gO"
   },
   "outputs": [
    {
     "name": "stdout",
     "output_type": "stream",
     "text": [
      "['A2IXUSSQ4KJEAX', 'A5R2B0FQ4DXYE', 'A2METVF6WV7OZT', 'A36BDWLPMQQR66', 'A34I0THENPIH02', 'A1FX4T79YE9CKA', 'AK73Y669AMPVS', 'A2VOVOB2HOI19Y', 'A1ZJSYEQQDIDAA', 'A1D0KL9ZD7SU56', 'AV2RJE8ON6SMS', 'A1XX32LG8E078Y', 'A186O61T87WGYG', 'A2HUJ5591OJ5GP', 'AGITH5SMFTBOB', 'A31C6U0IWYJE7R', 'A5C7KD02LS69I', 'AOUKRECWP828A', 'A32TSY95CFGCL2', 'A3EB98NUJ4ASUB', 'A1R3VSOOBW5H7T', 'A1MSY5U64K1Y3D', 'A12EXVA5RIZY6L', 'A19BA3QWTJ1ICZ', 'A2JOEQNS9LR0NF', 'A3GTQ229J3PFN8', 'A78AJA7ZP13OI', 'A3I4TQNEO4G6LT', 'A1GWQIOSUI37T4', 'A2S8ED4LF0R78W', 'A2BHFIUH37S38J', 'A1STXUS7VN9MVC', 'A3EO01MD60DOMO', 'A1AVL8TRVC5PZ4', 'A11T7CEFCSAM9W', 'A9FUQA04WK9N2', 'A2NSR2R4M8CWC2', 'A8RMRH930ZACE', 'A6FIAB28IS79', 'A2A0HREDAG2QIC', 'ALDA72MNSJVOK', 'A2QQZ3U2MLBF6C', 'AO6URI25USNBS', 'AJZ0V9Q3ZVYWV']\n"
     ]
    }
   ],
   "source": [
    "print(find_similar_reviews(\"B00006I5WJ\", \"A14453U0KFWF31\")) "
   ]
  },
  {
   "cell_type": "markdown",
   "metadata": {
    "id": "6KIVR0OodJbc"
   },
   "source": [
    "## 2.4 Build a doc2vec model using product descriptions\n"
   ]
  },
  {
   "cell_type": "markdown",
   "metadata": {
    "id": "6aP5_XP5dO2i"
   },
   "source": [
    "**[10pts]2.4.1** Use product descriptions (located in meta data  [here](http://snap.stanford.edu/data/amazon/productGraph/categoryFiles/meta_Electronics.json.gz)) to build a Doc2Vec model. When building the doc2vec model, use vector_size=100, window=15, min_count=5, max_vocab_size=1000, and train it for 1 epoch."
   ]
  },
  {
   "cell_type": "code",
   "execution_count": 119,
   "metadata": {
    "id": "6j9r0LvidJ7V"
   },
   "outputs": [],
   "source": [
    "def read_product_description(fname):\n",
    "    '''\n",
    "    Load all product descriptions\n",
    "    Args: \n",
    "        fname: dataset file path\n",
    "    Returns:\n",
    "        dict: key is asin, value is description content\n",
    "    '''\n",
    "    result = {}\n",
    "    for i in parse(fname):\n",
    "        try:\n",
    "            if \"Camera & Photo\" in i[\"categories\"][0]:\n",
    "                result[i[\"asin\"]]=i[\"description\"]\n",
    "        except:\n",
    "            continue\n",
    "    return result"
   ]
  },
  {
   "cell_type": "code",
   "execution_count": 120,
   "metadata": {
    "id": "XrSISgv3df6_"
   },
   "outputs": [],
   "source": [
    "class TaggedDescriptionDocument(object):\n",
    "    '''\n",
    "    This class could save all products and review information in its dictionary and generate iter for TaggedDocument\n",
    "        which could used for Doc2Vec model\n",
    "    '''\n",
    "    def __init__(self, descriptondict):\n",
    "        self.descriptondict = descriptondict\n",
    "        \n",
    "\n",
    "    def __iter__(self):\n",
    "        for asin in self.descriptondict:\n",
    "            for content in self.descriptondict[asin]:\n",
    "                yield TaggedDocument(clean_line(content), [asin])\n"
   ]
  },
  {
   "cell_type": "code",
   "execution_count": 121,
   "metadata": {
    "id": "yTRwOCtldinm"
   },
   "outputs": [],
   "source": [
    "description_dict = read_product_description(\"meta_Electronics.json.gz\")\n",
    "des_documents = TaggedDescriptionDocument(description_dict)"
   ]
  },
  {
   "cell_type": "code",
   "execution_count": 122,
   "metadata": {
    "id": "0eG6BC6oeNUA"
   },
   "outputs": [],
   "source": [
    "# Build a doc2vec model\n",
    "# YOUR CODE HERE\n",
    "# Import required libraries\n",
    "from gensim.models.doc2vec import Doc2Vec, TaggedDocument\n",
    "\n",
    "# Define function to clean text\n",
    "def clean_text(text):\n",
    "    cleaned_text = text.lower().replace('\\n', ' ').replace('\\r', '')\n",
    "    return cleaned_text\n",
    "\n",
    "# Define function to create tagged documents from description dictionary\n",
    "def create_tagged_documents(description_dict):\n",
    "    tagged_documents = []\n",
    "    for asin in description_dict:\n",
    "        tagged_documents.append(TaggedDocument(words=clean_text(description_dict[asin]).split(), tags=[asin]))\n",
    "    return tagged_documents\n",
    "\n",
    "# Load product descriptions\n",
    "description_dict = read_product_description(\"meta_Electronics.json.gz\")\n",
    "\n",
    "# Create tagged documents from description dictionary\n",
    "tagged_documents = create_tagged_documents(description_dict)\n",
    "\n",
    "# Train Doc2Vec model\n",
    "model = Doc2Vec(vector_size=100, window=15, min_count=5, max_vocab_size=1000, epochs=1)\n",
    "model.build_vocab(tagged_documents)\n",
    "model.train(tagged_documents, total_examples=model.corpus_count, epochs=model.epochs)"
   ]
  },
  {
   "cell_type": "markdown",
   "metadata": {
    "id": "pvwRTr6ueRS4"
   },
   "source": [
    "**[5pts]2.4.2** Find the most similar product for Canon EOS 5D (asin:B0007Y791C) not made by Canon."
   ]
  },
  {
   "cell_type": "code",
   "execution_count": 124,
   "metadata": {
    "id": "wrQZo-AleN-O"
   },
   "outputs": [
    {
     "name": "stdout",
     "output_type": "stream",
     "text": [
      "The most similar product to World's smallest and lightest full-frame digital SLR as of August 2005 the sensor operates without a conversion factor.New larger 2.5-inch LCD screen can be viewed even at extreme angles of up to 170 degrees.New larger 2.5-inch LCD screen can be viewed even at extreme angles of up to 170 degrees.Consecutive shooting allows the capture of 3.0 frames per second for up to 60 consecutive JPEG or 17 RAW frames in a burst. not made by Canon is B004H8FNF8\n"
     ]
    },
    {
     "name": "stderr",
     "output_type": "stream",
     "text": [
      "/var/folders/h1/w1j0fs7j02zcp2s9qrs4jxb80000gn/T/ipykernel_69392/1680722553.py:29: DeprecationWarning: Call to deprecated `docvecs` (The `docvecs` property has been renamed `dv`.).\n",
      "  similar_products = model.docvecs.most_similar([vector], topn=len(model.docvecs))\n",
      "/var/folders/h1/w1j0fs7j02zcp2s9qrs4jxb80000gn/T/ipykernel_69392/1680722553.py:29: DeprecationWarning: Call to deprecated `docvecs` (The `docvecs` property has been renamed `dv`.).\n",
      "  similar_products = model.docvecs.most_similar([vector], topn=len(model.docvecs))\n"
     ]
    }
   ],
   "source": [
    "#Write your code here\n",
    "import json\n",
    "from gensim.models.doc2vec import Doc2Vec, TaggedDocument\n",
    "\n",
    "# Load product descriptions\n",
    "description_dict = read_product_description(\"meta_Electronics.json.gz\")\n",
    "\n",
    "# Create tagged documents from description dictionary\n",
    "tagged_documents = create_tagged_documents(description_dict)\n",
    "\n",
    "# Train Doc2Vec model\n",
    "model = Doc2Vec(vector_size=100, window=15, min_count=5, max_vocab_size=1000, epochs=1)\n",
    "model.build_vocab(tagged_documents)\n",
    "model.train(tagged_documents, total_examples=model.corpus_count, epochs=model.epochs)\n",
    "\n",
    "# Get product name and description for Canon EOS 5D\n",
    "product_name = \"\"\n",
    "product_description = \"\"\n",
    "for asin in description_dict:\n",
    "    if asin == 'B0007Y791C':\n",
    "        product_name = description_dict[asin]\n",
    "        product_description = clean_text(product_name)\n",
    "        break\n",
    "\n",
    "# Get vector representation of Canon EOS 5D\n",
    "vector = model.infer_vector(product_description.split())\n",
    "\n",
    "# Find cosine similarities with other products\n",
    "similar_products = model.docvecs.most_similar([vector], topn=len(model.docvecs))\n",
    "\n",
    "# Filter out Canon products and get the most similar non-Canon product\n",
    "most_similar_product = None\n",
    "for product in similar_products:\n",
    "    asin = product[0]\n",
    "    for p in description_dict:\n",
    "        if p == asin and 'Canon' not in description_dict[p]:\n",
    "            most_similar_product = asin\n",
    "            break\n",
    "    if most_similar_product is not None:\n",
    "        break\n",
    "\n",
    "print(f\"The most similar product to {product_name} not made by Canon is {most_similar_product}\")\n",
    "\n"
   ]
  },
  {
   "cell_type": "code",
   "execution_count": null,
   "metadata": {
    "id": "Ild0RccPeVU3"
   },
   "outputs": [],
   "source": []
  }
 ],
 "metadata": {
  "colab": {
   "provenance": []
  },
  "kernelspec": {
   "display_name": "Python 3 (ipykernel)",
   "language": "python",
   "name": "python3"
  },
  "language_info": {
   "codemirror_mode": {
    "name": "ipython",
    "version": 3
   },
   "file_extension": ".py",
   "mimetype": "text/x-python",
   "name": "python",
   "nbconvert_exporter": "python",
   "pygments_lexer": "ipython3",
   "version": "3.9.12"
  }
 },
 "nbformat": 4,
 "nbformat_minor": 1
}
